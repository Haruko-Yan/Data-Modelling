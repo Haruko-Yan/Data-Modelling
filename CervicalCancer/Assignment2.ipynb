{
 "cells": [
  {
   "cell_type": "markdown",
   "metadata": {},
   "source": [
    "# Task 1: Retrieving and preparing the data\n",
    "The crevical cancer behavior risk data set has been choosen to achieve the task\n",
    "1. To read the file\n",
    "2. To retrieve the variables in the data set\n",
    "3. To modify the data in the data set, if the data existed null vales and obvious errors"
   ]
  },
  {
   "cell_type": "code",
   "execution_count": 1,
   "metadata": {},
   "outputs": [],
   "source": [
    "# import pandas library\n",
    "import pandas as pd"
   ]
  },
  {
   "cell_type": "code",
   "execution_count": 2,
   "metadata": {},
   "outputs": [],
   "source": [
    "# import numpy library\n",
    "import numpy as np"
   ]
  },
  {
   "cell_type": "code",
   "execution_count": 3,
   "metadata": {},
   "outputs": [],
   "source": [
    "# load the crevical cancer behavior risk data set\n",
    "sobar=\"sobar-72 (1).csv\""
   ]
  },
  {
   "cell_type": "code",
   "execution_count": 4,
   "metadata": {},
   "outputs": [],
   "source": [
    "# Read the data set from the sobar-72(1) file that called Cervical_Cancer\n",
    "Cervical_Cancer=pd.read_csv(sobar,sep=',',decimal='.')"
   ]
  },
  {
   "cell_type": "code",
   "execution_count": 5,
   "metadata": {},
   "outputs": [
    {
     "data": {
      "text/html": [
       "<div>\n",
       "<style scoped>\n",
       "    .dataframe tbody tr th:only-of-type {\n",
       "        vertical-align: middle;\n",
       "    }\n",
       "\n",
       "    .dataframe tbody tr th {\n",
       "        vertical-align: top;\n",
       "    }\n",
       "\n",
       "    .dataframe thead th {\n",
       "        text-align: right;\n",
       "    }\n",
       "</style>\n",
       "<table border=\"1\" class=\"dataframe\">\n",
       "  <thead>\n",
       "    <tr style=\"text-align: right;\">\n",
       "      <th></th>\n",
       "      <th>behavior_sexualRisk</th>\n",
       "      <th>behavior_eating</th>\n",
       "      <th>behavior_personalHygine</th>\n",
       "      <th>intention_aggregation</th>\n",
       "      <th>intention_commitment</th>\n",
       "      <th>attitude_consistency</th>\n",
       "      <th>attitude_spontaneity</th>\n",
       "      <th>norm_significantPerson</th>\n",
       "      <th>norm_fulfillment</th>\n",
       "      <th>perception_vulnerability</th>\n",
       "      <th>perception_severity</th>\n",
       "      <th>motivation_strength</th>\n",
       "      <th>motivation_willingness</th>\n",
       "      <th>socialSupport_emotionality</th>\n",
       "      <th>socialSupport_appreciation</th>\n",
       "      <th>socialSupport_instrumental</th>\n",
       "      <th>empowerment_knowledge</th>\n",
       "      <th>empowerment_abilities</th>\n",
       "      <th>empowerment_desires</th>\n",
       "      <th>ca_cervix</th>\n",
       "    </tr>\n",
       "  </thead>\n",
       "  <tbody>\n",
       "    <tr>\n",
       "      <th>0</th>\n",
       "      <td>10</td>\n",
       "      <td>13</td>\n",
       "      <td>12</td>\n",
       "      <td>4</td>\n",
       "      <td>7</td>\n",
       "      <td>9</td>\n",
       "      <td>10</td>\n",
       "      <td>1</td>\n",
       "      <td>8</td>\n",
       "      <td>7</td>\n",
       "      <td>3</td>\n",
       "      <td>14</td>\n",
       "      <td>8</td>\n",
       "      <td>5</td>\n",
       "      <td>7</td>\n",
       "      <td>12</td>\n",
       "      <td>12</td>\n",
       "      <td>11</td>\n",
       "      <td>8</td>\n",
       "      <td>1</td>\n",
       "    </tr>\n",
       "    <tr>\n",
       "      <th>1</th>\n",
       "      <td>10</td>\n",
       "      <td>11</td>\n",
       "      <td>11</td>\n",
       "      <td>10</td>\n",
       "      <td>14</td>\n",
       "      <td>7</td>\n",
       "      <td>7</td>\n",
       "      <td>5</td>\n",
       "      <td>5</td>\n",
       "      <td>4</td>\n",
       "      <td>2</td>\n",
       "      <td>15</td>\n",
       "      <td>13</td>\n",
       "      <td>7</td>\n",
       "      <td>6</td>\n",
       "      <td>5</td>\n",
       "      <td>5</td>\n",
       "      <td>4</td>\n",
       "      <td>4</td>\n",
       "      <td>1</td>\n",
       "    </tr>\n",
       "    <tr>\n",
       "      <th>2</th>\n",
       "      <td>10</td>\n",
       "      <td>15</td>\n",
       "      <td>3</td>\n",
       "      <td>2</td>\n",
       "      <td>14</td>\n",
       "      <td>8</td>\n",
       "      <td>10</td>\n",
       "      <td>1</td>\n",
       "      <td>4</td>\n",
       "      <td>7</td>\n",
       "      <td>2</td>\n",
       "      <td>7</td>\n",
       "      <td>3</td>\n",
       "      <td>3</td>\n",
       "      <td>6</td>\n",
       "      <td>11</td>\n",
       "      <td>3</td>\n",
       "      <td>3</td>\n",
       "      <td>15</td>\n",
       "      <td>1</td>\n",
       "    </tr>\n",
       "    <tr>\n",
       "      <th>3</th>\n",
       "      <td>10</td>\n",
       "      <td>11</td>\n",
       "      <td>10</td>\n",
       "      <td>10</td>\n",
       "      <td>15</td>\n",
       "      <td>7</td>\n",
       "      <td>7</td>\n",
       "      <td>1</td>\n",
       "      <td>5</td>\n",
       "      <td>4</td>\n",
       "      <td>2</td>\n",
       "      <td>15</td>\n",
       "      <td>13</td>\n",
       "      <td>7</td>\n",
       "      <td>4</td>\n",
       "      <td>4</td>\n",
       "      <td>4</td>\n",
       "      <td>4</td>\n",
       "      <td>4</td>\n",
       "      <td>1</td>\n",
       "    </tr>\n",
       "    <tr>\n",
       "      <th>4</th>\n",
       "      <td>8</td>\n",
       "      <td>11</td>\n",
       "      <td>7</td>\n",
       "      <td>8</td>\n",
       "      <td>10</td>\n",
       "      <td>7</td>\n",
       "      <td>8</td>\n",
       "      <td>1</td>\n",
       "      <td>5</td>\n",
       "      <td>3</td>\n",
       "      <td>2</td>\n",
       "      <td>15</td>\n",
       "      <td>5</td>\n",
       "      <td>3</td>\n",
       "      <td>6</td>\n",
       "      <td>12</td>\n",
       "      <td>5</td>\n",
       "      <td>4</td>\n",
       "      <td>7</td>\n",
       "      <td>1</td>\n",
       "    </tr>\n",
       "  </tbody>\n",
       "</table>\n",
       "</div>"
      ],
      "text/plain": [
       "   behavior_sexualRisk  behavior_eating  behavior_personalHygine  \\\n",
       "0                   10               13                       12   \n",
       "1                   10               11                       11   \n",
       "2                   10               15                        3   \n",
       "3                   10               11                       10   \n",
       "4                    8               11                        7   \n",
       "\n",
       "   intention_aggregation  intention_commitment  attitude_consistency  \\\n",
       "0                      4                     7                     9   \n",
       "1                     10                    14                     7   \n",
       "2                      2                    14                     8   \n",
       "3                     10                    15                     7   \n",
       "4                      8                    10                     7   \n",
       "\n",
       "   attitude_spontaneity  norm_significantPerson  norm_fulfillment  \\\n",
       "0                    10                       1                 8   \n",
       "1                     7                       5                 5   \n",
       "2                    10                       1                 4   \n",
       "3                     7                       1                 5   \n",
       "4                     8                       1                 5   \n",
       "\n",
       "   perception_vulnerability  perception_severity  motivation_strength  \\\n",
       "0                         7                    3                   14   \n",
       "1                         4                    2                   15   \n",
       "2                         7                    2                    7   \n",
       "3                         4                    2                   15   \n",
       "4                         3                    2                   15   \n",
       "\n",
       "   motivation_willingness  socialSupport_emotionality  \\\n",
       "0                       8                           5   \n",
       "1                      13                           7   \n",
       "2                       3                           3   \n",
       "3                      13                           7   \n",
       "4                       5                           3   \n",
       "\n",
       "   socialSupport_appreciation  socialSupport_instrumental  \\\n",
       "0                           7                          12   \n",
       "1                           6                           5   \n",
       "2                           6                          11   \n",
       "3                           4                           4   \n",
       "4                           6                          12   \n",
       "\n",
       "   empowerment_knowledge  empowerment_abilities  empowerment_desires  \\\n",
       "0                     12                     11                    8   \n",
       "1                      5                      4                    4   \n",
       "2                      3                      3                   15   \n",
       "3                      4                      4                    4   \n",
       "4                      5                      4                    7   \n",
       "\n",
       "   ca_cervix  \n",
       "0          1  \n",
       "1          1  \n",
       "2          1  \n",
       "3          1  \n",
       "4          1  "
      ]
     },
     "execution_count": 5,
     "metadata": {},
     "output_type": "execute_result"
    }
   ],
   "source": [
    "# View the first few lines of the Cervical_Cancer data set\n",
    "Cervical_Cancer.head()"
   ]
  },
  {
   "cell_type": "code",
   "execution_count": 6,
   "metadata": {},
   "outputs": [
    {
     "data": {
      "text/plain": [
       "(72, 20)"
      ]
     },
     "execution_count": 6,
     "metadata": {},
     "output_type": "execute_result"
    }
   ],
   "source": [
    "# Check the size of the Cervical_Cancer data set\n",
    "Cervical_Cancer.shape"
   ]
  },
  {
   "cell_type": "code",
   "execution_count": 7,
   "metadata": {},
   "outputs": [
    {
     "data": {
      "text/plain": [
       "behavior_sexualRisk           int64\n",
       "behavior_eating               int64\n",
       "behavior_personalHygine       int64\n",
       "intention_aggregation         int64\n",
       "intention_commitment          int64\n",
       "attitude_consistency          int64\n",
       "attitude_spontaneity          int64\n",
       "norm_significantPerson        int64\n",
       "norm_fulfillment              int64\n",
       "perception_vulnerability      int64\n",
       "perception_severity           int64\n",
       "motivation_strength           int64\n",
       "motivation_willingness        int64\n",
       "socialSupport_emotionality    int64\n",
       "socialSupport_appreciation    int64\n",
       "socialSupport_instrumental    int64\n",
       "empowerment_knowledge         int64\n",
       "empowerment_abilities         int64\n",
       "empowerment_desires           int64\n",
       "ca_cervix                     int64\n",
       "dtype: object"
      ]
     },
     "execution_count": 7,
     "metadata": {},
     "output_type": "execute_result"
    }
   ],
   "source": [
    "# Check the data types of the whole variables in the Cervical_Cancer data set\n",
    "Cervical_Cancer.dtypes"
   ]
  },
  {
   "cell_type": "code",
   "execution_count": 8,
   "metadata": {},
   "outputs": [
    {
     "data": {
      "text/plain": [
       "Index(['behavior_sexualRisk', 'behavior_eating', 'behavior_personalHygine',\n",
       "       'intention_aggregation', 'intention_commitment', 'attitude_consistency',\n",
       "       'attitude_spontaneity', 'norm_significantPerson', 'norm_fulfillment',\n",
       "       'perception_vulnerability', 'perception_severity',\n",
       "       'motivation_strength', 'motivation_willingness',\n",
       "       'socialSupport_emotionality', 'socialSupport_appreciation',\n",
       "       'socialSupport_instrumental', 'empowerment_knowledge',\n",
       "       'empowerment_abilities', 'empowerment_desires', 'ca_cervix'],\n",
       "      dtype='object')"
      ]
     },
     "execution_count": 8,
     "metadata": {},
     "output_type": "execute_result"
    }
   ],
   "source": [
    "# Check the variables in the Cervical_Cancer data set\n",
    "Cervical_Cancer.columns"
   ]
  },
  {
   "cell_type": "code",
   "execution_count": 9,
   "metadata": {},
   "outputs": [
    {
     "data": {
      "text/html": [
       "<div>\n",
       "<style scoped>\n",
       "    .dataframe tbody tr th:only-of-type {\n",
       "        vertical-align: middle;\n",
       "    }\n",
       "\n",
       "    .dataframe tbody tr th {\n",
       "        vertical-align: top;\n",
       "    }\n",
       "\n",
       "    .dataframe thead th {\n",
       "        text-align: right;\n",
       "    }\n",
       "</style>\n",
       "<table border=\"1\" class=\"dataframe\">\n",
       "  <thead>\n",
       "    <tr style=\"text-align: right;\">\n",
       "      <th></th>\n",
       "      <th>behavior_sexualRisk</th>\n",
       "      <th>behavior_eating</th>\n",
       "      <th>behavior_personalHygine</th>\n",
       "      <th>intention_aggregation</th>\n",
       "      <th>intention_commitment</th>\n",
       "      <th>attitude_consistency</th>\n",
       "      <th>attitude_spontaneity</th>\n",
       "      <th>norm_significantPerson</th>\n",
       "      <th>norm_fulfillment</th>\n",
       "      <th>perception_vulnerability</th>\n",
       "      <th>perception_severity</th>\n",
       "      <th>motivation_strength</th>\n",
       "      <th>motivation_willingness</th>\n",
       "      <th>socialSupport_emotionality</th>\n",
       "      <th>socialSupport_appreciation</th>\n",
       "      <th>socialSupport_instrumental</th>\n",
       "      <th>empowerment_knowledge</th>\n",
       "      <th>empowerment_abilities</th>\n",
       "      <th>empowerment_desires</th>\n",
       "      <th>ca_cervix</th>\n",
       "    </tr>\n",
       "  </thead>\n",
       "  <tbody>\n",
       "  </tbody>\n",
       "</table>\n",
       "</div>"
      ],
      "text/plain": [
       "Empty DataFrame\n",
       "Columns: [behavior_sexualRisk, behavior_eating, behavior_personalHygine, intention_aggregation, intention_commitment, attitude_consistency, attitude_spontaneity, norm_significantPerson, norm_fulfillment, perception_vulnerability, perception_severity, motivation_strength, motivation_willingness, socialSupport_emotionality, socialSupport_appreciation, socialSupport_instrumental, empowerment_knowledge, empowerment_abilities, empowerment_desires, ca_cervix]\n",
       "Index: []"
      ]
     },
     "execution_count": 9,
     "metadata": {},
     "output_type": "execute_result"
    }
   ],
   "source": [
    "# Retrieve the behavior_sexualRisk column\n",
    "# Check whether there are null values in the behavior_sexualRisk column of Cervical_Cancer data set\n",
    "Cervical_Cancer[Cervical_Cancer['behavior_sexualRisk'].isnull().values==True]"
   ]
  },
  {
   "cell_type": "code",
   "execution_count": 10,
   "metadata": {},
   "outputs": [
    {
     "data": {
      "text/html": [
       "<div>\n",
       "<style scoped>\n",
       "    .dataframe tbody tr th:only-of-type {\n",
       "        vertical-align: middle;\n",
       "    }\n",
       "\n",
       "    .dataframe tbody tr th {\n",
       "        vertical-align: top;\n",
       "    }\n",
       "\n",
       "    .dataframe thead th {\n",
       "        text-align: right;\n",
       "    }\n",
       "</style>\n",
       "<table border=\"1\" class=\"dataframe\">\n",
       "  <thead>\n",
       "    <tr style=\"text-align: right;\">\n",
       "      <th></th>\n",
       "      <th>behavior_sexualRisk</th>\n",
       "      <th>behavior_eating</th>\n",
       "      <th>behavior_personalHygine</th>\n",
       "      <th>intention_aggregation</th>\n",
       "      <th>intention_commitment</th>\n",
       "      <th>attitude_consistency</th>\n",
       "      <th>attitude_spontaneity</th>\n",
       "      <th>norm_significantPerson</th>\n",
       "      <th>norm_fulfillment</th>\n",
       "      <th>perception_vulnerability</th>\n",
       "      <th>perception_severity</th>\n",
       "      <th>motivation_strength</th>\n",
       "      <th>motivation_willingness</th>\n",
       "      <th>socialSupport_emotionality</th>\n",
       "      <th>socialSupport_appreciation</th>\n",
       "      <th>socialSupport_instrumental</th>\n",
       "      <th>empowerment_knowledge</th>\n",
       "      <th>empowerment_abilities</th>\n",
       "      <th>empowerment_desires</th>\n",
       "      <th>ca_cervix</th>\n",
       "    </tr>\n",
       "  </thead>\n",
       "  <tbody>\n",
       "  </tbody>\n",
       "</table>\n",
       "</div>"
      ],
      "text/plain": [
       "Empty DataFrame\n",
       "Columns: [behavior_sexualRisk, behavior_eating, behavior_personalHygine, intention_aggregation, intention_commitment, attitude_consistency, attitude_spontaneity, norm_significantPerson, norm_fulfillment, perception_vulnerability, perception_severity, motivation_strength, motivation_willingness, socialSupport_emotionality, socialSupport_appreciation, socialSupport_instrumental, empowerment_knowledge, empowerment_abilities, empowerment_desires, ca_cervix]\n",
       "Index: []"
      ]
     },
     "execution_count": 10,
     "metadata": {},
     "output_type": "execute_result"
    }
   ],
   "source": [
    "# Check whether there are any data less than 0 in the behavior_sexualRisk column\n",
    "Cervical_Cancer[Cervical_Cancer['behavior_sexualRisk']<0]"
   ]
  },
  {
   "cell_type": "code",
   "execution_count": 11,
   "metadata": {},
   "outputs": [
    {
     "data": {
      "text/plain": [
       "10    64\n",
       "9      2\n",
       "8      2\n",
       "7      2\n",
       "6      1\n",
       "2      1\n",
       "Name: behavior_sexualRisk, dtype: int64"
      ]
     },
     "execution_count": 11,
     "metadata": {},
     "output_type": "execute_result"
    }
   ],
   "source": [
    "# Check the frequency of the behavior_sexualRisk column in the Cervical_Cancer data set\n",
    "Cervical_Cancer['behavior_sexualRisk'].value_counts()"
   ]
  },
  {
   "cell_type": "code",
   "execution_count": 12,
   "metadata": {},
   "outputs": [
    {
     "data": {
      "text/html": [
       "<div>\n",
       "<style scoped>\n",
       "    .dataframe tbody tr th:only-of-type {\n",
       "        vertical-align: middle;\n",
       "    }\n",
       "\n",
       "    .dataframe tbody tr th {\n",
       "        vertical-align: top;\n",
       "    }\n",
       "\n",
       "    .dataframe thead th {\n",
       "        text-align: right;\n",
       "    }\n",
       "</style>\n",
       "<table border=\"1\" class=\"dataframe\">\n",
       "  <thead>\n",
       "    <tr style=\"text-align: right;\">\n",
       "      <th></th>\n",
       "      <th>behavior_sexualRisk</th>\n",
       "      <th>behavior_eating</th>\n",
       "      <th>behavior_personalHygine</th>\n",
       "      <th>intention_aggregation</th>\n",
       "      <th>intention_commitment</th>\n",
       "      <th>attitude_consistency</th>\n",
       "      <th>attitude_spontaneity</th>\n",
       "      <th>norm_significantPerson</th>\n",
       "      <th>norm_fulfillment</th>\n",
       "      <th>perception_vulnerability</th>\n",
       "      <th>perception_severity</th>\n",
       "      <th>motivation_strength</th>\n",
       "      <th>motivation_willingness</th>\n",
       "      <th>socialSupport_emotionality</th>\n",
       "      <th>socialSupport_appreciation</th>\n",
       "      <th>socialSupport_instrumental</th>\n",
       "      <th>empowerment_knowledge</th>\n",
       "      <th>empowerment_abilities</th>\n",
       "      <th>empowerment_desires</th>\n",
       "      <th>ca_cervix</th>\n",
       "    </tr>\n",
       "  </thead>\n",
       "  <tbody>\n",
       "  </tbody>\n",
       "</table>\n",
       "</div>"
      ],
      "text/plain": [
       "Empty DataFrame\n",
       "Columns: [behavior_sexualRisk, behavior_eating, behavior_personalHygine, intention_aggregation, intention_commitment, attitude_consistency, attitude_spontaneity, norm_significantPerson, norm_fulfillment, perception_vulnerability, perception_severity, motivation_strength, motivation_willingness, socialSupport_emotionality, socialSupport_appreciation, socialSupport_instrumental, empowerment_knowledge, empowerment_abilities, empowerment_desires, ca_cervix]\n",
       "Index: []"
      ]
     },
     "execution_count": 12,
     "metadata": {},
     "output_type": "execute_result"
    }
   ],
   "source": [
    "# Retrieve the behavior_eating column\n",
    "# Check whether there are null values in the behavior_eating column of Cervical_Cancer data set\n",
    "Cervical_Cancer[Cervical_Cancer['behavior_eating'].isnull().values==True]"
   ]
  },
  {
   "cell_type": "code",
   "execution_count": 13,
   "metadata": {},
   "outputs": [
    {
     "data": {
      "text/html": [
       "<div>\n",
       "<style scoped>\n",
       "    .dataframe tbody tr th:only-of-type {\n",
       "        vertical-align: middle;\n",
       "    }\n",
       "\n",
       "    .dataframe tbody tr th {\n",
       "        vertical-align: top;\n",
       "    }\n",
       "\n",
       "    .dataframe thead th {\n",
       "        text-align: right;\n",
       "    }\n",
       "</style>\n",
       "<table border=\"1\" class=\"dataframe\">\n",
       "  <thead>\n",
       "    <tr style=\"text-align: right;\">\n",
       "      <th></th>\n",
       "      <th>behavior_sexualRisk</th>\n",
       "      <th>behavior_eating</th>\n",
       "      <th>behavior_personalHygine</th>\n",
       "      <th>intention_aggregation</th>\n",
       "      <th>intention_commitment</th>\n",
       "      <th>attitude_consistency</th>\n",
       "      <th>attitude_spontaneity</th>\n",
       "      <th>norm_significantPerson</th>\n",
       "      <th>norm_fulfillment</th>\n",
       "      <th>perception_vulnerability</th>\n",
       "      <th>perception_severity</th>\n",
       "      <th>motivation_strength</th>\n",
       "      <th>motivation_willingness</th>\n",
       "      <th>socialSupport_emotionality</th>\n",
       "      <th>socialSupport_appreciation</th>\n",
       "      <th>socialSupport_instrumental</th>\n",
       "      <th>empowerment_knowledge</th>\n",
       "      <th>empowerment_abilities</th>\n",
       "      <th>empowerment_desires</th>\n",
       "      <th>ca_cervix</th>\n",
       "    </tr>\n",
       "  </thead>\n",
       "  <tbody>\n",
       "  </tbody>\n",
       "</table>\n",
       "</div>"
      ],
      "text/plain": [
       "Empty DataFrame\n",
       "Columns: [behavior_sexualRisk, behavior_eating, behavior_personalHygine, intention_aggregation, intention_commitment, attitude_consistency, attitude_spontaneity, norm_significantPerson, norm_fulfillment, perception_vulnerability, perception_severity, motivation_strength, motivation_willingness, socialSupport_emotionality, socialSupport_appreciation, socialSupport_instrumental, empowerment_knowledge, empowerment_abilities, empowerment_desires, ca_cervix]\n",
       "Index: []"
      ]
     },
     "execution_count": 13,
     "metadata": {},
     "output_type": "execute_result"
    }
   ],
   "source": [
    "# Check whether there are any data less than or equal to 0 in the behavior_eating column\n",
    "Cervical_Cancer[Cervical_Cancer['behavior_eating']<=0]"
   ]
  },
  {
   "cell_type": "code",
   "execution_count": 14,
   "metadata": {
    "scrolled": true
   },
   "outputs": [
    {
     "data": {
      "text/plain": [
       "15    27\n",
       "12    11\n",
       "11    10\n",
       "13     8\n",
       "14     6\n",
       "10     4\n",
       "9      3\n",
       "8      2\n",
       "3      1\n",
       "Name: behavior_eating, dtype: int64"
      ]
     },
     "execution_count": 14,
     "metadata": {},
     "output_type": "execute_result"
    }
   ],
   "source": [
    "# Check the frequency of the behavior_eating column in the Cervical_Cancer data set\n",
    "Cervical_Cancer['behavior_eating'].value_counts()"
   ]
  },
  {
   "cell_type": "code",
   "execution_count": 15,
   "metadata": {},
   "outputs": [
    {
     "data": {
      "text/html": [
       "<div>\n",
       "<style scoped>\n",
       "    .dataframe tbody tr th:only-of-type {\n",
       "        vertical-align: middle;\n",
       "    }\n",
       "\n",
       "    .dataframe tbody tr th {\n",
       "        vertical-align: top;\n",
       "    }\n",
       "\n",
       "    .dataframe thead th {\n",
       "        text-align: right;\n",
       "    }\n",
       "</style>\n",
       "<table border=\"1\" class=\"dataframe\">\n",
       "  <thead>\n",
       "    <tr style=\"text-align: right;\">\n",
       "      <th></th>\n",
       "      <th>behavior_sexualRisk</th>\n",
       "      <th>behavior_eating</th>\n",
       "      <th>behavior_personalHygine</th>\n",
       "      <th>intention_aggregation</th>\n",
       "      <th>intention_commitment</th>\n",
       "      <th>attitude_consistency</th>\n",
       "      <th>attitude_spontaneity</th>\n",
       "      <th>norm_significantPerson</th>\n",
       "      <th>norm_fulfillment</th>\n",
       "      <th>perception_vulnerability</th>\n",
       "      <th>perception_severity</th>\n",
       "      <th>motivation_strength</th>\n",
       "      <th>motivation_willingness</th>\n",
       "      <th>socialSupport_emotionality</th>\n",
       "      <th>socialSupport_appreciation</th>\n",
       "      <th>socialSupport_instrumental</th>\n",
       "      <th>empowerment_knowledge</th>\n",
       "      <th>empowerment_abilities</th>\n",
       "      <th>empowerment_desires</th>\n",
       "      <th>ca_cervix</th>\n",
       "    </tr>\n",
       "  </thead>\n",
       "  <tbody>\n",
       "  </tbody>\n",
       "</table>\n",
       "</div>"
      ],
      "text/plain": [
       "Empty DataFrame\n",
       "Columns: [behavior_sexualRisk, behavior_eating, behavior_personalHygine, intention_aggregation, intention_commitment, attitude_consistency, attitude_spontaneity, norm_significantPerson, norm_fulfillment, perception_vulnerability, perception_severity, motivation_strength, motivation_willingness, socialSupport_emotionality, socialSupport_appreciation, socialSupport_instrumental, empowerment_knowledge, empowerment_abilities, empowerment_desires, ca_cervix]\n",
       "Index: []"
      ]
     },
     "execution_count": 15,
     "metadata": {},
     "output_type": "execute_result"
    }
   ],
   "source": [
    "# Retrieve the behavior_personalHygine column\n",
    "# Check whether there are null values in the behavior_personalHygine column of Cervical_Cancer data set\n",
    "Cervical_Cancer[Cervical_Cancer['behavior_personalHygine'].isnull().values==True]"
   ]
  },
  {
   "cell_type": "code",
   "execution_count": 16,
   "metadata": {},
   "outputs": [
    {
     "data": {
      "text/html": [
       "<div>\n",
       "<style scoped>\n",
       "    .dataframe tbody tr th:only-of-type {\n",
       "        vertical-align: middle;\n",
       "    }\n",
       "\n",
       "    .dataframe tbody tr th {\n",
       "        vertical-align: top;\n",
       "    }\n",
       "\n",
       "    .dataframe thead th {\n",
       "        text-align: right;\n",
       "    }\n",
       "</style>\n",
       "<table border=\"1\" class=\"dataframe\">\n",
       "  <thead>\n",
       "    <tr style=\"text-align: right;\">\n",
       "      <th></th>\n",
       "      <th>behavior_sexualRisk</th>\n",
       "      <th>behavior_eating</th>\n",
       "      <th>behavior_personalHygine</th>\n",
       "      <th>intention_aggregation</th>\n",
       "      <th>intention_commitment</th>\n",
       "      <th>attitude_consistency</th>\n",
       "      <th>attitude_spontaneity</th>\n",
       "      <th>norm_significantPerson</th>\n",
       "      <th>norm_fulfillment</th>\n",
       "      <th>perception_vulnerability</th>\n",
       "      <th>perception_severity</th>\n",
       "      <th>motivation_strength</th>\n",
       "      <th>motivation_willingness</th>\n",
       "      <th>socialSupport_emotionality</th>\n",
       "      <th>socialSupport_appreciation</th>\n",
       "      <th>socialSupport_instrumental</th>\n",
       "      <th>empowerment_knowledge</th>\n",
       "      <th>empowerment_abilities</th>\n",
       "      <th>empowerment_desires</th>\n",
       "      <th>ca_cervix</th>\n",
       "    </tr>\n",
       "  </thead>\n",
       "  <tbody>\n",
       "  </tbody>\n",
       "</table>\n",
       "</div>"
      ],
      "text/plain": [
       "Empty DataFrame\n",
       "Columns: [behavior_sexualRisk, behavior_eating, behavior_personalHygine, intention_aggregation, intention_commitment, attitude_consistency, attitude_spontaneity, norm_significantPerson, norm_fulfillment, perception_vulnerability, perception_severity, motivation_strength, motivation_willingness, socialSupport_emotionality, socialSupport_appreciation, socialSupport_instrumental, empowerment_knowledge, empowerment_abilities, empowerment_desires, ca_cervix]\n",
       "Index: []"
      ]
     },
     "execution_count": 16,
     "metadata": {},
     "output_type": "execute_result"
    }
   ],
   "source": [
    "# Check whether there are any data less than or equal to 0 in the behavior_personalHygine column\n",
    "Cervical_Cancer[Cervical_Cancer['behavior_personalHygine']<=0]"
   ]
  },
  {
   "cell_type": "code",
   "execution_count": 17,
   "metadata": {},
   "outputs": [
    {
     "data": {
      "text/plain": [
       "15    13\n",
       "11    13\n",
       "14     7\n",
       "12     7\n",
       "10     6\n",
       "9      6\n",
       "7      6\n",
       "13     5\n",
       "8      5\n",
       "5      2\n",
       "4      1\n",
       "3      1\n",
       "Name: behavior_personalHygine, dtype: int64"
      ]
     },
     "execution_count": 17,
     "metadata": {},
     "output_type": "execute_result"
    }
   ],
   "source": [
    "# Check the frequency of the behavior_personalHygine column in the Cervical_Cancer data set\n",
    "Cervical_Cancer['behavior_personalHygine'].value_counts()"
   ]
  },
  {
   "cell_type": "code",
   "execution_count": 18,
   "metadata": {},
   "outputs": [
    {
     "data": {
      "text/html": [
       "<div>\n",
       "<style scoped>\n",
       "    .dataframe tbody tr th:only-of-type {\n",
       "        vertical-align: middle;\n",
       "    }\n",
       "\n",
       "    .dataframe tbody tr th {\n",
       "        vertical-align: top;\n",
       "    }\n",
       "\n",
       "    .dataframe thead th {\n",
       "        text-align: right;\n",
       "    }\n",
       "</style>\n",
       "<table border=\"1\" class=\"dataframe\">\n",
       "  <thead>\n",
       "    <tr style=\"text-align: right;\">\n",
       "      <th></th>\n",
       "      <th>behavior_sexualRisk</th>\n",
       "      <th>behavior_eating</th>\n",
       "      <th>behavior_personalHygine</th>\n",
       "      <th>intention_aggregation</th>\n",
       "      <th>intention_commitment</th>\n",
       "      <th>attitude_consistency</th>\n",
       "      <th>attitude_spontaneity</th>\n",
       "      <th>norm_significantPerson</th>\n",
       "      <th>norm_fulfillment</th>\n",
       "      <th>perception_vulnerability</th>\n",
       "      <th>perception_severity</th>\n",
       "      <th>motivation_strength</th>\n",
       "      <th>motivation_willingness</th>\n",
       "      <th>socialSupport_emotionality</th>\n",
       "      <th>socialSupport_appreciation</th>\n",
       "      <th>socialSupport_instrumental</th>\n",
       "      <th>empowerment_knowledge</th>\n",
       "      <th>empowerment_abilities</th>\n",
       "      <th>empowerment_desires</th>\n",
       "      <th>ca_cervix</th>\n",
       "    </tr>\n",
       "  </thead>\n",
       "  <tbody>\n",
       "  </tbody>\n",
       "</table>\n",
       "</div>"
      ],
      "text/plain": [
       "Empty DataFrame\n",
       "Columns: [behavior_sexualRisk, behavior_eating, behavior_personalHygine, intention_aggregation, intention_commitment, attitude_consistency, attitude_spontaneity, norm_significantPerson, norm_fulfillment, perception_vulnerability, perception_severity, motivation_strength, motivation_willingness, socialSupport_emotionality, socialSupport_appreciation, socialSupport_instrumental, empowerment_knowledge, empowerment_abilities, empowerment_desires, ca_cervix]\n",
       "Index: []"
      ]
     },
     "execution_count": 18,
     "metadata": {},
     "output_type": "execute_result"
    }
   ],
   "source": [
    "# Retrieve the intention_aggregation column\n",
    "# Check whether there are null values in the intention_aggregation column of Cervical_Cancer data set\n",
    "Cervical_Cancer[Cervical_Cancer['intention_aggregation'].isnull().values==True]"
   ]
  },
  {
   "cell_type": "code",
   "execution_count": 19,
   "metadata": {},
   "outputs": [
    {
     "data": {
      "text/html": [
       "<div>\n",
       "<style scoped>\n",
       "    .dataframe tbody tr th:only-of-type {\n",
       "        vertical-align: middle;\n",
       "    }\n",
       "\n",
       "    .dataframe tbody tr th {\n",
       "        vertical-align: top;\n",
       "    }\n",
       "\n",
       "    .dataframe thead th {\n",
       "        text-align: right;\n",
       "    }\n",
       "</style>\n",
       "<table border=\"1\" class=\"dataframe\">\n",
       "  <thead>\n",
       "    <tr style=\"text-align: right;\">\n",
       "      <th></th>\n",
       "      <th>behavior_sexualRisk</th>\n",
       "      <th>behavior_eating</th>\n",
       "      <th>behavior_personalHygine</th>\n",
       "      <th>intention_aggregation</th>\n",
       "      <th>intention_commitment</th>\n",
       "      <th>attitude_consistency</th>\n",
       "      <th>attitude_spontaneity</th>\n",
       "      <th>norm_significantPerson</th>\n",
       "      <th>norm_fulfillment</th>\n",
       "      <th>perception_vulnerability</th>\n",
       "      <th>perception_severity</th>\n",
       "      <th>motivation_strength</th>\n",
       "      <th>motivation_willingness</th>\n",
       "      <th>socialSupport_emotionality</th>\n",
       "      <th>socialSupport_appreciation</th>\n",
       "      <th>socialSupport_instrumental</th>\n",
       "      <th>empowerment_knowledge</th>\n",
       "      <th>empowerment_abilities</th>\n",
       "      <th>empowerment_desires</th>\n",
       "      <th>ca_cervix</th>\n",
       "    </tr>\n",
       "  </thead>\n",
       "  <tbody>\n",
       "  </tbody>\n",
       "</table>\n",
       "</div>"
      ],
      "text/plain": [
       "Empty DataFrame\n",
       "Columns: [behavior_sexualRisk, behavior_eating, behavior_personalHygine, intention_aggregation, intention_commitment, attitude_consistency, attitude_spontaneity, norm_significantPerson, norm_fulfillment, perception_vulnerability, perception_severity, motivation_strength, motivation_willingness, socialSupport_emotionality, socialSupport_appreciation, socialSupport_instrumental, empowerment_knowledge, empowerment_abilities, empowerment_desires, ca_cervix]\n",
       "Index: []"
      ]
     },
     "execution_count": 19,
     "metadata": {},
     "output_type": "execute_result"
    }
   ],
   "source": [
    "# Check whether there are any data less than or equal to 0 in the intention_aggregation column\n",
    "Cervical_Cancer[Cervical_Cancer['intention_aggregation']<=0]"
   ]
  },
  {
   "cell_type": "code",
   "execution_count": 20,
   "metadata": {},
   "outputs": [
    {
     "data": {
      "text/plain": [
       "10    38\n",
       "6     12\n",
       "2      7\n",
       "9      4\n",
       "8      4\n",
       "7      2\n",
       "5      2\n",
       "4      2\n",
       "3      1\n",
       "Name: intention_aggregation, dtype: int64"
      ]
     },
     "execution_count": 20,
     "metadata": {},
     "output_type": "execute_result"
    }
   ],
   "source": [
    "# Check the frequency of the intention_aggregation column in the Cervical_Cancer data set\n",
    "Cervical_Cancer['intention_aggregation'].value_counts()"
   ]
  },
  {
   "cell_type": "code",
   "execution_count": 21,
   "metadata": {},
   "outputs": [
    {
     "data": {
      "text/html": [
       "<div>\n",
       "<style scoped>\n",
       "    .dataframe tbody tr th:only-of-type {\n",
       "        vertical-align: middle;\n",
       "    }\n",
       "\n",
       "    .dataframe tbody tr th {\n",
       "        vertical-align: top;\n",
       "    }\n",
       "\n",
       "    .dataframe thead th {\n",
       "        text-align: right;\n",
       "    }\n",
       "</style>\n",
       "<table border=\"1\" class=\"dataframe\">\n",
       "  <thead>\n",
       "    <tr style=\"text-align: right;\">\n",
       "      <th></th>\n",
       "      <th>behavior_sexualRisk</th>\n",
       "      <th>behavior_eating</th>\n",
       "      <th>behavior_personalHygine</th>\n",
       "      <th>intention_aggregation</th>\n",
       "      <th>intention_commitment</th>\n",
       "      <th>attitude_consistency</th>\n",
       "      <th>attitude_spontaneity</th>\n",
       "      <th>norm_significantPerson</th>\n",
       "      <th>norm_fulfillment</th>\n",
       "      <th>perception_vulnerability</th>\n",
       "      <th>perception_severity</th>\n",
       "      <th>motivation_strength</th>\n",
       "      <th>motivation_willingness</th>\n",
       "      <th>socialSupport_emotionality</th>\n",
       "      <th>socialSupport_appreciation</th>\n",
       "      <th>socialSupport_instrumental</th>\n",
       "      <th>empowerment_knowledge</th>\n",
       "      <th>empowerment_abilities</th>\n",
       "      <th>empowerment_desires</th>\n",
       "      <th>ca_cervix</th>\n",
       "    </tr>\n",
       "  </thead>\n",
       "  <tbody>\n",
       "  </tbody>\n",
       "</table>\n",
       "</div>"
      ],
      "text/plain": [
       "Empty DataFrame\n",
       "Columns: [behavior_sexualRisk, behavior_eating, behavior_personalHygine, intention_aggregation, intention_commitment, attitude_consistency, attitude_spontaneity, norm_significantPerson, norm_fulfillment, perception_vulnerability, perception_severity, motivation_strength, motivation_willingness, socialSupport_emotionality, socialSupport_appreciation, socialSupport_instrumental, empowerment_knowledge, empowerment_abilities, empowerment_desires, ca_cervix]\n",
       "Index: []"
      ]
     },
     "execution_count": 21,
     "metadata": {},
     "output_type": "execute_result"
    }
   ],
   "source": [
    "# Retrieve the intention_commitment column\n",
    "# Check whether there are null values in the intention_commitment column of Cervical_Cancer data set\n",
    "Cervical_Cancer[Cervical_Cancer['intention_commitment'].isnull().values==True]"
   ]
  },
  {
   "cell_type": "code",
   "execution_count": 22,
   "metadata": {},
   "outputs": [
    {
     "data": {
      "text/html": [
       "<div>\n",
       "<style scoped>\n",
       "    .dataframe tbody tr th:only-of-type {\n",
       "        vertical-align: middle;\n",
       "    }\n",
       "\n",
       "    .dataframe tbody tr th {\n",
       "        vertical-align: top;\n",
       "    }\n",
       "\n",
       "    .dataframe thead th {\n",
       "        text-align: right;\n",
       "    }\n",
       "</style>\n",
       "<table border=\"1\" class=\"dataframe\">\n",
       "  <thead>\n",
       "    <tr style=\"text-align: right;\">\n",
       "      <th></th>\n",
       "      <th>behavior_sexualRisk</th>\n",
       "      <th>behavior_eating</th>\n",
       "      <th>behavior_personalHygine</th>\n",
       "      <th>intention_aggregation</th>\n",
       "      <th>intention_commitment</th>\n",
       "      <th>attitude_consistency</th>\n",
       "      <th>attitude_spontaneity</th>\n",
       "      <th>norm_significantPerson</th>\n",
       "      <th>norm_fulfillment</th>\n",
       "      <th>perception_vulnerability</th>\n",
       "      <th>perception_severity</th>\n",
       "      <th>motivation_strength</th>\n",
       "      <th>motivation_willingness</th>\n",
       "      <th>socialSupport_emotionality</th>\n",
       "      <th>socialSupport_appreciation</th>\n",
       "      <th>socialSupport_instrumental</th>\n",
       "      <th>empowerment_knowledge</th>\n",
       "      <th>empowerment_abilities</th>\n",
       "      <th>empowerment_desires</th>\n",
       "      <th>ca_cervix</th>\n",
       "    </tr>\n",
       "  </thead>\n",
       "  <tbody>\n",
       "  </tbody>\n",
       "</table>\n",
       "</div>"
      ],
      "text/plain": [
       "Empty DataFrame\n",
       "Columns: [behavior_sexualRisk, behavior_eating, behavior_personalHygine, intention_aggregation, intention_commitment, attitude_consistency, attitude_spontaneity, norm_significantPerson, norm_fulfillment, perception_vulnerability, perception_severity, motivation_strength, motivation_willingness, socialSupport_emotionality, socialSupport_appreciation, socialSupport_instrumental, empowerment_knowledge, empowerment_abilities, empowerment_desires, ca_cervix]\n",
       "Index: []"
      ]
     },
     "execution_count": 22,
     "metadata": {},
     "output_type": "execute_result"
    }
   ],
   "source": [
    "# Check whether there are any data less than or equal to 0 in the intention_commitment column\n",
    "Cervical_Cancer[Cervical_Cancer['intention_commitment']<=0]"
   ]
  },
  {
   "cell_type": "code",
   "execution_count": 23,
   "metadata": {},
   "outputs": [
    {
     "data": {
      "text/plain": [
       "15    40\n",
       "14     8\n",
       "11     8\n",
       "10     6\n",
       "13     3\n",
       "12     2\n",
       "9      2\n",
       "7      2\n",
       "6      1\n",
       "Name: intention_commitment, dtype: int64"
      ]
     },
     "execution_count": 23,
     "metadata": {},
     "output_type": "execute_result"
    }
   ],
   "source": [
    "# Check the frequency of the intention_commitment column in the Cervical_Cancer data set\n",
    "Cervical_Cancer['intention_commitment'].value_counts()"
   ]
  },
  {
   "cell_type": "code",
   "execution_count": 24,
   "metadata": {},
   "outputs": [
    {
     "data": {
      "text/html": [
       "<div>\n",
       "<style scoped>\n",
       "    .dataframe tbody tr th:only-of-type {\n",
       "        vertical-align: middle;\n",
       "    }\n",
       "\n",
       "    .dataframe tbody tr th {\n",
       "        vertical-align: top;\n",
       "    }\n",
       "\n",
       "    .dataframe thead th {\n",
       "        text-align: right;\n",
       "    }\n",
       "</style>\n",
       "<table border=\"1\" class=\"dataframe\">\n",
       "  <thead>\n",
       "    <tr style=\"text-align: right;\">\n",
       "      <th></th>\n",
       "      <th>behavior_sexualRisk</th>\n",
       "      <th>behavior_eating</th>\n",
       "      <th>behavior_personalHygine</th>\n",
       "      <th>intention_aggregation</th>\n",
       "      <th>intention_commitment</th>\n",
       "      <th>attitude_consistency</th>\n",
       "      <th>attitude_spontaneity</th>\n",
       "      <th>norm_significantPerson</th>\n",
       "      <th>norm_fulfillment</th>\n",
       "      <th>perception_vulnerability</th>\n",
       "      <th>perception_severity</th>\n",
       "      <th>motivation_strength</th>\n",
       "      <th>motivation_willingness</th>\n",
       "      <th>socialSupport_emotionality</th>\n",
       "      <th>socialSupport_appreciation</th>\n",
       "      <th>socialSupport_instrumental</th>\n",
       "      <th>empowerment_knowledge</th>\n",
       "      <th>empowerment_abilities</th>\n",
       "      <th>empowerment_desires</th>\n",
       "      <th>ca_cervix</th>\n",
       "    </tr>\n",
       "  </thead>\n",
       "  <tbody>\n",
       "  </tbody>\n",
       "</table>\n",
       "</div>"
      ],
      "text/plain": [
       "Empty DataFrame\n",
       "Columns: [behavior_sexualRisk, behavior_eating, behavior_personalHygine, intention_aggregation, intention_commitment, attitude_consistency, attitude_spontaneity, norm_significantPerson, norm_fulfillment, perception_vulnerability, perception_severity, motivation_strength, motivation_willingness, socialSupport_emotionality, socialSupport_appreciation, socialSupport_instrumental, empowerment_knowledge, empowerment_abilities, empowerment_desires, ca_cervix]\n",
       "Index: []"
      ]
     },
     "execution_count": 24,
     "metadata": {},
     "output_type": "execute_result"
    }
   ],
   "source": [
    "# Retrieve the attitude_consistency column\n",
    "# Check whether there are null values in the attitude_consistency column of Cervical_Cancer data set\n",
    "Cervical_Cancer[Cervical_Cancer['attitude_consistency'].isnull().values==True]"
   ]
  },
  {
   "cell_type": "code",
   "execution_count": 25,
   "metadata": {},
   "outputs": [
    {
     "data": {
      "text/html": [
       "<div>\n",
       "<style scoped>\n",
       "    .dataframe tbody tr th:only-of-type {\n",
       "        vertical-align: middle;\n",
       "    }\n",
       "\n",
       "    .dataframe tbody tr th {\n",
       "        vertical-align: top;\n",
       "    }\n",
       "\n",
       "    .dataframe thead th {\n",
       "        text-align: right;\n",
       "    }\n",
       "</style>\n",
       "<table border=\"1\" class=\"dataframe\">\n",
       "  <thead>\n",
       "    <tr style=\"text-align: right;\">\n",
       "      <th></th>\n",
       "      <th>behavior_sexualRisk</th>\n",
       "      <th>behavior_eating</th>\n",
       "      <th>behavior_personalHygine</th>\n",
       "      <th>intention_aggregation</th>\n",
       "      <th>intention_commitment</th>\n",
       "      <th>attitude_consistency</th>\n",
       "      <th>attitude_spontaneity</th>\n",
       "      <th>norm_significantPerson</th>\n",
       "      <th>norm_fulfillment</th>\n",
       "      <th>perception_vulnerability</th>\n",
       "      <th>perception_severity</th>\n",
       "      <th>motivation_strength</th>\n",
       "      <th>motivation_willingness</th>\n",
       "      <th>socialSupport_emotionality</th>\n",
       "      <th>socialSupport_appreciation</th>\n",
       "      <th>socialSupport_instrumental</th>\n",
       "      <th>empowerment_knowledge</th>\n",
       "      <th>empowerment_abilities</th>\n",
       "      <th>empowerment_desires</th>\n",
       "      <th>ca_cervix</th>\n",
       "    </tr>\n",
       "  </thead>\n",
       "  <tbody>\n",
       "  </tbody>\n",
       "</table>\n",
       "</div>"
      ],
      "text/plain": [
       "Empty DataFrame\n",
       "Columns: [behavior_sexualRisk, behavior_eating, behavior_personalHygine, intention_aggregation, intention_commitment, attitude_consistency, attitude_spontaneity, norm_significantPerson, norm_fulfillment, perception_vulnerability, perception_severity, motivation_strength, motivation_willingness, socialSupport_emotionality, socialSupport_appreciation, socialSupport_instrumental, empowerment_knowledge, empowerment_abilities, empowerment_desires, ca_cervix]\n",
       "Index: []"
      ]
     },
     "execution_count": 25,
     "metadata": {},
     "output_type": "execute_result"
    }
   ],
   "source": [
    "# Check whether there are any data less than or equal to 0 in the attitude_consistency column\n",
    "Cervical_Cancer[Cervical_Cancer['attitude_consistency']<=0]"
   ]
  },
  {
   "cell_type": "code",
   "execution_count": 26,
   "metadata": {},
   "outputs": [
    {
     "data": {
      "text/plain": [
       "8     21\n",
       "6     18\n",
       "7     15\n",
       "10     6\n",
       "9      5\n",
       "5      5\n",
       "4      1\n",
       "2      1\n",
       "Name: attitude_consistency, dtype: int64"
      ]
     },
     "execution_count": 26,
     "metadata": {},
     "output_type": "execute_result"
    }
   ],
   "source": [
    "# Check the frequency of the attitude_consistency column in the Cervical_Cancer data set\n",
    "Cervical_Cancer['attitude_consistency'].value_counts()"
   ]
  },
  {
   "cell_type": "code",
   "execution_count": 27,
   "metadata": {},
   "outputs": [
    {
     "data": {
      "text/html": [
       "<div>\n",
       "<style scoped>\n",
       "    .dataframe tbody tr th:only-of-type {\n",
       "        vertical-align: middle;\n",
       "    }\n",
       "\n",
       "    .dataframe tbody tr th {\n",
       "        vertical-align: top;\n",
       "    }\n",
       "\n",
       "    .dataframe thead th {\n",
       "        text-align: right;\n",
       "    }\n",
       "</style>\n",
       "<table border=\"1\" class=\"dataframe\">\n",
       "  <thead>\n",
       "    <tr style=\"text-align: right;\">\n",
       "      <th></th>\n",
       "      <th>behavior_sexualRisk</th>\n",
       "      <th>behavior_eating</th>\n",
       "      <th>behavior_personalHygine</th>\n",
       "      <th>intention_aggregation</th>\n",
       "      <th>intention_commitment</th>\n",
       "      <th>attitude_consistency</th>\n",
       "      <th>attitude_spontaneity</th>\n",
       "      <th>norm_significantPerson</th>\n",
       "      <th>norm_fulfillment</th>\n",
       "      <th>perception_vulnerability</th>\n",
       "      <th>perception_severity</th>\n",
       "      <th>motivation_strength</th>\n",
       "      <th>motivation_willingness</th>\n",
       "      <th>socialSupport_emotionality</th>\n",
       "      <th>socialSupport_appreciation</th>\n",
       "      <th>socialSupport_instrumental</th>\n",
       "      <th>empowerment_knowledge</th>\n",
       "      <th>empowerment_abilities</th>\n",
       "      <th>empowerment_desires</th>\n",
       "      <th>ca_cervix</th>\n",
       "    </tr>\n",
       "  </thead>\n",
       "  <tbody>\n",
       "  </tbody>\n",
       "</table>\n",
       "</div>"
      ],
      "text/plain": [
       "Empty DataFrame\n",
       "Columns: [behavior_sexualRisk, behavior_eating, behavior_personalHygine, intention_aggregation, intention_commitment, attitude_consistency, attitude_spontaneity, norm_significantPerson, norm_fulfillment, perception_vulnerability, perception_severity, motivation_strength, motivation_willingness, socialSupport_emotionality, socialSupport_appreciation, socialSupport_instrumental, empowerment_knowledge, empowerment_abilities, empowerment_desires, ca_cervix]\n",
       "Index: []"
      ]
     },
     "execution_count": 27,
     "metadata": {},
     "output_type": "execute_result"
    }
   ],
   "source": [
    "# Retrieve the attitude_spontaneity column\n",
    "# Check whether there are null values in the attitude_spontaneity column of Cervical_Cancer data set\n",
    "Cervical_Cancer[Cervical_Cancer['attitude_spontaneity'].isnull().values==True]"
   ]
  },
  {
   "cell_type": "code",
   "execution_count": 28,
   "metadata": {},
   "outputs": [
    {
     "data": {
      "text/html": [
       "<div>\n",
       "<style scoped>\n",
       "    .dataframe tbody tr th:only-of-type {\n",
       "        vertical-align: middle;\n",
       "    }\n",
       "\n",
       "    .dataframe tbody tr th {\n",
       "        vertical-align: top;\n",
       "    }\n",
       "\n",
       "    .dataframe thead th {\n",
       "        text-align: right;\n",
       "    }\n",
       "</style>\n",
       "<table border=\"1\" class=\"dataframe\">\n",
       "  <thead>\n",
       "    <tr style=\"text-align: right;\">\n",
       "      <th></th>\n",
       "      <th>behavior_sexualRisk</th>\n",
       "      <th>behavior_eating</th>\n",
       "      <th>behavior_personalHygine</th>\n",
       "      <th>intention_aggregation</th>\n",
       "      <th>intention_commitment</th>\n",
       "      <th>attitude_consistency</th>\n",
       "      <th>attitude_spontaneity</th>\n",
       "      <th>norm_significantPerson</th>\n",
       "      <th>norm_fulfillment</th>\n",
       "      <th>perception_vulnerability</th>\n",
       "      <th>perception_severity</th>\n",
       "      <th>motivation_strength</th>\n",
       "      <th>motivation_willingness</th>\n",
       "      <th>socialSupport_emotionality</th>\n",
       "      <th>socialSupport_appreciation</th>\n",
       "      <th>socialSupport_instrumental</th>\n",
       "      <th>empowerment_knowledge</th>\n",
       "      <th>empowerment_abilities</th>\n",
       "      <th>empowerment_desires</th>\n",
       "      <th>ca_cervix</th>\n",
       "    </tr>\n",
       "  </thead>\n",
       "  <tbody>\n",
       "  </tbody>\n",
       "</table>\n",
       "</div>"
      ],
      "text/plain": [
       "Empty DataFrame\n",
       "Columns: [behavior_sexualRisk, behavior_eating, behavior_personalHygine, intention_aggregation, intention_commitment, attitude_consistency, attitude_spontaneity, norm_significantPerson, norm_fulfillment, perception_vulnerability, perception_severity, motivation_strength, motivation_willingness, socialSupport_emotionality, socialSupport_appreciation, socialSupport_instrumental, empowerment_knowledge, empowerment_abilities, empowerment_desires, ca_cervix]\n",
       "Index: []"
      ]
     },
     "execution_count": 28,
     "metadata": {},
     "output_type": "execute_result"
    }
   ],
   "source": [
    "# Check whether there are any data less than or equal to 0 in the attitude_spontaneity column\n",
    "Cervical_Cancer[Cervical_Cancer['attitude_spontaneity']<=0]"
   ]
  },
  {
   "cell_type": "code",
   "execution_count": 29,
   "metadata": {},
   "outputs": [
    {
     "data": {
      "text/plain": [
       "10    32\n",
       "8     22\n",
       "6      7\n",
       "9      5\n",
       "7      4\n",
       "5      1\n",
       "4      1\n",
       "Name: attitude_spontaneity, dtype: int64"
      ]
     },
     "execution_count": 29,
     "metadata": {},
     "output_type": "execute_result"
    }
   ],
   "source": [
    "# Check the frequency of the attitude_spontaneity column in the Cervical_Cancer data set\n",
    "Cervical_Cancer['attitude_spontaneity'].value_counts()"
   ]
  },
  {
   "cell_type": "code",
   "execution_count": 30,
   "metadata": {},
   "outputs": [
    {
     "data": {
      "text/html": [
       "<div>\n",
       "<style scoped>\n",
       "    .dataframe tbody tr th:only-of-type {\n",
       "        vertical-align: middle;\n",
       "    }\n",
       "\n",
       "    .dataframe tbody tr th {\n",
       "        vertical-align: top;\n",
       "    }\n",
       "\n",
       "    .dataframe thead th {\n",
       "        text-align: right;\n",
       "    }\n",
       "</style>\n",
       "<table border=\"1\" class=\"dataframe\">\n",
       "  <thead>\n",
       "    <tr style=\"text-align: right;\">\n",
       "      <th></th>\n",
       "      <th>behavior_sexualRisk</th>\n",
       "      <th>behavior_eating</th>\n",
       "      <th>behavior_personalHygine</th>\n",
       "      <th>intention_aggregation</th>\n",
       "      <th>intention_commitment</th>\n",
       "      <th>attitude_consistency</th>\n",
       "      <th>attitude_spontaneity</th>\n",
       "      <th>norm_significantPerson</th>\n",
       "      <th>norm_fulfillment</th>\n",
       "      <th>perception_vulnerability</th>\n",
       "      <th>perception_severity</th>\n",
       "      <th>motivation_strength</th>\n",
       "      <th>motivation_willingness</th>\n",
       "      <th>socialSupport_emotionality</th>\n",
       "      <th>socialSupport_appreciation</th>\n",
       "      <th>socialSupport_instrumental</th>\n",
       "      <th>empowerment_knowledge</th>\n",
       "      <th>empowerment_abilities</th>\n",
       "      <th>empowerment_desires</th>\n",
       "      <th>ca_cervix</th>\n",
       "    </tr>\n",
       "  </thead>\n",
       "  <tbody>\n",
       "  </tbody>\n",
       "</table>\n",
       "</div>"
      ],
      "text/plain": [
       "Empty DataFrame\n",
       "Columns: [behavior_sexualRisk, behavior_eating, behavior_personalHygine, intention_aggregation, intention_commitment, attitude_consistency, attitude_spontaneity, norm_significantPerson, norm_fulfillment, perception_vulnerability, perception_severity, motivation_strength, motivation_willingness, socialSupport_emotionality, socialSupport_appreciation, socialSupport_instrumental, empowerment_knowledge, empowerment_abilities, empowerment_desires, ca_cervix]\n",
       "Index: []"
      ]
     },
     "execution_count": 30,
     "metadata": {},
     "output_type": "execute_result"
    }
   ],
   "source": [
    "# Retrieve the norm_significantPerson column\n",
    "# Check whether there are null values in the norm_significantPerson column of Cervical_Cancer data set\n",
    "Cervical_Cancer[Cervical_Cancer['norm_significantPerson'].isnull().values==True]"
   ]
  },
  {
   "cell_type": "code",
   "execution_count": 31,
   "metadata": {},
   "outputs": [
    {
     "data": {
      "text/html": [
       "<div>\n",
       "<style scoped>\n",
       "    .dataframe tbody tr th:only-of-type {\n",
       "        vertical-align: middle;\n",
       "    }\n",
       "\n",
       "    .dataframe tbody tr th {\n",
       "        vertical-align: top;\n",
       "    }\n",
       "\n",
       "    .dataframe thead th {\n",
       "        text-align: right;\n",
       "    }\n",
       "</style>\n",
       "<table border=\"1\" class=\"dataframe\">\n",
       "  <thead>\n",
       "    <tr style=\"text-align: right;\">\n",
       "      <th></th>\n",
       "      <th>behavior_sexualRisk</th>\n",
       "      <th>behavior_eating</th>\n",
       "      <th>behavior_personalHygine</th>\n",
       "      <th>intention_aggregation</th>\n",
       "      <th>intention_commitment</th>\n",
       "      <th>attitude_consistency</th>\n",
       "      <th>attitude_spontaneity</th>\n",
       "      <th>norm_significantPerson</th>\n",
       "      <th>norm_fulfillment</th>\n",
       "      <th>perception_vulnerability</th>\n",
       "      <th>perception_severity</th>\n",
       "      <th>motivation_strength</th>\n",
       "      <th>motivation_willingness</th>\n",
       "      <th>socialSupport_emotionality</th>\n",
       "      <th>socialSupport_appreciation</th>\n",
       "      <th>socialSupport_instrumental</th>\n",
       "      <th>empowerment_knowledge</th>\n",
       "      <th>empowerment_abilities</th>\n",
       "      <th>empowerment_desires</th>\n",
       "      <th>ca_cervix</th>\n",
       "    </tr>\n",
       "  </thead>\n",
       "  <tbody>\n",
       "  </tbody>\n",
       "</table>\n",
       "</div>"
      ],
      "text/plain": [
       "Empty DataFrame\n",
       "Columns: [behavior_sexualRisk, behavior_eating, behavior_personalHygine, intention_aggregation, intention_commitment, attitude_consistency, attitude_spontaneity, norm_significantPerson, norm_fulfillment, perception_vulnerability, perception_severity, motivation_strength, motivation_willingness, socialSupport_emotionality, socialSupport_appreciation, socialSupport_instrumental, empowerment_knowledge, empowerment_abilities, empowerment_desires, ca_cervix]\n",
       "Index: []"
      ]
     },
     "execution_count": 31,
     "metadata": {},
     "output_type": "execute_result"
    }
   ],
   "source": [
    "# Check whether there are any data less than or equal to 0 in the norm_significantPerson column\n",
    "Cervical_Cancer[Cervical_Cancer['norm_significantPerson']<=0]"
   ]
  },
  {
   "cell_type": "code",
   "execution_count": 32,
   "metadata": {},
   "outputs": [
    {
     "data": {
      "text/plain": [
       "5    32\n",
       "1    27\n",
       "3     6\n",
       "2     4\n",
       "4     3\n",
       "Name: norm_significantPerson, dtype: int64"
      ]
     },
     "execution_count": 32,
     "metadata": {},
     "output_type": "execute_result"
    }
   ],
   "source": [
    "# Check the frequency of the norm_significantPerson column in the Cervical_Cancer data set\n",
    "Cervical_Cancer['norm_significantPerson'].value_counts()"
   ]
  },
  {
   "cell_type": "code",
   "execution_count": 33,
   "metadata": {},
   "outputs": [
    {
     "data": {
      "text/html": [
       "<div>\n",
       "<style scoped>\n",
       "    .dataframe tbody tr th:only-of-type {\n",
       "        vertical-align: middle;\n",
       "    }\n",
       "\n",
       "    .dataframe tbody tr th {\n",
       "        vertical-align: top;\n",
       "    }\n",
       "\n",
       "    .dataframe thead th {\n",
       "        text-align: right;\n",
       "    }\n",
       "</style>\n",
       "<table border=\"1\" class=\"dataframe\">\n",
       "  <thead>\n",
       "    <tr style=\"text-align: right;\">\n",
       "      <th></th>\n",
       "      <th>behavior_sexualRisk</th>\n",
       "      <th>behavior_eating</th>\n",
       "      <th>behavior_personalHygine</th>\n",
       "      <th>intention_aggregation</th>\n",
       "      <th>intention_commitment</th>\n",
       "      <th>attitude_consistency</th>\n",
       "      <th>attitude_spontaneity</th>\n",
       "      <th>norm_significantPerson</th>\n",
       "      <th>norm_fulfillment</th>\n",
       "      <th>perception_vulnerability</th>\n",
       "      <th>perception_severity</th>\n",
       "      <th>motivation_strength</th>\n",
       "      <th>motivation_willingness</th>\n",
       "      <th>socialSupport_emotionality</th>\n",
       "      <th>socialSupport_appreciation</th>\n",
       "      <th>socialSupport_instrumental</th>\n",
       "      <th>empowerment_knowledge</th>\n",
       "      <th>empowerment_abilities</th>\n",
       "      <th>empowerment_desires</th>\n",
       "      <th>ca_cervix</th>\n",
       "    </tr>\n",
       "  </thead>\n",
       "  <tbody>\n",
       "  </tbody>\n",
       "</table>\n",
       "</div>"
      ],
      "text/plain": [
       "Empty DataFrame\n",
       "Columns: [behavior_sexualRisk, behavior_eating, behavior_personalHygine, intention_aggregation, intention_commitment, attitude_consistency, attitude_spontaneity, norm_significantPerson, norm_fulfillment, perception_vulnerability, perception_severity, motivation_strength, motivation_willingness, socialSupport_emotionality, socialSupport_appreciation, socialSupport_instrumental, empowerment_knowledge, empowerment_abilities, empowerment_desires, ca_cervix]\n",
       "Index: []"
      ]
     },
     "execution_count": 33,
     "metadata": {},
     "output_type": "execute_result"
    }
   ],
   "source": [
    "# Retrieve the norm_fulfillment column\n",
    "# Check whether there are null values in the norm_fulfillment column of Cervical_Cancer data set\n",
    "Cervical_Cancer[Cervical_Cancer['norm_fulfillment'].isnull().values==True]"
   ]
  },
  {
   "cell_type": "code",
   "execution_count": 34,
   "metadata": {},
   "outputs": [
    {
     "data": {
      "text/html": [
       "<div>\n",
       "<style scoped>\n",
       "    .dataframe tbody tr th:only-of-type {\n",
       "        vertical-align: middle;\n",
       "    }\n",
       "\n",
       "    .dataframe tbody tr th {\n",
       "        vertical-align: top;\n",
       "    }\n",
       "\n",
       "    .dataframe thead th {\n",
       "        text-align: right;\n",
       "    }\n",
       "</style>\n",
       "<table border=\"1\" class=\"dataframe\">\n",
       "  <thead>\n",
       "    <tr style=\"text-align: right;\">\n",
       "      <th></th>\n",
       "      <th>behavior_sexualRisk</th>\n",
       "      <th>behavior_eating</th>\n",
       "      <th>behavior_personalHygine</th>\n",
       "      <th>intention_aggregation</th>\n",
       "      <th>intention_commitment</th>\n",
       "      <th>attitude_consistency</th>\n",
       "      <th>attitude_spontaneity</th>\n",
       "      <th>norm_significantPerson</th>\n",
       "      <th>norm_fulfillment</th>\n",
       "      <th>perception_vulnerability</th>\n",
       "      <th>perception_severity</th>\n",
       "      <th>motivation_strength</th>\n",
       "      <th>motivation_willingness</th>\n",
       "      <th>socialSupport_emotionality</th>\n",
       "      <th>socialSupport_appreciation</th>\n",
       "      <th>socialSupport_instrumental</th>\n",
       "      <th>empowerment_knowledge</th>\n",
       "      <th>empowerment_abilities</th>\n",
       "      <th>empowerment_desires</th>\n",
       "      <th>ca_cervix</th>\n",
       "    </tr>\n",
       "  </thead>\n",
       "  <tbody>\n",
       "  </tbody>\n",
       "</table>\n",
       "</div>"
      ],
      "text/plain": [
       "Empty DataFrame\n",
       "Columns: [behavior_sexualRisk, behavior_eating, behavior_personalHygine, intention_aggregation, intention_commitment, attitude_consistency, attitude_spontaneity, norm_significantPerson, norm_fulfillment, perception_vulnerability, perception_severity, motivation_strength, motivation_willingness, socialSupport_emotionality, socialSupport_appreciation, socialSupport_instrumental, empowerment_knowledge, empowerment_abilities, empowerment_desires, ca_cervix]\n",
       "Index: []"
      ]
     },
     "execution_count": 34,
     "metadata": {},
     "output_type": "execute_result"
    }
   ],
   "source": [
    "# Check whether there are any data less than or equal to 0 in the norm_fulfillment column\n",
    "Cervical_Cancer[Cervical_Cancer['norm_fulfillment']<=0]"
   ]
  },
  {
   "cell_type": "code",
   "execution_count": 35,
   "metadata": {},
   "outputs": [
    {
     "data": {
      "text/plain": [
       "3     19\n",
       "15    14\n",
       "5     11\n",
       "14     8\n",
       "11     6\n",
       "8      3\n",
       "7      3\n",
       "4      3\n",
       "13     2\n",
       "12     1\n",
       "10     1\n",
       "6      1\n",
       "Name: norm_fulfillment, dtype: int64"
      ]
     },
     "execution_count": 35,
     "metadata": {},
     "output_type": "execute_result"
    }
   ],
   "source": [
    "# Check the frequency of the norm_fulfillment column in the Cervical_Cancer data set\n",
    "Cervical_Cancer['norm_fulfillment'].value_counts()"
   ]
  },
  {
   "cell_type": "code",
   "execution_count": 36,
   "metadata": {},
   "outputs": [
    {
     "data": {
      "text/html": [
       "<div>\n",
       "<style scoped>\n",
       "    .dataframe tbody tr th:only-of-type {\n",
       "        vertical-align: middle;\n",
       "    }\n",
       "\n",
       "    .dataframe tbody tr th {\n",
       "        vertical-align: top;\n",
       "    }\n",
       "\n",
       "    .dataframe thead th {\n",
       "        text-align: right;\n",
       "    }\n",
       "</style>\n",
       "<table border=\"1\" class=\"dataframe\">\n",
       "  <thead>\n",
       "    <tr style=\"text-align: right;\">\n",
       "      <th></th>\n",
       "      <th>behavior_sexualRisk</th>\n",
       "      <th>behavior_eating</th>\n",
       "      <th>behavior_personalHygine</th>\n",
       "      <th>intention_aggregation</th>\n",
       "      <th>intention_commitment</th>\n",
       "      <th>attitude_consistency</th>\n",
       "      <th>attitude_spontaneity</th>\n",
       "      <th>norm_significantPerson</th>\n",
       "      <th>norm_fulfillment</th>\n",
       "      <th>perception_vulnerability</th>\n",
       "      <th>perception_severity</th>\n",
       "      <th>motivation_strength</th>\n",
       "      <th>motivation_willingness</th>\n",
       "      <th>socialSupport_emotionality</th>\n",
       "      <th>socialSupport_appreciation</th>\n",
       "      <th>socialSupport_instrumental</th>\n",
       "      <th>empowerment_knowledge</th>\n",
       "      <th>empowerment_abilities</th>\n",
       "      <th>empowerment_desires</th>\n",
       "      <th>ca_cervix</th>\n",
       "    </tr>\n",
       "  </thead>\n",
       "  <tbody>\n",
       "  </tbody>\n",
       "</table>\n",
       "</div>"
      ],
      "text/plain": [
       "Empty DataFrame\n",
       "Columns: [behavior_sexualRisk, behavior_eating, behavior_personalHygine, intention_aggregation, intention_commitment, attitude_consistency, attitude_spontaneity, norm_significantPerson, norm_fulfillment, perception_vulnerability, perception_severity, motivation_strength, motivation_willingness, socialSupport_emotionality, socialSupport_appreciation, socialSupport_instrumental, empowerment_knowledge, empowerment_abilities, empowerment_desires, ca_cervix]\n",
       "Index: []"
      ]
     },
     "execution_count": 36,
     "metadata": {},
     "output_type": "execute_result"
    }
   ],
   "source": [
    "# Retrieve the perception_vulnerability column\n",
    "# Check whether there are null values in the perception_vulnerability column of Cervical_Cancer data set\n",
    "Cervical_Cancer[Cervical_Cancer['perception_vulnerability'].isnull().values==True]"
   ]
  },
  {
   "cell_type": "code",
   "execution_count": 37,
   "metadata": {},
   "outputs": [
    {
     "data": {
      "text/html": [
       "<div>\n",
       "<style scoped>\n",
       "    .dataframe tbody tr th:only-of-type {\n",
       "        vertical-align: middle;\n",
       "    }\n",
       "\n",
       "    .dataframe tbody tr th {\n",
       "        vertical-align: top;\n",
       "    }\n",
       "\n",
       "    .dataframe thead th {\n",
       "        text-align: right;\n",
       "    }\n",
       "</style>\n",
       "<table border=\"1\" class=\"dataframe\">\n",
       "  <thead>\n",
       "    <tr style=\"text-align: right;\">\n",
       "      <th></th>\n",
       "      <th>behavior_sexualRisk</th>\n",
       "      <th>behavior_eating</th>\n",
       "      <th>behavior_personalHygine</th>\n",
       "      <th>intention_aggregation</th>\n",
       "      <th>intention_commitment</th>\n",
       "      <th>attitude_consistency</th>\n",
       "      <th>attitude_spontaneity</th>\n",
       "      <th>norm_significantPerson</th>\n",
       "      <th>norm_fulfillment</th>\n",
       "      <th>perception_vulnerability</th>\n",
       "      <th>perception_severity</th>\n",
       "      <th>motivation_strength</th>\n",
       "      <th>motivation_willingness</th>\n",
       "      <th>socialSupport_emotionality</th>\n",
       "      <th>socialSupport_appreciation</th>\n",
       "      <th>socialSupport_instrumental</th>\n",
       "      <th>empowerment_knowledge</th>\n",
       "      <th>empowerment_abilities</th>\n",
       "      <th>empowerment_desires</th>\n",
       "      <th>ca_cervix</th>\n",
       "    </tr>\n",
       "  </thead>\n",
       "  <tbody>\n",
       "  </tbody>\n",
       "</table>\n",
       "</div>"
      ],
      "text/plain": [
       "Empty DataFrame\n",
       "Columns: [behavior_sexualRisk, behavior_eating, behavior_personalHygine, intention_aggregation, intention_commitment, attitude_consistency, attitude_spontaneity, norm_significantPerson, norm_fulfillment, perception_vulnerability, perception_severity, motivation_strength, motivation_willingness, socialSupport_emotionality, socialSupport_appreciation, socialSupport_instrumental, empowerment_knowledge, empowerment_abilities, empowerment_desires, ca_cervix]\n",
       "Index: []"
      ]
     },
     "execution_count": 37,
     "metadata": {},
     "output_type": "execute_result"
    }
   ],
   "source": [
    "# Check whether there are any data less than 0 in the perception_vulnerability column\n",
    "Cervical_Cancer[Cervical_Cancer['perception_vulnerability']<0]"
   ]
  },
  {
   "cell_type": "code",
   "execution_count": 38,
   "metadata": {},
   "outputs": [
    {
     "data": {
      "text/plain": [
       "3     12\n",
       "15    10\n",
       "7      7\n",
       "13     6\n",
       "5      6\n",
       "6      5\n",
       "4      5\n",
       "14     4\n",
       "11     4\n",
       "10     4\n",
       "9      4\n",
       "8      4\n",
       "12     1\n",
       "Name: perception_vulnerability, dtype: int64"
      ]
     },
     "execution_count": 38,
     "metadata": {},
     "output_type": "execute_result"
    }
   ],
   "source": [
    "# Check the frequency of the perception_vulnerability column in the Cervical_Cancer data set\n",
    "Cervical_Cancer['perception_vulnerability'].value_counts()"
   ]
  },
  {
   "cell_type": "code",
   "execution_count": 39,
   "metadata": {},
   "outputs": [
    {
     "data": {
      "text/html": [
       "<div>\n",
       "<style scoped>\n",
       "    .dataframe tbody tr th:only-of-type {\n",
       "        vertical-align: middle;\n",
       "    }\n",
       "\n",
       "    .dataframe tbody tr th {\n",
       "        vertical-align: top;\n",
       "    }\n",
       "\n",
       "    .dataframe thead th {\n",
       "        text-align: right;\n",
       "    }\n",
       "</style>\n",
       "<table border=\"1\" class=\"dataframe\">\n",
       "  <thead>\n",
       "    <tr style=\"text-align: right;\">\n",
       "      <th></th>\n",
       "      <th>behavior_sexualRisk</th>\n",
       "      <th>behavior_eating</th>\n",
       "      <th>behavior_personalHygine</th>\n",
       "      <th>intention_aggregation</th>\n",
       "      <th>intention_commitment</th>\n",
       "      <th>attitude_consistency</th>\n",
       "      <th>attitude_spontaneity</th>\n",
       "      <th>norm_significantPerson</th>\n",
       "      <th>norm_fulfillment</th>\n",
       "      <th>perception_vulnerability</th>\n",
       "      <th>perception_severity</th>\n",
       "      <th>motivation_strength</th>\n",
       "      <th>motivation_willingness</th>\n",
       "      <th>socialSupport_emotionality</th>\n",
       "      <th>socialSupport_appreciation</th>\n",
       "      <th>socialSupport_instrumental</th>\n",
       "      <th>empowerment_knowledge</th>\n",
       "      <th>empowerment_abilities</th>\n",
       "      <th>empowerment_desires</th>\n",
       "      <th>ca_cervix</th>\n",
       "    </tr>\n",
       "  </thead>\n",
       "  <tbody>\n",
       "  </tbody>\n",
       "</table>\n",
       "</div>"
      ],
      "text/plain": [
       "Empty DataFrame\n",
       "Columns: [behavior_sexualRisk, behavior_eating, behavior_personalHygine, intention_aggregation, intention_commitment, attitude_consistency, attitude_spontaneity, norm_significantPerson, norm_fulfillment, perception_vulnerability, perception_severity, motivation_strength, motivation_willingness, socialSupport_emotionality, socialSupport_appreciation, socialSupport_instrumental, empowerment_knowledge, empowerment_abilities, empowerment_desires, ca_cervix]\n",
       "Index: []"
      ]
     },
     "execution_count": 39,
     "metadata": {},
     "output_type": "execute_result"
    }
   ],
   "source": [
    "# Retrieve the perception_severity column\n",
    "# Check whether there are null values in the perception_severity column of Cervical_Cancer data set\n",
    "Cervical_Cancer[Cervical_Cancer['perception_severity'].isnull().values==True]"
   ]
  },
  {
   "cell_type": "code",
   "execution_count": 40,
   "metadata": {},
   "outputs": [
    {
     "data": {
      "text/html": [
       "<div>\n",
       "<style scoped>\n",
       "    .dataframe tbody tr th:only-of-type {\n",
       "        vertical-align: middle;\n",
       "    }\n",
       "\n",
       "    .dataframe tbody tr th {\n",
       "        vertical-align: top;\n",
       "    }\n",
       "\n",
       "    .dataframe thead th {\n",
       "        text-align: right;\n",
       "    }\n",
       "</style>\n",
       "<table border=\"1\" class=\"dataframe\">\n",
       "  <thead>\n",
       "    <tr style=\"text-align: right;\">\n",
       "      <th></th>\n",
       "      <th>behavior_sexualRisk</th>\n",
       "      <th>behavior_eating</th>\n",
       "      <th>behavior_personalHygine</th>\n",
       "      <th>intention_aggregation</th>\n",
       "      <th>intention_commitment</th>\n",
       "      <th>attitude_consistency</th>\n",
       "      <th>attitude_spontaneity</th>\n",
       "      <th>norm_significantPerson</th>\n",
       "      <th>norm_fulfillment</th>\n",
       "      <th>perception_vulnerability</th>\n",
       "      <th>perception_severity</th>\n",
       "      <th>motivation_strength</th>\n",
       "      <th>motivation_willingness</th>\n",
       "      <th>socialSupport_emotionality</th>\n",
       "      <th>socialSupport_appreciation</th>\n",
       "      <th>socialSupport_instrumental</th>\n",
       "      <th>empowerment_knowledge</th>\n",
       "      <th>empowerment_abilities</th>\n",
       "      <th>empowerment_desires</th>\n",
       "      <th>ca_cervix</th>\n",
       "    </tr>\n",
       "  </thead>\n",
       "  <tbody>\n",
       "  </tbody>\n",
       "</table>\n",
       "</div>"
      ],
      "text/plain": [
       "Empty DataFrame\n",
       "Columns: [behavior_sexualRisk, behavior_eating, behavior_personalHygine, intention_aggregation, intention_commitment, attitude_consistency, attitude_spontaneity, norm_significantPerson, norm_fulfillment, perception_vulnerability, perception_severity, motivation_strength, motivation_willingness, socialSupport_emotionality, socialSupport_appreciation, socialSupport_instrumental, empowerment_knowledge, empowerment_abilities, empowerment_desires, ca_cervix]\n",
       "Index: []"
      ]
     },
     "execution_count": 40,
     "metadata": {},
     "output_type": "execute_result"
    }
   ],
   "source": [
    "# Check whether there are any data less than 0 in the perception_severity column\n",
    "Cervical_Cancer[Cervical_Cancer['perception_severity']<0]"
   ]
  },
  {
   "cell_type": "code",
   "execution_count": 41,
   "metadata": {},
   "outputs": [
    {
     "data": {
      "text/plain": [
       "2     29\n",
       "10    16\n",
       "8      9\n",
       "4      7\n",
       "9      4\n",
       "6      3\n",
       "3      3\n",
       "7      1\n",
       "Name: perception_severity, dtype: int64"
      ]
     },
     "execution_count": 41,
     "metadata": {},
     "output_type": "execute_result"
    }
   ],
   "source": [
    "# Check the frequency of the perception_severity column in the Cervical_Cancer data set\n",
    "Cervical_Cancer['perception_severity'].value_counts()"
   ]
  },
  {
   "cell_type": "code",
   "execution_count": 42,
   "metadata": {},
   "outputs": [
    {
     "data": {
      "text/html": [
       "<div>\n",
       "<style scoped>\n",
       "    .dataframe tbody tr th:only-of-type {\n",
       "        vertical-align: middle;\n",
       "    }\n",
       "\n",
       "    .dataframe tbody tr th {\n",
       "        vertical-align: top;\n",
       "    }\n",
       "\n",
       "    .dataframe thead th {\n",
       "        text-align: right;\n",
       "    }\n",
       "</style>\n",
       "<table border=\"1\" class=\"dataframe\">\n",
       "  <thead>\n",
       "    <tr style=\"text-align: right;\">\n",
       "      <th></th>\n",
       "      <th>behavior_sexualRisk</th>\n",
       "      <th>behavior_eating</th>\n",
       "      <th>behavior_personalHygine</th>\n",
       "      <th>intention_aggregation</th>\n",
       "      <th>intention_commitment</th>\n",
       "      <th>attitude_consistency</th>\n",
       "      <th>attitude_spontaneity</th>\n",
       "      <th>norm_significantPerson</th>\n",
       "      <th>norm_fulfillment</th>\n",
       "      <th>perception_vulnerability</th>\n",
       "      <th>perception_severity</th>\n",
       "      <th>motivation_strength</th>\n",
       "      <th>motivation_willingness</th>\n",
       "      <th>socialSupport_emotionality</th>\n",
       "      <th>socialSupport_appreciation</th>\n",
       "      <th>socialSupport_instrumental</th>\n",
       "      <th>empowerment_knowledge</th>\n",
       "      <th>empowerment_abilities</th>\n",
       "      <th>empowerment_desires</th>\n",
       "      <th>ca_cervix</th>\n",
       "    </tr>\n",
       "  </thead>\n",
       "  <tbody>\n",
       "  </tbody>\n",
       "</table>\n",
       "</div>"
      ],
      "text/plain": [
       "Empty DataFrame\n",
       "Columns: [behavior_sexualRisk, behavior_eating, behavior_personalHygine, intention_aggregation, intention_commitment, attitude_consistency, attitude_spontaneity, norm_significantPerson, norm_fulfillment, perception_vulnerability, perception_severity, motivation_strength, motivation_willingness, socialSupport_emotionality, socialSupport_appreciation, socialSupport_instrumental, empowerment_knowledge, empowerment_abilities, empowerment_desires, ca_cervix]\n",
       "Index: []"
      ]
     },
     "execution_count": 42,
     "metadata": {},
     "output_type": "execute_result"
    }
   ],
   "source": [
    "# Retrieve the motivation_strength column\n",
    "# Check whether there are null values in the motivation_strength column of Cervical_Cancer data set\n",
    "Cervical_Cancer[Cervical_Cancer['motivation_strength'].isnull().values==True]"
   ]
  },
  {
   "cell_type": "code",
   "execution_count": 43,
   "metadata": {},
   "outputs": [
    {
     "data": {
      "text/html": [
       "<div>\n",
       "<style scoped>\n",
       "    .dataframe tbody tr th:only-of-type {\n",
       "        vertical-align: middle;\n",
       "    }\n",
       "\n",
       "    .dataframe tbody tr th {\n",
       "        vertical-align: top;\n",
       "    }\n",
       "\n",
       "    .dataframe thead th {\n",
       "        text-align: right;\n",
       "    }\n",
       "</style>\n",
       "<table border=\"1\" class=\"dataframe\">\n",
       "  <thead>\n",
       "    <tr style=\"text-align: right;\">\n",
       "      <th></th>\n",
       "      <th>behavior_sexualRisk</th>\n",
       "      <th>behavior_eating</th>\n",
       "      <th>behavior_personalHygine</th>\n",
       "      <th>intention_aggregation</th>\n",
       "      <th>intention_commitment</th>\n",
       "      <th>attitude_consistency</th>\n",
       "      <th>attitude_spontaneity</th>\n",
       "      <th>norm_significantPerson</th>\n",
       "      <th>norm_fulfillment</th>\n",
       "      <th>perception_vulnerability</th>\n",
       "      <th>perception_severity</th>\n",
       "      <th>motivation_strength</th>\n",
       "      <th>motivation_willingness</th>\n",
       "      <th>socialSupport_emotionality</th>\n",
       "      <th>socialSupport_appreciation</th>\n",
       "      <th>socialSupport_instrumental</th>\n",
       "      <th>empowerment_knowledge</th>\n",
       "      <th>empowerment_abilities</th>\n",
       "      <th>empowerment_desires</th>\n",
       "      <th>ca_cervix</th>\n",
       "    </tr>\n",
       "  </thead>\n",
       "  <tbody>\n",
       "  </tbody>\n",
       "</table>\n",
       "</div>"
      ],
      "text/plain": [
       "Empty DataFrame\n",
       "Columns: [behavior_sexualRisk, behavior_eating, behavior_personalHygine, intention_aggregation, intention_commitment, attitude_consistency, attitude_spontaneity, norm_significantPerson, norm_fulfillment, perception_vulnerability, perception_severity, motivation_strength, motivation_willingness, socialSupport_emotionality, socialSupport_appreciation, socialSupport_instrumental, empowerment_knowledge, empowerment_abilities, empowerment_desires, ca_cervix]\n",
       "Index: []"
      ]
     },
     "execution_count": 43,
     "metadata": {},
     "output_type": "execute_result"
    }
   ],
   "source": [
    "# Check whether there are any data less than 0 in the motivation_strength column\n",
    "Cervical_Cancer[Cervical_Cancer['motivation_strength']<0]"
   ]
  },
  {
   "cell_type": "code",
   "execution_count": 44,
   "metadata": {},
   "outputs": [
    {
     "data": {
      "text/plain": [
       "15    34\n",
       "14     7\n",
       "11     7\n",
       "13     6\n",
       "12     4\n",
       "10     4\n",
       "9      2\n",
       "7      2\n",
       "6      2\n",
       "4      2\n",
       "5      1\n",
       "3      1\n",
       "Name: motivation_strength, dtype: int64"
      ]
     },
     "execution_count": 44,
     "metadata": {},
     "output_type": "execute_result"
    }
   ],
   "source": [
    "# Check the frequency of the motivation_strength column in the Cervical_Cancer data set\n",
    "Cervical_Cancer['motivation_strength'].value_counts()"
   ]
  },
  {
   "cell_type": "code",
   "execution_count": 45,
   "metadata": {},
   "outputs": [
    {
     "data": {
      "text/html": [
       "<div>\n",
       "<style scoped>\n",
       "    .dataframe tbody tr th:only-of-type {\n",
       "        vertical-align: middle;\n",
       "    }\n",
       "\n",
       "    .dataframe tbody tr th {\n",
       "        vertical-align: top;\n",
       "    }\n",
       "\n",
       "    .dataframe thead th {\n",
       "        text-align: right;\n",
       "    }\n",
       "</style>\n",
       "<table border=\"1\" class=\"dataframe\">\n",
       "  <thead>\n",
       "    <tr style=\"text-align: right;\">\n",
       "      <th></th>\n",
       "      <th>behavior_sexualRisk</th>\n",
       "      <th>behavior_eating</th>\n",
       "      <th>behavior_personalHygine</th>\n",
       "      <th>intention_aggregation</th>\n",
       "      <th>intention_commitment</th>\n",
       "      <th>attitude_consistency</th>\n",
       "      <th>attitude_spontaneity</th>\n",
       "      <th>norm_significantPerson</th>\n",
       "      <th>norm_fulfillment</th>\n",
       "      <th>perception_vulnerability</th>\n",
       "      <th>perception_severity</th>\n",
       "      <th>motivation_strength</th>\n",
       "      <th>motivation_willingness</th>\n",
       "      <th>socialSupport_emotionality</th>\n",
       "      <th>socialSupport_appreciation</th>\n",
       "      <th>socialSupport_instrumental</th>\n",
       "      <th>empowerment_knowledge</th>\n",
       "      <th>empowerment_abilities</th>\n",
       "      <th>empowerment_desires</th>\n",
       "      <th>ca_cervix</th>\n",
       "    </tr>\n",
       "  </thead>\n",
       "  <tbody>\n",
       "  </tbody>\n",
       "</table>\n",
       "</div>"
      ],
      "text/plain": [
       "Empty DataFrame\n",
       "Columns: [behavior_sexualRisk, behavior_eating, behavior_personalHygine, intention_aggregation, intention_commitment, attitude_consistency, attitude_spontaneity, norm_significantPerson, norm_fulfillment, perception_vulnerability, perception_severity, motivation_strength, motivation_willingness, socialSupport_emotionality, socialSupport_appreciation, socialSupport_instrumental, empowerment_knowledge, empowerment_abilities, empowerment_desires, ca_cervix]\n",
       "Index: []"
      ]
     },
     "execution_count": 45,
     "metadata": {},
     "output_type": "execute_result"
    }
   ],
   "source": [
    "# Retrieve the socialSupport_emotionality column\n",
    "# Check whether there are null values in the socialSupport_emotionality column of Cervical_Cancer data set\n",
    "Cervical_Cancer[Cervical_Cancer['socialSupport_emotionality'].isnull().values==True]"
   ]
  },
  {
   "cell_type": "code",
   "execution_count": 46,
   "metadata": {},
   "outputs": [
    {
     "data": {
      "text/html": [
       "<div>\n",
       "<style scoped>\n",
       "    .dataframe tbody tr th:only-of-type {\n",
       "        vertical-align: middle;\n",
       "    }\n",
       "\n",
       "    .dataframe tbody tr th {\n",
       "        vertical-align: top;\n",
       "    }\n",
       "\n",
       "    .dataframe thead th {\n",
       "        text-align: right;\n",
       "    }\n",
       "</style>\n",
       "<table border=\"1\" class=\"dataframe\">\n",
       "  <thead>\n",
       "    <tr style=\"text-align: right;\">\n",
       "      <th></th>\n",
       "      <th>behavior_sexualRisk</th>\n",
       "      <th>behavior_eating</th>\n",
       "      <th>behavior_personalHygine</th>\n",
       "      <th>intention_aggregation</th>\n",
       "      <th>intention_commitment</th>\n",
       "      <th>attitude_consistency</th>\n",
       "      <th>attitude_spontaneity</th>\n",
       "      <th>norm_significantPerson</th>\n",
       "      <th>norm_fulfillment</th>\n",
       "      <th>perception_vulnerability</th>\n",
       "      <th>perception_severity</th>\n",
       "      <th>motivation_strength</th>\n",
       "      <th>motivation_willingness</th>\n",
       "      <th>socialSupport_emotionality</th>\n",
       "      <th>socialSupport_appreciation</th>\n",
       "      <th>socialSupport_instrumental</th>\n",
       "      <th>empowerment_knowledge</th>\n",
       "      <th>empowerment_abilities</th>\n",
       "      <th>empowerment_desires</th>\n",
       "      <th>ca_cervix</th>\n",
       "    </tr>\n",
       "  </thead>\n",
       "  <tbody>\n",
       "  </tbody>\n",
       "</table>\n",
       "</div>"
      ],
      "text/plain": [
       "Empty DataFrame\n",
       "Columns: [behavior_sexualRisk, behavior_eating, behavior_personalHygine, intention_aggregation, intention_commitment, attitude_consistency, attitude_spontaneity, norm_significantPerson, norm_fulfillment, perception_vulnerability, perception_severity, motivation_strength, motivation_willingness, socialSupport_emotionality, socialSupport_appreciation, socialSupport_instrumental, empowerment_knowledge, empowerment_abilities, empowerment_desires, ca_cervix]\n",
       "Index: []"
      ]
     },
     "execution_count": 46,
     "metadata": {},
     "output_type": "execute_result"
    }
   ],
   "source": [
    "# Check whether there are any data less than 0 in the socialSupport_emotionality column\n",
    "Cervical_Cancer[Cervical_Cancer['socialSupport_emotionality']<0]"
   ]
  },
  {
   "cell_type": "code",
   "execution_count": 47,
   "metadata": {},
   "outputs": [
    {
     "data": {
      "text/plain": [
       "3     22\n",
       "11     9\n",
       "13     8\n",
       "9      8\n",
       "15     5\n",
       "7      5\n",
       "12     3\n",
       "10     3\n",
       "14     2\n",
       "6      2\n",
       "5      2\n",
       "4      2\n",
       "8      1\n",
       "Name: socialSupport_emotionality, dtype: int64"
      ]
     },
     "execution_count": 47,
     "metadata": {},
     "output_type": "execute_result"
    }
   ],
   "source": [
    "# Check the frequency of the socialSupport_emotionality column in the Cervical_Cancer data set\n",
    "Cervical_Cancer['socialSupport_emotionality'].value_counts()"
   ]
  },
  {
   "cell_type": "code",
   "execution_count": 48,
   "metadata": {},
   "outputs": [
    {
     "data": {
      "text/html": [
       "<div>\n",
       "<style scoped>\n",
       "    .dataframe tbody tr th:only-of-type {\n",
       "        vertical-align: middle;\n",
       "    }\n",
       "\n",
       "    .dataframe tbody tr th {\n",
       "        vertical-align: top;\n",
       "    }\n",
       "\n",
       "    .dataframe thead th {\n",
       "        text-align: right;\n",
       "    }\n",
       "</style>\n",
       "<table border=\"1\" class=\"dataframe\">\n",
       "  <thead>\n",
       "    <tr style=\"text-align: right;\">\n",
       "      <th></th>\n",
       "      <th>behavior_sexualRisk</th>\n",
       "      <th>behavior_eating</th>\n",
       "      <th>behavior_personalHygine</th>\n",
       "      <th>intention_aggregation</th>\n",
       "      <th>intention_commitment</th>\n",
       "      <th>attitude_consistency</th>\n",
       "      <th>attitude_spontaneity</th>\n",
       "      <th>norm_significantPerson</th>\n",
       "      <th>norm_fulfillment</th>\n",
       "      <th>perception_vulnerability</th>\n",
       "      <th>perception_severity</th>\n",
       "      <th>motivation_strength</th>\n",
       "      <th>motivation_willingness</th>\n",
       "      <th>socialSupport_emotionality</th>\n",
       "      <th>socialSupport_appreciation</th>\n",
       "      <th>socialSupport_instrumental</th>\n",
       "      <th>empowerment_knowledge</th>\n",
       "      <th>empowerment_abilities</th>\n",
       "      <th>empowerment_desires</th>\n",
       "      <th>ca_cervix</th>\n",
       "    </tr>\n",
       "  </thead>\n",
       "  <tbody>\n",
       "  </tbody>\n",
       "</table>\n",
       "</div>"
      ],
      "text/plain": [
       "Empty DataFrame\n",
       "Columns: [behavior_sexualRisk, behavior_eating, behavior_personalHygine, intention_aggregation, intention_commitment, attitude_consistency, attitude_spontaneity, norm_significantPerson, norm_fulfillment, perception_vulnerability, perception_severity, motivation_strength, motivation_willingness, socialSupport_emotionality, socialSupport_appreciation, socialSupport_instrumental, empowerment_knowledge, empowerment_abilities, empowerment_desires, ca_cervix]\n",
       "Index: []"
      ]
     },
     "execution_count": 48,
     "metadata": {},
     "output_type": "execute_result"
    }
   ],
   "source": [
    "# Retrieve the socialSupport_appreciation column\n",
    "# Check whether there are null values in the socialSupport_appreciation column of Cervical_Cancer data set\n",
    "Cervical_Cancer[Cervical_Cancer['socialSupport_appreciation'].isnull().values==True]"
   ]
  },
  {
   "cell_type": "code",
   "execution_count": 49,
   "metadata": {},
   "outputs": [
    {
     "data": {
      "text/html": [
       "<div>\n",
       "<style scoped>\n",
       "    .dataframe tbody tr th:only-of-type {\n",
       "        vertical-align: middle;\n",
       "    }\n",
       "\n",
       "    .dataframe tbody tr th {\n",
       "        vertical-align: top;\n",
       "    }\n",
       "\n",
       "    .dataframe thead th {\n",
       "        text-align: right;\n",
       "    }\n",
       "</style>\n",
       "<table border=\"1\" class=\"dataframe\">\n",
       "  <thead>\n",
       "    <tr style=\"text-align: right;\">\n",
       "      <th></th>\n",
       "      <th>behavior_sexualRisk</th>\n",
       "      <th>behavior_eating</th>\n",
       "      <th>behavior_personalHygine</th>\n",
       "      <th>intention_aggregation</th>\n",
       "      <th>intention_commitment</th>\n",
       "      <th>attitude_consistency</th>\n",
       "      <th>attitude_spontaneity</th>\n",
       "      <th>norm_significantPerson</th>\n",
       "      <th>norm_fulfillment</th>\n",
       "      <th>perception_vulnerability</th>\n",
       "      <th>perception_severity</th>\n",
       "      <th>motivation_strength</th>\n",
       "      <th>motivation_willingness</th>\n",
       "      <th>socialSupport_emotionality</th>\n",
       "      <th>socialSupport_appreciation</th>\n",
       "      <th>socialSupport_instrumental</th>\n",
       "      <th>empowerment_knowledge</th>\n",
       "      <th>empowerment_abilities</th>\n",
       "      <th>empowerment_desires</th>\n",
       "      <th>ca_cervix</th>\n",
       "    </tr>\n",
       "  </thead>\n",
       "  <tbody>\n",
       "  </tbody>\n",
       "</table>\n",
       "</div>"
      ],
      "text/plain": [
       "Empty DataFrame\n",
       "Columns: [behavior_sexualRisk, behavior_eating, behavior_personalHygine, intention_aggregation, intention_commitment, attitude_consistency, attitude_spontaneity, norm_significantPerson, norm_fulfillment, perception_vulnerability, perception_severity, motivation_strength, motivation_willingness, socialSupport_emotionality, socialSupport_appreciation, socialSupport_instrumental, empowerment_knowledge, empowerment_abilities, empowerment_desires, ca_cervix]\n",
       "Index: []"
      ]
     },
     "execution_count": 49,
     "metadata": {},
     "output_type": "execute_result"
    }
   ],
   "source": [
    "# Check whether there are any data less than 0 in the socialSupport_appreciation column\n",
    "Cervical_Cancer[Cervical_Cancer['socialSupport_appreciation']<0]"
   ]
  },
  {
   "cell_type": "code",
   "execution_count": 50,
   "metadata": {},
   "outputs": [
    {
     "data": {
      "text/plain": [
       "2     15\n",
       "10    12\n",
       "8     10\n",
       "6     10\n",
       "9      7\n",
       "7      7\n",
       "4      7\n",
       "3      3\n",
       "5      1\n",
       "Name: socialSupport_appreciation, dtype: int64"
      ]
     },
     "execution_count": 50,
     "metadata": {},
     "output_type": "execute_result"
    }
   ],
   "source": [
    "# Check the frequency of the socialSupport_appreciation column in the Cervical_Cancer data set\n",
    "Cervical_Cancer['socialSupport_appreciation'].value_counts()"
   ]
  },
  {
   "cell_type": "code",
   "execution_count": 51,
   "metadata": {},
   "outputs": [
    {
     "data": {
      "text/html": [
       "<div>\n",
       "<style scoped>\n",
       "    .dataframe tbody tr th:only-of-type {\n",
       "        vertical-align: middle;\n",
       "    }\n",
       "\n",
       "    .dataframe tbody tr th {\n",
       "        vertical-align: top;\n",
       "    }\n",
       "\n",
       "    .dataframe thead th {\n",
       "        text-align: right;\n",
       "    }\n",
       "</style>\n",
       "<table border=\"1\" class=\"dataframe\">\n",
       "  <thead>\n",
       "    <tr style=\"text-align: right;\">\n",
       "      <th></th>\n",
       "      <th>behavior_sexualRisk</th>\n",
       "      <th>behavior_eating</th>\n",
       "      <th>behavior_personalHygine</th>\n",
       "      <th>intention_aggregation</th>\n",
       "      <th>intention_commitment</th>\n",
       "      <th>attitude_consistency</th>\n",
       "      <th>attitude_spontaneity</th>\n",
       "      <th>norm_significantPerson</th>\n",
       "      <th>norm_fulfillment</th>\n",
       "      <th>perception_vulnerability</th>\n",
       "      <th>perception_severity</th>\n",
       "      <th>motivation_strength</th>\n",
       "      <th>motivation_willingness</th>\n",
       "      <th>socialSupport_emotionality</th>\n",
       "      <th>socialSupport_appreciation</th>\n",
       "      <th>socialSupport_instrumental</th>\n",
       "      <th>empowerment_knowledge</th>\n",
       "      <th>empowerment_abilities</th>\n",
       "      <th>empowerment_desires</th>\n",
       "      <th>ca_cervix</th>\n",
       "    </tr>\n",
       "  </thead>\n",
       "  <tbody>\n",
       "  </tbody>\n",
       "</table>\n",
       "</div>"
      ],
      "text/plain": [
       "Empty DataFrame\n",
       "Columns: [behavior_sexualRisk, behavior_eating, behavior_personalHygine, intention_aggregation, intention_commitment, attitude_consistency, attitude_spontaneity, norm_significantPerson, norm_fulfillment, perception_vulnerability, perception_severity, motivation_strength, motivation_willingness, socialSupport_emotionality, socialSupport_appreciation, socialSupport_instrumental, empowerment_knowledge, empowerment_abilities, empowerment_desires, ca_cervix]\n",
       "Index: []"
      ]
     },
     "execution_count": 51,
     "metadata": {},
     "output_type": "execute_result"
    }
   ],
   "source": [
    "# Retrieve the socialSupport_instrumental column\n",
    "# Check whether there are null values in the socialSupport_instrumental column of Cervical_Cancer data set\n",
    "Cervical_Cancer[Cervical_Cancer['socialSupport_instrumental'].isnull().values==True]"
   ]
  },
  {
   "cell_type": "code",
   "execution_count": 52,
   "metadata": {},
   "outputs": [
    {
     "data": {
      "text/html": [
       "<div>\n",
       "<style scoped>\n",
       "    .dataframe tbody tr th:only-of-type {\n",
       "        vertical-align: middle;\n",
       "    }\n",
       "\n",
       "    .dataframe tbody tr th {\n",
       "        vertical-align: top;\n",
       "    }\n",
       "\n",
       "    .dataframe thead th {\n",
       "        text-align: right;\n",
       "    }\n",
       "</style>\n",
       "<table border=\"1\" class=\"dataframe\">\n",
       "  <thead>\n",
       "    <tr style=\"text-align: right;\">\n",
       "      <th></th>\n",
       "      <th>behavior_sexualRisk</th>\n",
       "      <th>behavior_eating</th>\n",
       "      <th>behavior_personalHygine</th>\n",
       "      <th>intention_aggregation</th>\n",
       "      <th>intention_commitment</th>\n",
       "      <th>attitude_consistency</th>\n",
       "      <th>attitude_spontaneity</th>\n",
       "      <th>norm_significantPerson</th>\n",
       "      <th>norm_fulfillment</th>\n",
       "      <th>perception_vulnerability</th>\n",
       "      <th>perception_severity</th>\n",
       "      <th>motivation_strength</th>\n",
       "      <th>motivation_willingness</th>\n",
       "      <th>socialSupport_emotionality</th>\n",
       "      <th>socialSupport_appreciation</th>\n",
       "      <th>socialSupport_instrumental</th>\n",
       "      <th>empowerment_knowledge</th>\n",
       "      <th>empowerment_abilities</th>\n",
       "      <th>empowerment_desires</th>\n",
       "      <th>ca_cervix</th>\n",
       "    </tr>\n",
       "  </thead>\n",
       "  <tbody>\n",
       "  </tbody>\n",
       "</table>\n",
       "</div>"
      ],
      "text/plain": [
       "Empty DataFrame\n",
       "Columns: [behavior_sexualRisk, behavior_eating, behavior_personalHygine, intention_aggregation, intention_commitment, attitude_consistency, attitude_spontaneity, norm_significantPerson, norm_fulfillment, perception_vulnerability, perception_severity, motivation_strength, motivation_willingness, socialSupport_emotionality, socialSupport_appreciation, socialSupport_instrumental, empowerment_knowledge, empowerment_abilities, empowerment_desires, ca_cervix]\n",
       "Index: []"
      ]
     },
     "execution_count": 52,
     "metadata": {},
     "output_type": "execute_result"
    }
   ],
   "source": [
    "# Check whether there are any data less than 0 in the socialSupport_instrumental column\n",
    "Cervical_Cancer[Cervical_Cancer['socialSupport_instrumental']<0]"
   ]
  },
  {
   "cell_type": "code",
   "execution_count": 53,
   "metadata": {},
   "outputs": [
    {
     "data": {
      "text/plain": [
       "15    18\n",
       "12    10\n",
       "3      8\n",
       "14     6\n",
       "13     5\n",
       "9      5\n",
       "7      5\n",
       "11     4\n",
       "5      4\n",
       "6      3\n",
       "4      3\n",
       "10     1\n",
       "Name: socialSupport_instrumental, dtype: int64"
      ]
     },
     "execution_count": 53,
     "metadata": {},
     "output_type": "execute_result"
    }
   ],
   "source": [
    "# Check the frequency of the socialSupport_appreciation column in the Cervical_Cancer data set\n",
    "Cervical_Cancer['socialSupport_instrumental'].value_counts()"
   ]
  },
  {
   "cell_type": "code",
   "execution_count": 54,
   "metadata": {},
   "outputs": [
    {
     "data": {
      "text/html": [
       "<div>\n",
       "<style scoped>\n",
       "    .dataframe tbody tr th:only-of-type {\n",
       "        vertical-align: middle;\n",
       "    }\n",
       "\n",
       "    .dataframe tbody tr th {\n",
       "        vertical-align: top;\n",
       "    }\n",
       "\n",
       "    .dataframe thead th {\n",
       "        text-align: right;\n",
       "    }\n",
       "</style>\n",
       "<table border=\"1\" class=\"dataframe\">\n",
       "  <thead>\n",
       "    <tr style=\"text-align: right;\">\n",
       "      <th></th>\n",
       "      <th>behavior_sexualRisk</th>\n",
       "      <th>behavior_eating</th>\n",
       "      <th>behavior_personalHygine</th>\n",
       "      <th>intention_aggregation</th>\n",
       "      <th>intention_commitment</th>\n",
       "      <th>attitude_consistency</th>\n",
       "      <th>attitude_spontaneity</th>\n",
       "      <th>norm_significantPerson</th>\n",
       "      <th>norm_fulfillment</th>\n",
       "      <th>perception_vulnerability</th>\n",
       "      <th>perception_severity</th>\n",
       "      <th>motivation_strength</th>\n",
       "      <th>motivation_willingness</th>\n",
       "      <th>socialSupport_emotionality</th>\n",
       "      <th>socialSupport_appreciation</th>\n",
       "      <th>socialSupport_instrumental</th>\n",
       "      <th>empowerment_knowledge</th>\n",
       "      <th>empowerment_abilities</th>\n",
       "      <th>empowerment_desires</th>\n",
       "      <th>ca_cervix</th>\n",
       "    </tr>\n",
       "  </thead>\n",
       "  <tbody>\n",
       "  </tbody>\n",
       "</table>\n",
       "</div>"
      ],
      "text/plain": [
       "Empty DataFrame\n",
       "Columns: [behavior_sexualRisk, behavior_eating, behavior_personalHygine, intention_aggregation, intention_commitment, attitude_consistency, attitude_spontaneity, norm_significantPerson, norm_fulfillment, perception_vulnerability, perception_severity, motivation_strength, motivation_willingness, socialSupport_emotionality, socialSupport_appreciation, socialSupport_instrumental, empowerment_knowledge, empowerment_abilities, empowerment_desires, ca_cervix]\n",
       "Index: []"
      ]
     },
     "execution_count": 54,
     "metadata": {},
     "output_type": "execute_result"
    }
   ],
   "source": [
    "# Retrieve the empowerment_knowledge column\n",
    "# Check whether there are null values in the empowerment_knowledge column of Cervical_Cancer data set\n",
    "Cervical_Cancer[Cervical_Cancer['empowerment_knowledge'].isnull().values==True]"
   ]
  },
  {
   "cell_type": "code",
   "execution_count": 55,
   "metadata": {},
   "outputs": [
    {
     "data": {
      "text/html": [
       "<div>\n",
       "<style scoped>\n",
       "    .dataframe tbody tr th:only-of-type {\n",
       "        vertical-align: middle;\n",
       "    }\n",
       "\n",
       "    .dataframe tbody tr th {\n",
       "        vertical-align: top;\n",
       "    }\n",
       "\n",
       "    .dataframe thead th {\n",
       "        text-align: right;\n",
       "    }\n",
       "</style>\n",
       "<table border=\"1\" class=\"dataframe\">\n",
       "  <thead>\n",
       "    <tr style=\"text-align: right;\">\n",
       "      <th></th>\n",
       "      <th>behavior_sexualRisk</th>\n",
       "      <th>behavior_eating</th>\n",
       "      <th>behavior_personalHygine</th>\n",
       "      <th>intention_aggregation</th>\n",
       "      <th>intention_commitment</th>\n",
       "      <th>attitude_consistency</th>\n",
       "      <th>attitude_spontaneity</th>\n",
       "      <th>norm_significantPerson</th>\n",
       "      <th>norm_fulfillment</th>\n",
       "      <th>perception_vulnerability</th>\n",
       "      <th>perception_severity</th>\n",
       "      <th>motivation_strength</th>\n",
       "      <th>motivation_willingness</th>\n",
       "      <th>socialSupport_emotionality</th>\n",
       "      <th>socialSupport_appreciation</th>\n",
       "      <th>socialSupport_instrumental</th>\n",
       "      <th>empowerment_knowledge</th>\n",
       "      <th>empowerment_abilities</th>\n",
       "      <th>empowerment_desires</th>\n",
       "      <th>ca_cervix</th>\n",
       "    </tr>\n",
       "  </thead>\n",
       "  <tbody>\n",
       "  </tbody>\n",
       "</table>\n",
       "</div>"
      ],
      "text/plain": [
       "Empty DataFrame\n",
       "Columns: [behavior_sexualRisk, behavior_eating, behavior_personalHygine, intention_aggregation, intention_commitment, attitude_consistency, attitude_spontaneity, norm_significantPerson, norm_fulfillment, perception_vulnerability, perception_severity, motivation_strength, motivation_willingness, socialSupport_emotionality, socialSupport_appreciation, socialSupport_instrumental, empowerment_knowledge, empowerment_abilities, empowerment_desires, ca_cervix]\n",
       "Index: []"
      ]
     },
     "execution_count": 55,
     "metadata": {},
     "output_type": "execute_result"
    }
   ],
   "source": [
    "# Check whether there are any data less than 0 in the empowerment_knowledge column\n",
    "Cervical_Cancer[Cervical_Cancer['empowerment_knowledge']<0]"
   ]
  },
  {
   "cell_type": "code",
   "execution_count": 56,
   "metadata": {},
   "outputs": [
    {
     "data": {
      "text/plain": [
       "15    20\n",
       "13    13\n",
       "3      8\n",
       "12     5\n",
       "11     5\n",
       "7      4\n",
       "5      4\n",
       "4      4\n",
       "8      3\n",
       "14     2\n",
       "10     2\n",
       "9      1\n",
       "6      1\n",
       "Name: empowerment_knowledge, dtype: int64"
      ]
     },
     "execution_count": 56,
     "metadata": {},
     "output_type": "execute_result"
    }
   ],
   "source": [
    "# Check the frequency of the empowerment_knowledge column in the Cervical_Cancer data set\n",
    "Cervical_Cancer['empowerment_knowledge'].value_counts()"
   ]
  },
  {
   "cell_type": "code",
   "execution_count": 57,
   "metadata": {},
   "outputs": [
    {
     "data": {
      "text/html": [
       "<div>\n",
       "<style scoped>\n",
       "    .dataframe tbody tr th:only-of-type {\n",
       "        vertical-align: middle;\n",
       "    }\n",
       "\n",
       "    .dataframe tbody tr th {\n",
       "        vertical-align: top;\n",
       "    }\n",
       "\n",
       "    .dataframe thead th {\n",
       "        text-align: right;\n",
       "    }\n",
       "</style>\n",
       "<table border=\"1\" class=\"dataframe\">\n",
       "  <thead>\n",
       "    <tr style=\"text-align: right;\">\n",
       "      <th></th>\n",
       "      <th>behavior_sexualRisk</th>\n",
       "      <th>behavior_eating</th>\n",
       "      <th>behavior_personalHygine</th>\n",
       "      <th>intention_aggregation</th>\n",
       "      <th>intention_commitment</th>\n",
       "      <th>attitude_consistency</th>\n",
       "      <th>attitude_spontaneity</th>\n",
       "      <th>norm_significantPerson</th>\n",
       "      <th>norm_fulfillment</th>\n",
       "      <th>perception_vulnerability</th>\n",
       "      <th>perception_severity</th>\n",
       "      <th>motivation_strength</th>\n",
       "      <th>motivation_willingness</th>\n",
       "      <th>socialSupport_emotionality</th>\n",
       "      <th>socialSupport_appreciation</th>\n",
       "      <th>socialSupport_instrumental</th>\n",
       "      <th>empowerment_knowledge</th>\n",
       "      <th>empowerment_abilities</th>\n",
       "      <th>empowerment_desires</th>\n",
       "      <th>ca_cervix</th>\n",
       "    </tr>\n",
       "  </thead>\n",
       "  <tbody>\n",
       "  </tbody>\n",
       "</table>\n",
       "</div>"
      ],
      "text/plain": [
       "Empty DataFrame\n",
       "Columns: [behavior_sexualRisk, behavior_eating, behavior_personalHygine, intention_aggregation, intention_commitment, attitude_consistency, attitude_spontaneity, norm_significantPerson, norm_fulfillment, perception_vulnerability, perception_severity, motivation_strength, motivation_willingness, socialSupport_emotionality, socialSupport_appreciation, socialSupport_instrumental, empowerment_knowledge, empowerment_abilities, empowerment_desires, ca_cervix]\n",
       "Index: []"
      ]
     },
     "execution_count": 57,
     "metadata": {},
     "output_type": "execute_result"
    }
   ],
   "source": [
    "# Retrieve the empowerment_abilities column\n",
    "# Check whether there are null values in the empowerment_abilities column of Cervical_Cancer data set\n",
    "Cervical_Cancer[Cervical_Cancer['empowerment_abilities'].isnull().values==True]"
   ]
  },
  {
   "cell_type": "code",
   "execution_count": 58,
   "metadata": {},
   "outputs": [
    {
     "data": {
      "text/html": [
       "<div>\n",
       "<style scoped>\n",
       "    .dataframe tbody tr th:only-of-type {\n",
       "        vertical-align: middle;\n",
       "    }\n",
       "\n",
       "    .dataframe tbody tr th {\n",
       "        vertical-align: top;\n",
       "    }\n",
       "\n",
       "    .dataframe thead th {\n",
       "        text-align: right;\n",
       "    }\n",
       "</style>\n",
       "<table border=\"1\" class=\"dataframe\">\n",
       "  <thead>\n",
       "    <tr style=\"text-align: right;\">\n",
       "      <th></th>\n",
       "      <th>behavior_sexualRisk</th>\n",
       "      <th>behavior_eating</th>\n",
       "      <th>behavior_personalHygine</th>\n",
       "      <th>intention_aggregation</th>\n",
       "      <th>intention_commitment</th>\n",
       "      <th>attitude_consistency</th>\n",
       "      <th>attitude_spontaneity</th>\n",
       "      <th>norm_significantPerson</th>\n",
       "      <th>norm_fulfillment</th>\n",
       "      <th>perception_vulnerability</th>\n",
       "      <th>perception_severity</th>\n",
       "      <th>motivation_strength</th>\n",
       "      <th>motivation_willingness</th>\n",
       "      <th>socialSupport_emotionality</th>\n",
       "      <th>socialSupport_appreciation</th>\n",
       "      <th>socialSupport_instrumental</th>\n",
       "      <th>empowerment_knowledge</th>\n",
       "      <th>empowerment_abilities</th>\n",
       "      <th>empowerment_desires</th>\n",
       "      <th>ca_cervix</th>\n",
       "    </tr>\n",
       "  </thead>\n",
       "  <tbody>\n",
       "  </tbody>\n",
       "</table>\n",
       "</div>"
      ],
      "text/plain": [
       "Empty DataFrame\n",
       "Columns: [behavior_sexualRisk, behavior_eating, behavior_personalHygine, intention_aggregation, intention_commitment, attitude_consistency, attitude_spontaneity, norm_significantPerson, norm_fulfillment, perception_vulnerability, perception_severity, motivation_strength, motivation_willingness, socialSupport_emotionality, socialSupport_appreciation, socialSupport_instrumental, empowerment_knowledge, empowerment_abilities, empowerment_desires, ca_cervix]\n",
       "Index: []"
      ]
     },
     "execution_count": 58,
     "metadata": {},
     "output_type": "execute_result"
    }
   ],
   "source": [
    "# Check whether there are any data less than 0 in the empowerment_abilities column\n",
    "Cervical_Cancer[Cervical_Cancer['empowerment_abilities']<0]"
   ]
  },
  {
   "cell_type": "code",
   "execution_count": 59,
   "metadata": {},
   "outputs": [
    {
     "data": {
      "text/plain": [
       "15    13\n",
       "3      9\n",
       "10     8\n",
       "13     7\n",
       "11     7\n",
       "7      6\n",
       "4      6\n",
       "9      5\n",
       "5      4\n",
       "12     3\n",
       "6      2\n",
       "14     1\n",
       "8      1\n",
       "Name: empowerment_abilities, dtype: int64"
      ]
     },
     "execution_count": 59,
     "metadata": {},
     "output_type": "execute_result"
    }
   ],
   "source": [
    "# Check the frequency of the empowerment_knowledge column in the Cervical_Cancer data set\n",
    "Cervical_Cancer['empowerment_abilities'].value_counts()"
   ]
  },
  {
   "cell_type": "code",
   "execution_count": 60,
   "metadata": {},
   "outputs": [
    {
     "data": {
      "text/html": [
       "<div>\n",
       "<style scoped>\n",
       "    .dataframe tbody tr th:only-of-type {\n",
       "        vertical-align: middle;\n",
       "    }\n",
       "\n",
       "    .dataframe tbody tr th {\n",
       "        vertical-align: top;\n",
       "    }\n",
       "\n",
       "    .dataframe thead th {\n",
       "        text-align: right;\n",
       "    }\n",
       "</style>\n",
       "<table border=\"1\" class=\"dataframe\">\n",
       "  <thead>\n",
       "    <tr style=\"text-align: right;\">\n",
       "      <th></th>\n",
       "      <th>behavior_sexualRisk</th>\n",
       "      <th>behavior_eating</th>\n",
       "      <th>behavior_personalHygine</th>\n",
       "      <th>intention_aggregation</th>\n",
       "      <th>intention_commitment</th>\n",
       "      <th>attitude_consistency</th>\n",
       "      <th>attitude_spontaneity</th>\n",
       "      <th>norm_significantPerson</th>\n",
       "      <th>norm_fulfillment</th>\n",
       "      <th>perception_vulnerability</th>\n",
       "      <th>perception_severity</th>\n",
       "      <th>motivation_strength</th>\n",
       "      <th>motivation_willingness</th>\n",
       "      <th>socialSupport_emotionality</th>\n",
       "      <th>socialSupport_appreciation</th>\n",
       "      <th>socialSupport_instrumental</th>\n",
       "      <th>empowerment_knowledge</th>\n",
       "      <th>empowerment_abilities</th>\n",
       "      <th>empowerment_desires</th>\n",
       "      <th>ca_cervix</th>\n",
       "    </tr>\n",
       "  </thead>\n",
       "  <tbody>\n",
       "  </tbody>\n",
       "</table>\n",
       "</div>"
      ],
      "text/plain": [
       "Empty DataFrame\n",
       "Columns: [behavior_sexualRisk, behavior_eating, behavior_personalHygine, intention_aggregation, intention_commitment, attitude_consistency, attitude_spontaneity, norm_significantPerson, norm_fulfillment, perception_vulnerability, perception_severity, motivation_strength, motivation_willingness, socialSupport_emotionality, socialSupport_appreciation, socialSupport_instrumental, empowerment_knowledge, empowerment_abilities, empowerment_desires, ca_cervix]\n",
       "Index: []"
      ]
     },
     "execution_count": 60,
     "metadata": {},
     "output_type": "execute_result"
    }
   ],
   "source": [
    "# Retrieve the empowerment_desires column\n",
    "# Check whether there are null values in the empowerment_desires column of Cervical_Cancer data set\n",
    "Cervical_Cancer[Cervical_Cancer['empowerment_desires'].isnull().values==True]"
   ]
  },
  {
   "cell_type": "code",
   "execution_count": 61,
   "metadata": {},
   "outputs": [
    {
     "data": {
      "text/html": [
       "<div>\n",
       "<style scoped>\n",
       "    .dataframe tbody tr th:only-of-type {\n",
       "        vertical-align: middle;\n",
       "    }\n",
       "\n",
       "    .dataframe tbody tr th {\n",
       "        vertical-align: top;\n",
       "    }\n",
       "\n",
       "    .dataframe thead th {\n",
       "        text-align: right;\n",
       "    }\n",
       "</style>\n",
       "<table border=\"1\" class=\"dataframe\">\n",
       "  <thead>\n",
       "    <tr style=\"text-align: right;\">\n",
       "      <th></th>\n",
       "      <th>behavior_sexualRisk</th>\n",
       "      <th>behavior_eating</th>\n",
       "      <th>behavior_personalHygine</th>\n",
       "      <th>intention_aggregation</th>\n",
       "      <th>intention_commitment</th>\n",
       "      <th>attitude_consistency</th>\n",
       "      <th>attitude_spontaneity</th>\n",
       "      <th>norm_significantPerson</th>\n",
       "      <th>norm_fulfillment</th>\n",
       "      <th>perception_vulnerability</th>\n",
       "      <th>perception_severity</th>\n",
       "      <th>motivation_strength</th>\n",
       "      <th>motivation_willingness</th>\n",
       "      <th>socialSupport_emotionality</th>\n",
       "      <th>socialSupport_appreciation</th>\n",
       "      <th>socialSupport_instrumental</th>\n",
       "      <th>empowerment_knowledge</th>\n",
       "      <th>empowerment_abilities</th>\n",
       "      <th>empowerment_desires</th>\n",
       "      <th>ca_cervix</th>\n",
       "    </tr>\n",
       "  </thead>\n",
       "  <tbody>\n",
       "  </tbody>\n",
       "</table>\n",
       "</div>"
      ],
      "text/plain": [
       "Empty DataFrame\n",
       "Columns: [behavior_sexualRisk, behavior_eating, behavior_personalHygine, intention_aggregation, intention_commitment, attitude_consistency, attitude_spontaneity, norm_significantPerson, norm_fulfillment, perception_vulnerability, perception_severity, motivation_strength, motivation_willingness, socialSupport_emotionality, socialSupport_appreciation, socialSupport_instrumental, empowerment_knowledge, empowerment_abilities, empowerment_desires, ca_cervix]\n",
       "Index: []"
      ]
     },
     "execution_count": 61,
     "metadata": {},
     "output_type": "execute_result"
    }
   ],
   "source": [
    "# Check whether there are any data less than 0 in the empowerment_desires column\n",
    "Cervical_Cancer[Cervical_Cancer['empowerment_desires']<0]"
   ]
  },
  {
   "cell_type": "code",
   "execution_count": 62,
   "metadata": {},
   "outputs": [
    {
     "data": {
      "text/plain": [
       "15    20\n",
       "3     12\n",
       "12     7\n",
       "11     7\n",
       "9      6\n",
       "14     5\n",
       "13     3\n",
       "10     3\n",
       "4      3\n",
       "7      2\n",
       "5      2\n",
       "8      1\n",
       "6      1\n",
       "Name: empowerment_desires, dtype: int64"
      ]
     },
     "execution_count": 62,
     "metadata": {},
     "output_type": "execute_result"
    }
   ],
   "source": [
    "# Check the frequency of the empowerment_desires column in the Cervical_Cancer data set\n",
    "Cervical_Cancer['empowerment_desires'].value_counts()"
   ]
  },
  {
   "cell_type": "code",
   "execution_count": 63,
   "metadata": {},
   "outputs": [
    {
     "data": {
      "text/html": [
       "<div>\n",
       "<style scoped>\n",
       "    .dataframe tbody tr th:only-of-type {\n",
       "        vertical-align: middle;\n",
       "    }\n",
       "\n",
       "    .dataframe tbody tr th {\n",
       "        vertical-align: top;\n",
       "    }\n",
       "\n",
       "    .dataframe thead th {\n",
       "        text-align: right;\n",
       "    }\n",
       "</style>\n",
       "<table border=\"1\" class=\"dataframe\">\n",
       "  <thead>\n",
       "    <tr style=\"text-align: right;\">\n",
       "      <th></th>\n",
       "      <th>behavior_sexualRisk</th>\n",
       "      <th>behavior_eating</th>\n",
       "      <th>behavior_personalHygine</th>\n",
       "      <th>intention_aggregation</th>\n",
       "      <th>intention_commitment</th>\n",
       "      <th>attitude_consistency</th>\n",
       "      <th>attitude_spontaneity</th>\n",
       "      <th>norm_significantPerson</th>\n",
       "      <th>norm_fulfillment</th>\n",
       "      <th>perception_vulnerability</th>\n",
       "      <th>perception_severity</th>\n",
       "      <th>motivation_strength</th>\n",
       "      <th>motivation_willingness</th>\n",
       "      <th>socialSupport_emotionality</th>\n",
       "      <th>socialSupport_appreciation</th>\n",
       "      <th>socialSupport_instrumental</th>\n",
       "      <th>empowerment_knowledge</th>\n",
       "      <th>empowerment_abilities</th>\n",
       "      <th>empowerment_desires</th>\n",
       "      <th>ca_cervix</th>\n",
       "    </tr>\n",
       "  </thead>\n",
       "  <tbody>\n",
       "  </tbody>\n",
       "</table>\n",
       "</div>"
      ],
      "text/plain": [
       "Empty DataFrame\n",
       "Columns: [behavior_sexualRisk, behavior_eating, behavior_personalHygine, intention_aggregation, intention_commitment, attitude_consistency, attitude_spontaneity, norm_significantPerson, norm_fulfillment, perception_vulnerability, perception_severity, motivation_strength, motivation_willingness, socialSupport_emotionality, socialSupport_appreciation, socialSupport_instrumental, empowerment_knowledge, empowerment_abilities, empowerment_desires, ca_cervix]\n",
       "Index: []"
      ]
     },
     "execution_count": 63,
     "metadata": {},
     "output_type": "execute_result"
    }
   ],
   "source": [
    "# Retrieve the ca_cervix column\n",
    "# Check whether there are null values in the ca_cervix column of Cervical_Cancer data set\n",
    "Cervical_Cancer[Cervical_Cancer['ca_cervix'].isnull().values==True]"
   ]
  },
  {
   "cell_type": "code",
   "execution_count": 64,
   "metadata": {},
   "outputs": [
    {
     "data": {
      "text/html": [
       "<div>\n",
       "<style scoped>\n",
       "    .dataframe tbody tr th:only-of-type {\n",
       "        vertical-align: middle;\n",
       "    }\n",
       "\n",
       "    .dataframe tbody tr th {\n",
       "        vertical-align: top;\n",
       "    }\n",
       "\n",
       "    .dataframe thead th {\n",
       "        text-align: right;\n",
       "    }\n",
       "</style>\n",
       "<table border=\"1\" class=\"dataframe\">\n",
       "  <thead>\n",
       "    <tr style=\"text-align: right;\">\n",
       "      <th></th>\n",
       "      <th>behavior_sexualRisk</th>\n",
       "      <th>behavior_eating</th>\n",
       "      <th>behavior_personalHygine</th>\n",
       "      <th>intention_aggregation</th>\n",
       "      <th>intention_commitment</th>\n",
       "      <th>attitude_consistency</th>\n",
       "      <th>attitude_spontaneity</th>\n",
       "      <th>norm_significantPerson</th>\n",
       "      <th>norm_fulfillment</th>\n",
       "      <th>perception_vulnerability</th>\n",
       "      <th>perception_severity</th>\n",
       "      <th>motivation_strength</th>\n",
       "      <th>motivation_willingness</th>\n",
       "      <th>socialSupport_emotionality</th>\n",
       "      <th>socialSupport_appreciation</th>\n",
       "      <th>socialSupport_instrumental</th>\n",
       "      <th>empowerment_knowledge</th>\n",
       "      <th>empowerment_abilities</th>\n",
       "      <th>empowerment_desires</th>\n",
       "      <th>ca_cervix</th>\n",
       "    </tr>\n",
       "  </thead>\n",
       "  <tbody>\n",
       "  </tbody>\n",
       "</table>\n",
       "</div>"
      ],
      "text/plain": [
       "Empty DataFrame\n",
       "Columns: [behavior_sexualRisk, behavior_eating, behavior_personalHygine, intention_aggregation, intention_commitment, attitude_consistency, attitude_spontaneity, norm_significantPerson, norm_fulfillment, perception_vulnerability, perception_severity, motivation_strength, motivation_willingness, socialSupport_emotionality, socialSupport_appreciation, socialSupport_instrumental, empowerment_knowledge, empowerment_abilities, empowerment_desires, ca_cervix]\n",
       "Index: []"
      ]
     },
     "execution_count": 64,
     "metadata": {},
     "output_type": "execute_result"
    }
   ],
   "source": [
    "# Check which values are not equal to 0 or 1 in the ca_cervix column\n",
    "Cervical_Cancer.loc[(Cervical_Cancer['ca_cervix']!=0)&(Cervical_Cancer['ca_cervix']!=1)]"
   ]
  },
  {
   "cell_type": "code",
   "execution_count": 65,
   "metadata": {},
   "outputs": [
    {
     "data": {
      "text/plain": [
       "0    51\n",
       "1    21\n",
       "Name: ca_cervix, dtype: int64"
      ]
     },
     "execution_count": 65,
     "metadata": {},
     "output_type": "execute_result"
    }
   ],
   "source": [
    "# Check the frequency of the ca_cervix column in the Cervical_Cancer data set\n",
    "Cervical_Cancer['ca_cervix'].value_counts()"
   ]
  },
  {
   "cell_type": "code",
   "execution_count": 66,
   "metadata": {},
   "outputs": [],
   "source": [
    "# Save the cleaned Cervical_Cancer dataframe into a csv file\n",
    "Cervical_Cancer.to_csv('cleaned_Cervical_Cancer.csv', index=False)"
   ]
  },
  {
   "cell_type": "markdown",
   "metadata": {},
   "source": [
    "# Task 2: Data exploration\n",
    "1. To explore the whole variables in the Cervical_Cancer data set\n",
    "2. To explore the corresponding relationships between the variables in the Cervical_Cancer data set"
   ]
  },
  {
   "cell_type": "markdown",
   "metadata": {},
   "source": [
    "### Task 2-1: exploring the whole variables in the data set"
   ]
  },
  {
   "cell_type": "code",
   "execution_count": 67,
   "metadata": {},
   "outputs": [],
   "source": [
    "# Import matplotlib library\n",
    "import matplotlib.pyplot as plt"
   ]
  },
  {
   "cell_type": "code",
   "execution_count": 68,
   "metadata": {
    "scrolled": true
   },
   "outputs": [
    {
     "data": {
      "text/html": [
       "<div>\n",
       "<style scoped>\n",
       "    .dataframe tbody tr th:only-of-type {\n",
       "        vertical-align: middle;\n",
       "    }\n",
       "\n",
       "    .dataframe tbody tr th {\n",
       "        vertical-align: top;\n",
       "    }\n",
       "\n",
       "    .dataframe thead th {\n",
       "        text-align: right;\n",
       "    }\n",
       "</style>\n",
       "<table border=\"1\" class=\"dataframe\">\n",
       "  <thead>\n",
       "    <tr style=\"text-align: right;\">\n",
       "      <th></th>\n",
       "      <th>behavior_sexualRisk</th>\n",
       "      <th>behavior_eating</th>\n",
       "      <th>behavior_personalHygine</th>\n",
       "      <th>intention_aggregation</th>\n",
       "      <th>intention_commitment</th>\n",
       "      <th>attitude_consistency</th>\n",
       "      <th>attitude_spontaneity</th>\n",
       "      <th>norm_significantPerson</th>\n",
       "      <th>norm_fulfillment</th>\n",
       "      <th>perception_vulnerability</th>\n",
       "      <th>perception_severity</th>\n",
       "      <th>motivation_strength</th>\n",
       "      <th>motivation_willingness</th>\n",
       "      <th>socialSupport_emotionality</th>\n",
       "      <th>socialSupport_appreciation</th>\n",
       "      <th>socialSupport_instrumental</th>\n",
       "      <th>empowerment_knowledge</th>\n",
       "      <th>empowerment_abilities</th>\n",
       "      <th>empowerment_desires</th>\n",
       "      <th>ca_cervix</th>\n",
       "    </tr>\n",
       "  </thead>\n",
       "  <tbody>\n",
       "    <tr>\n",
       "      <th>count</th>\n",
       "      <td>72.000000</td>\n",
       "      <td>72.000000</td>\n",
       "      <td>72.000000</td>\n",
       "      <td>72.000000</td>\n",
       "      <td>72.000000</td>\n",
       "      <td>72.000000</td>\n",
       "      <td>72.000000</td>\n",
       "      <td>72.000000</td>\n",
       "      <td>72.000000</td>\n",
       "      <td>72.000000</td>\n",
       "      <td>72.000000</td>\n",
       "      <td>72.000000</td>\n",
       "      <td>72.000000</td>\n",
       "      <td>72.000000</td>\n",
       "      <td>72.000000</td>\n",
       "      <td>72.000000</td>\n",
       "      <td>72.000000</td>\n",
       "      <td>72.000000</td>\n",
       "      <td>72.000000</td>\n",
       "      <td>72.000000</td>\n",
       "    </tr>\n",
       "    <tr>\n",
       "      <th>mean</th>\n",
       "      <td>9.666667</td>\n",
       "      <td>12.791667</td>\n",
       "      <td>11.083333</td>\n",
       "      <td>7.902778</td>\n",
       "      <td>13.347222</td>\n",
       "      <td>7.180556</td>\n",
       "      <td>8.611111</td>\n",
       "      <td>3.125000</td>\n",
       "      <td>8.486111</td>\n",
       "      <td>8.513889</td>\n",
       "      <td>5.388889</td>\n",
       "      <td>12.652778</td>\n",
       "      <td>9.694444</td>\n",
       "      <td>8.097222</td>\n",
       "      <td>6.166667</td>\n",
       "      <td>10.375000</td>\n",
       "      <td>10.541667</td>\n",
       "      <td>9.319444</td>\n",
       "      <td>10.277778</td>\n",
       "      <td>0.291667</td>\n",
       "    </tr>\n",
       "    <tr>\n",
       "      <th>std</th>\n",
       "      <td>1.186782</td>\n",
       "      <td>2.361293</td>\n",
       "      <td>3.033847</td>\n",
       "      <td>2.738148</td>\n",
       "      <td>2.374511</td>\n",
       "      <td>1.522844</td>\n",
       "      <td>1.515698</td>\n",
       "      <td>1.845722</td>\n",
       "      <td>4.907577</td>\n",
       "      <td>4.275686</td>\n",
       "      <td>3.400727</td>\n",
       "      <td>3.207209</td>\n",
       "      <td>4.130406</td>\n",
       "      <td>4.243171</td>\n",
       "      <td>2.897303</td>\n",
       "      <td>4.316485</td>\n",
       "      <td>4.366768</td>\n",
       "      <td>4.181874</td>\n",
       "      <td>4.482273</td>\n",
       "      <td>0.457719</td>\n",
       "    </tr>\n",
       "    <tr>\n",
       "      <th>min</th>\n",
       "      <td>2.000000</td>\n",
       "      <td>3.000000</td>\n",
       "      <td>3.000000</td>\n",
       "      <td>2.000000</td>\n",
       "      <td>6.000000</td>\n",
       "      <td>2.000000</td>\n",
       "      <td>4.000000</td>\n",
       "      <td>1.000000</td>\n",
       "      <td>3.000000</td>\n",
       "      <td>3.000000</td>\n",
       "      <td>2.000000</td>\n",
       "      <td>3.000000</td>\n",
       "      <td>3.000000</td>\n",
       "      <td>3.000000</td>\n",
       "      <td>2.000000</td>\n",
       "      <td>3.000000</td>\n",
       "      <td>3.000000</td>\n",
       "      <td>3.000000</td>\n",
       "      <td>3.000000</td>\n",
       "      <td>0.000000</td>\n",
       "    </tr>\n",
       "    <tr>\n",
       "      <th>25%</th>\n",
       "      <td>10.000000</td>\n",
       "      <td>11.000000</td>\n",
       "      <td>9.000000</td>\n",
       "      <td>6.000000</td>\n",
       "      <td>11.000000</td>\n",
       "      <td>6.000000</td>\n",
       "      <td>8.000000</td>\n",
       "      <td>1.000000</td>\n",
       "      <td>3.000000</td>\n",
       "      <td>5.000000</td>\n",
       "      <td>2.000000</td>\n",
       "      <td>11.000000</td>\n",
       "      <td>7.000000</td>\n",
       "      <td>3.000000</td>\n",
       "      <td>3.750000</td>\n",
       "      <td>6.750000</td>\n",
       "      <td>7.000000</td>\n",
       "      <td>5.000000</td>\n",
       "      <td>6.750000</td>\n",
       "      <td>0.000000</td>\n",
       "    </tr>\n",
       "    <tr>\n",
       "      <th>50%</th>\n",
       "      <td>10.000000</td>\n",
       "      <td>13.000000</td>\n",
       "      <td>11.000000</td>\n",
       "      <td>10.000000</td>\n",
       "      <td>15.000000</td>\n",
       "      <td>7.000000</td>\n",
       "      <td>9.000000</td>\n",
       "      <td>3.000000</td>\n",
       "      <td>7.000000</td>\n",
       "      <td>8.000000</td>\n",
       "      <td>4.000000</td>\n",
       "      <td>14.000000</td>\n",
       "      <td>11.000000</td>\n",
       "      <td>9.000000</td>\n",
       "      <td>6.500000</td>\n",
       "      <td>12.000000</td>\n",
       "      <td>12.000000</td>\n",
       "      <td>10.000000</td>\n",
       "      <td>11.000000</td>\n",
       "      <td>0.000000</td>\n",
       "    </tr>\n",
       "    <tr>\n",
       "      <th>75%</th>\n",
       "      <td>10.000000</td>\n",
       "      <td>15.000000</td>\n",
       "      <td>14.000000</td>\n",
       "      <td>10.000000</td>\n",
       "      <td>15.000000</td>\n",
       "      <td>8.000000</td>\n",
       "      <td>10.000000</td>\n",
       "      <td>5.000000</td>\n",
       "      <td>14.000000</td>\n",
       "      <td>13.000000</td>\n",
       "      <td>9.000000</td>\n",
       "      <td>15.000000</td>\n",
       "      <td>13.000000</td>\n",
       "      <td>11.250000</td>\n",
       "      <td>9.000000</td>\n",
       "      <td>14.250000</td>\n",
       "      <td>15.000000</td>\n",
       "      <td>13.000000</td>\n",
       "      <td>15.000000</td>\n",
       "      <td>1.000000</td>\n",
       "    </tr>\n",
       "    <tr>\n",
       "      <th>max</th>\n",
       "      <td>10.000000</td>\n",
       "      <td>15.000000</td>\n",
       "      <td>15.000000</td>\n",
       "      <td>10.000000</td>\n",
       "      <td>15.000000</td>\n",
       "      <td>10.000000</td>\n",
       "      <td>10.000000</td>\n",
       "      <td>5.000000</td>\n",
       "      <td>15.000000</td>\n",
       "      <td>15.000000</td>\n",
       "      <td>10.000000</td>\n",
       "      <td>15.000000</td>\n",
       "      <td>15.000000</td>\n",
       "      <td>15.000000</td>\n",
       "      <td>10.000000</td>\n",
       "      <td>15.000000</td>\n",
       "      <td>15.000000</td>\n",
       "      <td>15.000000</td>\n",
       "      <td>15.000000</td>\n",
       "      <td>1.000000</td>\n",
       "    </tr>\n",
       "  </tbody>\n",
       "</table>\n",
       "</div>"
      ],
      "text/plain": [
       "       behavior_sexualRisk  behavior_eating  behavior_personalHygine  \\\n",
       "count            72.000000        72.000000                72.000000   \n",
       "mean              9.666667        12.791667                11.083333   \n",
       "std               1.186782         2.361293                 3.033847   \n",
       "min               2.000000         3.000000                 3.000000   \n",
       "25%              10.000000        11.000000                 9.000000   \n",
       "50%              10.000000        13.000000                11.000000   \n",
       "75%              10.000000        15.000000                14.000000   \n",
       "max              10.000000        15.000000                15.000000   \n",
       "\n",
       "       intention_aggregation  intention_commitment  attitude_consistency  \\\n",
       "count              72.000000             72.000000             72.000000   \n",
       "mean                7.902778             13.347222              7.180556   \n",
       "std                 2.738148              2.374511              1.522844   \n",
       "min                 2.000000              6.000000              2.000000   \n",
       "25%                 6.000000             11.000000              6.000000   \n",
       "50%                10.000000             15.000000              7.000000   \n",
       "75%                10.000000             15.000000              8.000000   \n",
       "max                10.000000             15.000000             10.000000   \n",
       "\n",
       "       attitude_spontaneity  norm_significantPerson  norm_fulfillment  \\\n",
       "count             72.000000               72.000000         72.000000   \n",
       "mean               8.611111                3.125000          8.486111   \n",
       "std                1.515698                1.845722          4.907577   \n",
       "min                4.000000                1.000000          3.000000   \n",
       "25%                8.000000                1.000000          3.000000   \n",
       "50%                9.000000                3.000000          7.000000   \n",
       "75%               10.000000                5.000000         14.000000   \n",
       "max               10.000000                5.000000         15.000000   \n",
       "\n",
       "       perception_vulnerability  perception_severity  motivation_strength  \\\n",
       "count                 72.000000            72.000000            72.000000   \n",
       "mean                   8.513889             5.388889            12.652778   \n",
       "std                    4.275686             3.400727             3.207209   \n",
       "min                    3.000000             2.000000             3.000000   \n",
       "25%                    5.000000             2.000000            11.000000   \n",
       "50%                    8.000000             4.000000            14.000000   \n",
       "75%                   13.000000             9.000000            15.000000   \n",
       "max                   15.000000            10.000000            15.000000   \n",
       "\n",
       "       motivation_willingness  socialSupport_emotionality  \\\n",
       "count               72.000000                   72.000000   \n",
       "mean                 9.694444                    8.097222   \n",
       "std                  4.130406                    4.243171   \n",
       "min                  3.000000                    3.000000   \n",
       "25%                  7.000000                    3.000000   \n",
       "50%                 11.000000                    9.000000   \n",
       "75%                 13.000000                   11.250000   \n",
       "max                 15.000000                   15.000000   \n",
       "\n",
       "       socialSupport_appreciation  socialSupport_instrumental  \\\n",
       "count                   72.000000                   72.000000   \n",
       "mean                     6.166667                   10.375000   \n",
       "std                      2.897303                    4.316485   \n",
       "min                      2.000000                    3.000000   \n",
       "25%                      3.750000                    6.750000   \n",
       "50%                      6.500000                   12.000000   \n",
       "75%                      9.000000                   14.250000   \n",
       "max                     10.000000                   15.000000   \n",
       "\n",
       "       empowerment_knowledge  empowerment_abilities  empowerment_desires  \\\n",
       "count              72.000000              72.000000            72.000000   \n",
       "mean               10.541667               9.319444            10.277778   \n",
       "std                 4.366768               4.181874             4.482273   \n",
       "min                 3.000000               3.000000             3.000000   \n",
       "25%                 7.000000               5.000000             6.750000   \n",
       "50%                12.000000              10.000000            11.000000   \n",
       "75%                15.000000              13.000000            15.000000   \n",
       "max                15.000000              15.000000            15.000000   \n",
       "\n",
       "       ca_cervix  \n",
       "count  72.000000  \n",
       "mean    0.291667  \n",
       "std     0.457719  \n",
       "min     0.000000  \n",
       "25%     0.000000  \n",
       "50%     0.000000  \n",
       "75%     1.000000  \n",
       "max     1.000000  "
      ]
     },
     "execution_count": 68,
     "metadata": {},
     "output_type": "execute_result"
    }
   ],
   "source": [
    "# Show the basic statistics \n",
    "Cervical_Cancer.describe()"
   ]
  },
  {
   "cell_type": "code",
   "execution_count": 69,
   "metadata": {},
   "outputs": [
    {
     "data": {
      "text/html": [
       "<div>\n",
       "<style scoped>\n",
       "    .dataframe tbody tr th:only-of-type {\n",
       "        vertical-align: middle;\n",
       "    }\n",
       "\n",
       "    .dataframe tbody tr th {\n",
       "        vertical-align: top;\n",
       "    }\n",
       "\n",
       "    .dataframe thead th {\n",
       "        text-align: right;\n",
       "    }\n",
       "</style>\n",
       "<table border=\"1\" class=\"dataframe\">\n",
       "  <thead>\n",
       "    <tr style=\"text-align: right;\">\n",
       "      <th></th>\n",
       "      <th>behavior_sexualRisk</th>\n",
       "      <th>behavior_eating</th>\n",
       "      <th>behavior_personalHygine</th>\n",
       "      <th>intention_aggregation</th>\n",
       "      <th>intention_commitment</th>\n",
       "      <th>attitude_consistency</th>\n",
       "      <th>attitude_spontaneity</th>\n",
       "      <th>norm_significantPerson</th>\n",
       "      <th>norm_fulfillment</th>\n",
       "      <th>perception_vulnerability</th>\n",
       "      <th>perception_severity</th>\n",
       "      <th>motivation_strength</th>\n",
       "      <th>motivation_willingness</th>\n",
       "      <th>socialSupport_emotionality</th>\n",
       "      <th>socialSupport_appreciation</th>\n",
       "      <th>socialSupport_instrumental</th>\n",
       "      <th>empowerment_knowledge</th>\n",
       "      <th>empowerment_abilities</th>\n",
       "      <th>empowerment_desires</th>\n",
       "    </tr>\n",
       "    <tr>\n",
       "      <th>ca_cervix</th>\n",
       "      <th></th>\n",
       "      <th></th>\n",
       "      <th></th>\n",
       "      <th></th>\n",
       "      <th></th>\n",
       "      <th></th>\n",
       "      <th></th>\n",
       "      <th></th>\n",
       "      <th></th>\n",
       "      <th></th>\n",
       "      <th></th>\n",
       "      <th></th>\n",
       "      <th></th>\n",
       "      <th></th>\n",
       "      <th></th>\n",
       "      <th></th>\n",
       "      <th></th>\n",
       "      <th></th>\n",
       "      <th></th>\n",
       "    </tr>\n",
       "  </thead>\n",
       "  <tbody>\n",
       "    <tr>\n",
       "      <th>0</th>\n",
       "      <td>9.901961</td>\n",
       "      <td>12.490196</td>\n",
       "      <td>11.803922</td>\n",
       "      <td>8.411765</td>\n",
       "      <td>13.705882</td>\n",
       "      <td>7.058824</td>\n",
       "      <td>8.529412</td>\n",
       "      <td>3.470588</td>\n",
       "      <td>9.823529</td>\n",
       "      <td>9.666667</td>\n",
       "      <td>6.490196</td>\n",
       "      <td>13.607843</td>\n",
       "      <td>10.823529</td>\n",
       "      <td>9.156863</td>\n",
       "      <td>6.745098</td>\n",
       "      <td>10.745098</td>\n",
       "      <td>11.882353</td>\n",
       "      <td>10.764706</td>\n",
       "      <td>11.588235</td>\n",
       "    </tr>\n",
       "    <tr>\n",
       "      <th>1</th>\n",
       "      <td>9.095238</td>\n",
       "      <td>13.523810</td>\n",
       "      <td>9.333333</td>\n",
       "      <td>6.666667</td>\n",
       "      <td>12.476190</td>\n",
       "      <td>7.476190</td>\n",
       "      <td>8.809524</td>\n",
       "      <td>2.285714</td>\n",
       "      <td>5.238095</td>\n",
       "      <td>5.714286</td>\n",
       "      <td>2.714286</td>\n",
       "      <td>10.333333</td>\n",
       "      <td>6.952381</td>\n",
       "      <td>5.523810</td>\n",
       "      <td>4.761905</td>\n",
       "      <td>9.476190</td>\n",
       "      <td>7.285714</td>\n",
       "      <td>5.809524</td>\n",
       "      <td>7.095238</td>\n",
       "    </tr>\n",
       "  </tbody>\n",
       "</table>\n",
       "</div>"
      ],
      "text/plain": [
       "           behavior_sexualRisk  behavior_eating  behavior_personalHygine  \\\n",
       "ca_cervix                                                                  \n",
       "0                     9.901961        12.490196                11.803922   \n",
       "1                     9.095238        13.523810                 9.333333   \n",
       "\n",
       "           intention_aggregation  intention_commitment  attitude_consistency  \\\n",
       "ca_cervix                                                                      \n",
       "0                       8.411765             13.705882              7.058824   \n",
       "1                       6.666667             12.476190              7.476190   \n",
       "\n",
       "           attitude_spontaneity  norm_significantPerson  norm_fulfillment  \\\n",
       "ca_cervix                                                                   \n",
       "0                      8.529412                3.470588          9.823529   \n",
       "1                      8.809524                2.285714          5.238095   \n",
       "\n",
       "           perception_vulnerability  perception_severity  motivation_strength  \\\n",
       "ca_cervix                                                                       \n",
       "0                          9.666667             6.490196            13.607843   \n",
       "1                          5.714286             2.714286            10.333333   \n",
       "\n",
       "           motivation_willingness  socialSupport_emotionality  \\\n",
       "ca_cervix                                                       \n",
       "0                       10.823529                    9.156863   \n",
       "1                        6.952381                    5.523810   \n",
       "\n",
       "           socialSupport_appreciation  socialSupport_instrumental  \\\n",
       "ca_cervix                                                           \n",
       "0                            6.745098                   10.745098   \n",
       "1                            4.761905                    9.476190   \n",
       "\n",
       "           empowerment_knowledge  empowerment_abilities  empowerment_desires  \n",
       "ca_cervix                                                                     \n",
       "0                      11.882353              10.764706            11.588235  \n",
       "1                       7.285714               5.809524             7.095238  "
      ]
     },
     "execution_count": 69,
     "metadata": {},
     "output_type": "execute_result"
    }
   ],
   "source": [
    "# Check the mean value by grouping the ca_cervix column\n",
    "Cervical_Cancer.groupby(['ca_cervix']).mean()"
   ]
  },
  {
   "cell_type": "code",
   "execution_count": 70,
   "metadata": {},
   "outputs": [
    {
     "data": {
      "text/html": [
       "<div>\n",
       "<style scoped>\n",
       "    .dataframe tbody tr th:only-of-type {\n",
       "        vertical-align: middle;\n",
       "    }\n",
       "\n",
       "    .dataframe tbody tr th {\n",
       "        vertical-align: top;\n",
       "    }\n",
       "\n",
       "    .dataframe thead th {\n",
       "        text-align: right;\n",
       "    }\n",
       "</style>\n",
       "<table border=\"1\" class=\"dataframe\">\n",
       "  <thead>\n",
       "    <tr style=\"text-align: right;\">\n",
       "      <th></th>\n",
       "      <th>behavior_sexualRisk</th>\n",
       "    </tr>\n",
       "  </thead>\n",
       "  <tbody>\n",
       "    <tr>\n",
       "      <th>count</th>\n",
       "      <td>72.000</td>\n",
       "    </tr>\n",
       "    <tr>\n",
       "      <th>mean</th>\n",
       "      <td>9.667</td>\n",
       "    </tr>\n",
       "    <tr>\n",
       "      <th>std</th>\n",
       "      <td>1.187</td>\n",
       "    </tr>\n",
       "    <tr>\n",
       "      <th>min</th>\n",
       "      <td>2.000</td>\n",
       "    </tr>\n",
       "    <tr>\n",
       "      <th>25%</th>\n",
       "      <td>10.000</td>\n",
       "    </tr>\n",
       "    <tr>\n",
       "      <th>50%</th>\n",
       "      <td>10.000</td>\n",
       "    </tr>\n",
       "    <tr>\n",
       "      <th>75%</th>\n",
       "      <td>10.000</td>\n",
       "    </tr>\n",
       "    <tr>\n",
       "      <th>max</th>\n",
       "      <td>10.000</td>\n",
       "    </tr>\n",
       "  </tbody>\n",
       "</table>\n",
       "</div>"
      ],
      "text/plain": [
       "       behavior_sexualRisk\n",
       "count               72.000\n",
       "mean                 9.667\n",
       "std                  1.187\n",
       "min                  2.000\n",
       "25%                 10.000\n",
       "50%                 10.000\n",
       "75%                 10.000\n",
       "max                 10.000"
      ]
     },
     "execution_count": 70,
     "metadata": {},
     "output_type": "execute_result"
    }
   ],
   "source": [
    "# Explore the behavior_sexualRisk column\n",
    "# Make the descriptive statistics for behavior_sexualRisk column that given a name as Cervical_Cancer_sexualRisk\n",
    "Cervical_Cancer_sexualRisk=Cervical_Cancer['behavior_sexualRisk'].describe().round(3)\n",
    "# Create a data frame to show the specific statistics for Cervical_Cancer_sexualRisk\n",
    "pd.DataFrame(Cervical_Cancer_sexualRisk)"
   ]
  },
  {
   "cell_type": "code",
   "execution_count": 71,
   "metadata": {},
   "outputs": [
    {
     "data": {
      "image/png": "[encoded data removed]",
      "text/plain": [
       "<Figure size 432x288 with 1 Axes>"
      ]
     },
     "metadata": {
      "needs_background": "light"
     },
     "output_type": "display_data"
    }
   ],
   "source": [
    "# Draw a histogram to check the frequency of the behavior_sexualRisk column \n",
    "Cervical_Cancer['behavior_sexualRisk'].plot(kind='hist',bins=8,facecolor='SlateBlue',alpha=0.8)\n",
    "plt.title('The behavior_sexualRisk information in the Cervical_Cancer data set',fontsize=14)\n",
    "plt.xlabel('behavior_sexualRisk',fontsize=12)\n",
    "plt.ylabel('Frequency',fontsize=12)\n",
    "plt.grid(axis=\"y\",ls=\"--\")\n",
    "plt.show()"
   ]
  },
  {
   "cell_type": "code",
   "execution_count": 72,
   "metadata": {},
   "outputs": [
    {
     "data": {
      "text/html": [
       "<div>\n",
       "<style scoped>\n",
       "    .dataframe tbody tr th:only-of-type {\n",
       "        vertical-align: middle;\n",
       "    }\n",
       "\n",
       "    .dataframe tbody tr th {\n",
       "        vertical-align: top;\n",
       "    }\n",
       "\n",
       "    .dataframe thead th {\n",
       "        text-align: right;\n",
       "    }\n",
       "</style>\n",
       "<table border=\"1\" class=\"dataframe\">\n",
       "  <thead>\n",
       "    <tr style=\"text-align: right;\">\n",
       "      <th></th>\n",
       "      <th>behavior_eating</th>\n",
       "    </tr>\n",
       "  </thead>\n",
       "  <tbody>\n",
       "    <tr>\n",
       "      <th>count</th>\n",
       "      <td>72.000</td>\n",
       "    </tr>\n",
       "    <tr>\n",
       "      <th>mean</th>\n",
       "      <td>12.792</td>\n",
       "    </tr>\n",
       "    <tr>\n",
       "      <th>std</th>\n",
       "      <td>2.361</td>\n",
       "    </tr>\n",
       "    <tr>\n",
       "      <th>min</th>\n",
       "      <td>3.000</td>\n",
       "    </tr>\n",
       "    <tr>\n",
       "      <th>25%</th>\n",
       "      <td>11.000</td>\n",
       "    </tr>\n",
       "    <tr>\n",
       "      <th>50%</th>\n",
       "      <td>13.000</td>\n",
       "    </tr>\n",
       "    <tr>\n",
       "      <th>75%</th>\n",
       "      <td>15.000</td>\n",
       "    </tr>\n",
       "    <tr>\n",
       "      <th>max</th>\n",
       "      <td>15.000</td>\n",
       "    </tr>\n",
       "  </tbody>\n",
       "</table>\n",
       "</div>"
      ],
      "text/plain": [
       "       behavior_eating\n",
       "count           72.000\n",
       "mean            12.792\n",
       "std              2.361\n",
       "min              3.000\n",
       "25%             11.000\n",
       "50%             13.000\n",
       "75%             15.000\n",
       "max             15.000"
      ]
     },
     "execution_count": 72,
     "metadata": {},
     "output_type": "execute_result"
    }
   ],
   "source": [
    "# Explore the behavior_eating column\n",
    "# Make the descriptive statistics for behavior_eating column that given a name as Cervical_Cancer_eating\n",
    "Cervical_Cancer_eating=Cervical_Cancer['behavior_eating'].describe().round(3)\n",
    "# Create a data frame to show the specific statistics for Cervical_Cancer_eating\n",
    "pd.DataFrame(Cervical_Cancer_eating)"
   ]
  },
  {
   "cell_type": "code",
   "execution_count": 73,
   "metadata": {},
   "outputs": [
    {
     "data": {
      "image/png": "[encoded data removed]",
      "text/plain": [
       "<Figure size 432x288 with 1 Axes>"
      ]
     },
     "metadata": {
      "needs_background": "light"
     },
     "output_type": "display_data"
    }
   ],
   "source": [
    "# Draw a histogram to check the frequency of the behavior_eating column \n",
    "plt.hist(Cervical_Cancer['behavior_eating'],bins=12,color='#3CB371',alpha=0.8)\n",
    "plt.title('The behavior_eating information in the Cervical_Cancer data set',fontsize=14)\n",
    "plt.xlabel('behavior_eating',fontsize=12)\n",
    "plt.ylabel('Frequency',fontsize=12)\n",
    "plt.xticks(np.arange(min(Cervical_Cancer['behavior_eating'])-1,max(Cervical_Cancer['behavior_eating'])+1))\n",
    "plt.grid(axis=\"y\",ls=\"--\")\n",
    "plt.show()"
   ]
  },
  {
   "cell_type": "code",
   "execution_count": 74,
   "metadata": {},
   "outputs": [
    {
     "data": {
      "text/html": [
       "<div>\n",
       "<style scoped>\n",
       "    .dataframe tbody tr th:only-of-type {\n",
       "        vertical-align: middle;\n",
       "    }\n",
       "\n",
       "    .dataframe tbody tr th {\n",
       "        vertical-align: top;\n",
       "    }\n",
       "\n",
       "    .dataframe thead th {\n",
       "        text-align: right;\n",
       "    }\n",
       "</style>\n",
       "<table border=\"1\" class=\"dataframe\">\n",
       "  <thead>\n",
       "    <tr style=\"text-align: right;\">\n",
       "      <th></th>\n",
       "      <th>behavior_personalHygine</th>\n",
       "    </tr>\n",
       "  </thead>\n",
       "  <tbody>\n",
       "    <tr>\n",
       "      <th>count</th>\n",
       "      <td>72.000</td>\n",
       "    </tr>\n",
       "    <tr>\n",
       "      <th>mean</th>\n",
       "      <td>11.083</td>\n",
       "    </tr>\n",
       "    <tr>\n",
       "      <th>std</th>\n",
       "      <td>3.034</td>\n",
       "    </tr>\n",
       "    <tr>\n",
       "      <th>min</th>\n",
       "      <td>3.000</td>\n",
       "    </tr>\n",
       "    <tr>\n",
       "      <th>25%</th>\n",
       "      <td>9.000</td>\n",
       "    </tr>\n",
       "    <tr>\n",
       "      <th>50%</th>\n",
       "      <td>11.000</td>\n",
       "    </tr>\n",
       "    <tr>\n",
       "      <th>75%</th>\n",
       "      <td>14.000</td>\n",
       "    </tr>\n",
       "    <tr>\n",
       "      <th>max</th>\n",
       "      <td>15.000</td>\n",
       "    </tr>\n",
       "  </tbody>\n",
       "</table>\n",
       "</div>"
      ],
      "text/plain": [
       "       behavior_personalHygine\n",
       "count                   72.000\n",
       "mean                    11.083\n",
       "std                      3.034\n",
       "min                      3.000\n",
       "25%                      9.000\n",
       "50%                     11.000\n",
       "75%                     14.000\n",
       "max                     15.000"
      ]
     },
     "execution_count": 74,
     "metadata": {},
     "output_type": "execute_result"
    }
   ],
   "source": [
    "# Explore the behavior_personalHygine column\n",
    "# Make the descriptive statistics for behavior_personalHygine column that given a name as Cervical_Cancer_personalHygine\n",
    "Cervical_Cancer_personalHygine=Cervical_Cancer['behavior_personalHygine'].describe().round(3)\n",
    "# Create a data frame to show the specific statistics for Cervical_Cancer_eating\n",
    "pd.DataFrame(Cervical_Cancer_personalHygine)"
   ]
  },
  {
   "cell_type": "code",
   "execution_count": 75,
   "metadata": {},
   "outputs": [
    {
     "data": {
      "image/png": "[encoded data removed]",
      "text/plain": [
       "<Figure size 432x288 with 1 Axes>"
      ]
     },
     "metadata": {
      "needs_background": "light"
     },
     "output_type": "display_data"
    }
   ],
   "source": [
    "# Draw a histogram to check the frequency of the behavior_personalHygine column \n",
    "plt.hist(Cervical_Cancer['behavior_personalHygine'],bins=12,color='#6699ff',alpha=0.8)\n",
    "plt.title('The behavior_personalHygine information in the Cervical_Cancer data set',fontsize=14)\n",
    "plt.xlabel('behavior_personalHygine',fontsize=12)\n",
    "plt.ylabel('Frequency',fontsize=12)\n",
    "plt.xticks(np.arange(min(Cervical_Cancer['behavior_personalHygine'])-1,max(Cervical_Cancer['behavior_personalHygine'])+1))\n",
    "plt.grid(axis=\"y\",ls=\"--\")\n",
    "plt.yticks([0,2,4,6,8,10,12,14,16,18,20])\n",
    "plt.show()"
   ]
  },
  {
   "cell_type": "code",
   "execution_count": 76,
   "metadata": {},
   "outputs": [
    {
     "data": {
      "text/html": [
       "<div>\n",
       "<style scoped>\n",
       "    .dataframe tbody tr th:only-of-type {\n",
       "        vertical-align: middle;\n",
       "    }\n",
       "\n",
       "    .dataframe tbody tr th {\n",
       "        vertical-align: top;\n",
       "    }\n",
       "\n",
       "    .dataframe thead th {\n",
       "        text-align: right;\n",
       "    }\n",
       "</style>\n",
       "<table border=\"1\" class=\"dataframe\">\n",
       "  <thead>\n",
       "    <tr style=\"text-align: right;\">\n",
       "      <th></th>\n",
       "      <th>intention_aggregation</th>\n",
       "    </tr>\n",
       "  </thead>\n",
       "  <tbody>\n",
       "    <tr>\n",
       "      <th>count</th>\n",
       "      <td>72.000</td>\n",
       "    </tr>\n",
       "    <tr>\n",
       "      <th>mean</th>\n",
       "      <td>7.903</td>\n",
       "    </tr>\n",
       "    <tr>\n",
       "      <th>std</th>\n",
       "      <td>2.738</td>\n",
       "    </tr>\n",
       "    <tr>\n",
       "      <th>min</th>\n",
       "      <td>2.000</td>\n",
       "    </tr>\n",
       "    <tr>\n",
       "      <th>25%</th>\n",
       "      <td>6.000</td>\n",
       "    </tr>\n",
       "    <tr>\n",
       "      <th>50%</th>\n",
       "      <td>10.000</td>\n",
       "    </tr>\n",
       "    <tr>\n",
       "      <th>75%</th>\n",
       "      <td>10.000</td>\n",
       "    </tr>\n",
       "    <tr>\n",
       "      <th>max</th>\n",
       "      <td>10.000</td>\n",
       "    </tr>\n",
       "  </tbody>\n",
       "</table>\n",
       "</div>"
      ],
      "text/plain": [
       "       intention_aggregation\n",
       "count                 72.000\n",
       "mean                   7.903\n",
       "std                    2.738\n",
       "min                    2.000\n",
       "25%                    6.000\n",
       "50%                   10.000\n",
       "75%                   10.000\n",
       "max                   10.000"
      ]
     },
     "execution_count": 76,
     "metadata": {},
     "output_type": "execute_result"
    }
   ],
   "source": [
    "# Explore the intention_aggregation column\n",
    "# Make the descriptive statistics for intention_aggregation column that given a name as Cervical_Cancer_aggregation\n",
    "Cervical_Cancer_aggregation=Cervical_Cancer['intention_aggregation'].describe().round(3)\n",
    "# Create a data frame to show the specific statistics for Cervical_Cancer_eating\n",
    "pd.DataFrame(Cervical_Cancer_aggregation)"
   ]
  },
  {
   "cell_type": "code",
   "execution_count": 77,
   "metadata": {},
   "outputs": [
    {
     "data": {
      "image/png": "[encoded data removed]",
      "text/plain": [
       "<Figure size 432x288 with 1 Axes>"
      ]
     },
     "metadata": {
      "needs_background": "light"
     },
     "output_type": "display_data"
    }
   ],
   "source": [
    "# Draw a histogram to check the frequency of the intention_aggregation column \n",
    "plt.hist(Cervical_Cancer['intention_aggregation'],bins=8,color='#00ccff',alpha=0.8)\n",
    "plt.title('The intention_aggregation information in the Cervical_Cancer data set',fontsize=14)\n",
    "plt.xlabel('intention_aggregation',fontsize=12)\n",
    "plt.ylabel('Frequency',fontsize=12)\n",
    "plt.xticks(np.arange(min(Cervical_Cancer['intention_aggregation'])-1,max(Cervical_Cancer['intention_aggregation'])+1))\n",
    "plt.grid(axis=\"y\",ls=\"--\")\n",
    "plt.show()"
   ]
  },
  {
   "cell_type": "code",
   "execution_count": 78,
   "metadata": {},
   "outputs": [
    {
     "data": {
      "text/html": [
       "<div>\n",
       "<style scoped>\n",
       "    .dataframe tbody tr th:only-of-type {\n",
       "        vertical-align: middle;\n",
       "    }\n",
       "\n",
       "    .dataframe tbody tr th {\n",
       "        vertical-align: top;\n",
       "    }\n",
       "\n",
       "    .dataframe thead th {\n",
       "        text-align: right;\n",
       "    }\n",
       "</style>\n",
       "<table border=\"1\" class=\"dataframe\">\n",
       "  <thead>\n",
       "    <tr style=\"text-align: right;\">\n",
       "      <th></th>\n",
       "      <th>intention_commitment</th>\n",
       "    </tr>\n",
       "  </thead>\n",
       "  <tbody>\n",
       "    <tr>\n",
       "      <th>count</th>\n",
       "      <td>72.000</td>\n",
       "    </tr>\n",
       "    <tr>\n",
       "      <th>mean</th>\n",
       "      <td>13.347</td>\n",
       "    </tr>\n",
       "    <tr>\n",
       "      <th>std</th>\n",
       "      <td>2.375</td>\n",
       "    </tr>\n",
       "    <tr>\n",
       "      <th>min</th>\n",
       "      <td>6.000</td>\n",
       "    </tr>\n",
       "    <tr>\n",
       "      <th>25%</th>\n",
       "      <td>11.000</td>\n",
       "    </tr>\n",
       "    <tr>\n",
       "      <th>50%</th>\n",
       "      <td>15.000</td>\n",
       "    </tr>\n",
       "    <tr>\n",
       "      <th>75%</th>\n",
       "      <td>15.000</td>\n",
       "    </tr>\n",
       "    <tr>\n",
       "      <th>max</th>\n",
       "      <td>15.000</td>\n",
       "    </tr>\n",
       "  </tbody>\n",
       "</table>\n",
       "</div>"
      ],
      "text/plain": [
       "       intention_commitment\n",
       "count                72.000\n",
       "mean                 13.347\n",
       "std                   2.375\n",
       "min                   6.000\n",
       "25%                  11.000\n",
       "50%                  15.000\n",
       "75%                  15.000\n",
       "max                  15.000"
      ]
     },
     "execution_count": 78,
     "metadata": {},
     "output_type": "execute_result"
    }
   ],
   "source": [
    "# Explore the intention_commitment column\n",
    "# Make the descriptive statistics for intention_commitment column that given a name as Cervical_Cancer_commitment\n",
    "Cervical_Cancer_commitment=Cervical_Cancer['intention_commitment'].describe().round(3)\n",
    "# Create a data frame to show the specific statistics for Cervical_Cancer_eating\n",
    "pd.DataFrame(Cervical_Cancer_commitment)"
   ]
  },
  {
   "cell_type": "code",
   "execution_count": 79,
   "metadata": {},
   "outputs": [
    {
     "data": {
      "image/png": "[encoded data removed]",
      "text/plain": [
       "<Figure size 432x288 with 1 Axes>"
      ]
     },
     "metadata": {
      "needs_background": "light"
     },
     "output_type": "display_data"
    }
   ],
   "source": [
    "# Draw a histogram to check the frequency of the intention_commitment column \n",
    "plt.hist(Cervical_Cancer['intention_commitment'],color='#66ffcc',alpha=0.8)\n",
    "plt.title('The intention_commitment information in the Cervical_Cancer data set',fontsize=14)\n",
    "plt.xlabel('intention_commitment',fontsize=12)\n",
    "plt.ylabel('Frequency',fontsize=12)\n",
    "plt.xticks(np.arange(min(Cervical_Cancer['intention_commitment']-1),max(Cervical_Cancer['intention_commitment']+2)))\n",
    "plt.grid(axis=\"y\",ls=\"--\")\n",
    "plt.show()"
   ]
  },
  {
   "cell_type": "code",
   "execution_count": 80,
   "metadata": {},
   "outputs": [
    {
     "data": {
      "text/html": [
       "<div>\n",
       "<style scoped>\n",
       "    .dataframe tbody tr th:only-of-type {\n",
       "        vertical-align: middle;\n",
       "    }\n",
       "\n",
       "    .dataframe tbody tr th {\n",
       "        vertical-align: top;\n",
       "    }\n",
       "\n",
       "    .dataframe thead th {\n",
       "        text-align: right;\n",
       "    }\n",
       "</style>\n",
       "<table border=\"1\" class=\"dataframe\">\n",
       "  <thead>\n",
       "    <tr style=\"text-align: right;\">\n",
       "      <th></th>\n",
       "      <th>attitude_consistency</th>\n",
       "    </tr>\n",
       "  </thead>\n",
       "  <tbody>\n",
       "    <tr>\n",
       "      <th>count</th>\n",
       "      <td>72.000</td>\n",
       "    </tr>\n",
       "    <tr>\n",
       "      <th>mean</th>\n",
       "      <td>7.181</td>\n",
       "    </tr>\n",
       "    <tr>\n",
       "      <th>std</th>\n",
       "      <td>1.523</td>\n",
       "    </tr>\n",
       "    <tr>\n",
       "      <th>min</th>\n",
       "      <td>2.000</td>\n",
       "    </tr>\n",
       "    <tr>\n",
       "      <th>25%</th>\n",
       "      <td>6.000</td>\n",
       "    </tr>\n",
       "    <tr>\n",
       "      <th>50%</th>\n",
       "      <td>7.000</td>\n",
       "    </tr>\n",
       "    <tr>\n",
       "      <th>75%</th>\n",
       "      <td>8.000</td>\n",
       "    </tr>\n",
       "    <tr>\n",
       "      <th>max</th>\n",
       "      <td>10.000</td>\n",
       "    </tr>\n",
       "  </tbody>\n",
       "</table>\n",
       "</div>"
      ],
      "text/plain": [
       "       attitude_consistency\n",
       "count                72.000\n",
       "mean                  7.181\n",
       "std                   1.523\n",
       "min                   2.000\n",
       "25%                   6.000\n",
       "50%                   7.000\n",
       "75%                   8.000\n",
       "max                  10.000"
      ]
     },
     "execution_count": 80,
     "metadata": {},
     "output_type": "execute_result"
    }
   ],
   "source": [
    "# Explore the attitude_consistency column\n",
    "# Make the descriptive statistics for attitude_consistency column that given a name as Cervical_Cancer_consistency\n",
    "Cervical_Cancer_consistency=Cervical_Cancer['attitude_consistency'].describe().round(3)\n",
    "# Create a data frame to show the specific statistics for Cervical_Cancer_eating\n",
    "pd.DataFrame(Cervical_Cancer_consistency)"
   ]
  },
  {
   "cell_type": "code",
   "execution_count": 81,
   "metadata": {},
   "outputs": [
    {
     "data": {
      "image/png": "[encoded data removed]",
      "text/plain": [
       "<Figure size 432x288 with 1 Axes>"
      ]
     },
     "metadata": {
      "needs_background": "light"
     },
     "output_type": "display_data"
    }
   ],
   "source": [
    "# Draw a histogram to check the frequency of the attitude_consistency column \n",
    "plt.hist(Cervical_Cancer['attitude_consistency'],bins=8,alpha=0.8)\n",
    "plt.title('The attitude_consistency information in the Cervical_Cancer data set',fontsize=14)\n",
    "plt.xlabel('attitude_consistency',fontsize=12)\n",
    "plt.ylabel('Frequency',fontsize=12)\n",
    "plt.xticks(np.arange(min(Cervical_Cancer['attitude_consistency']-1),max(Cervical_Cancer['attitude_consistency']+2)))\n",
    "plt.grid(axis=\"y\",ls=\"--\")\n",
    "plt.show()"
   ]
  },
  {
   "cell_type": "code",
   "execution_count": 82,
   "metadata": {},
   "outputs": [
    {
     "data": {
      "text/html": [
       "<div>\n",
       "<style scoped>\n",
       "    .dataframe tbody tr th:only-of-type {\n",
       "        vertical-align: middle;\n",
       "    }\n",
       "\n",
       "    .dataframe tbody tr th {\n",
       "        vertical-align: top;\n",
       "    }\n",
       "\n",
       "    .dataframe thead th {\n",
       "        text-align: right;\n",
       "    }\n",
       "</style>\n",
       "<table border=\"1\" class=\"dataframe\">\n",
       "  <thead>\n",
       "    <tr style=\"text-align: right;\">\n",
       "      <th></th>\n",
       "      <th>attitude_spontaneity</th>\n",
       "    </tr>\n",
       "  </thead>\n",
       "  <tbody>\n",
       "    <tr>\n",
       "      <th>count</th>\n",
       "      <td>72.000</td>\n",
       "    </tr>\n",
       "    <tr>\n",
       "      <th>mean</th>\n",
       "      <td>8.611</td>\n",
       "    </tr>\n",
       "    <tr>\n",
       "      <th>std</th>\n",
       "      <td>1.516</td>\n",
       "    </tr>\n",
       "    <tr>\n",
       "      <th>min</th>\n",
       "      <td>4.000</td>\n",
       "    </tr>\n",
       "    <tr>\n",
       "      <th>25%</th>\n",
       "      <td>8.000</td>\n",
       "    </tr>\n",
       "    <tr>\n",
       "      <th>50%</th>\n",
       "      <td>9.000</td>\n",
       "    </tr>\n",
       "    <tr>\n",
       "      <th>75%</th>\n",
       "      <td>10.000</td>\n",
       "    </tr>\n",
       "    <tr>\n",
       "      <th>max</th>\n",
       "      <td>10.000</td>\n",
       "    </tr>\n",
       "  </tbody>\n",
       "</table>\n",
       "</div>"
      ],
      "text/plain": [
       "       attitude_spontaneity\n",
       "count                72.000\n",
       "mean                  8.611\n",
       "std                   1.516\n",
       "min                   4.000\n",
       "25%                   8.000\n",
       "50%                   9.000\n",
       "75%                  10.000\n",
       "max                  10.000"
      ]
     },
     "execution_count": 82,
     "metadata": {},
     "output_type": "execute_result"
    }
   ],
   "source": [
    "# Explore the attitude_spontaneity column\n",
    "# Make the descriptive statistics for attitude_spontaneity column that given a name as Cervical_Cancer_spontaneity\n",
    "Cervical_Cancer_spontaneity=Cervical_Cancer['attitude_spontaneity'].describe().round(3)\n",
    "# Create a data frame to show the specific statistics for Cervical_Cancer_eating\n",
    "pd.DataFrame(Cervical_Cancer_spontaneity)"
   ]
  },
  {
   "cell_type": "code",
   "execution_count": 83,
   "metadata": {},
   "outputs": [
    {
     "data": {
      "image/png": "[encoded data removed]",
      "text/plain": [
       "<Figure size 432x288 with 1 Axes>"
      ]
     },
     "metadata": {
      "needs_background": "light"
     },
     "output_type": "display_data"
    }
   ],
   "source": [
    "# Draw a histogram to check the frequency of the attitude_spontaneity column \n",
    "plt.hist(Cervical_Cancer['attitude_spontaneity'],color='#ffcc00',bins=6,alpha=0.8)\n",
    "plt.title('The attitude_spontaneity information in the Cervical_Cancer data set',fontsize=14)\n",
    "plt.xlabel('attitude_spontaneity',fontsize=12)\n",
    "plt.ylabel('Frequency',fontsize=12)\n",
    "plt.xticks(np.arange(min(Cervical_Cancer['attitude_spontaneity']-1),max(Cervical_Cancer['attitude_spontaneity']+2)))\n",
    "plt.grid(axis=\"y\",ls=\"--\")\n",
    "plt.show()"
   ]
  },
  {
   "cell_type": "code",
   "execution_count": 84,
   "metadata": {},
   "outputs": [
    {
     "data": {
      "text/html": [
       "<div>\n",
       "<style scoped>\n",
       "    .dataframe tbody tr th:only-of-type {\n",
       "        vertical-align: middle;\n",
       "    }\n",
       "\n",
       "    .dataframe tbody tr th {\n",
       "        vertical-align: top;\n",
       "    }\n",
       "\n",
       "    .dataframe thead th {\n",
       "        text-align: right;\n",
       "    }\n",
       "</style>\n",
       "<table border=\"1\" class=\"dataframe\">\n",
       "  <thead>\n",
       "    <tr style=\"text-align: right;\">\n",
       "      <th></th>\n",
       "      <th>norm_significantPerson</th>\n",
       "    </tr>\n",
       "  </thead>\n",
       "  <tbody>\n",
       "    <tr>\n",
       "      <th>count</th>\n",
       "      <td>72.000</td>\n",
       "    </tr>\n",
       "    <tr>\n",
       "      <th>mean</th>\n",
       "      <td>3.125</td>\n",
       "    </tr>\n",
       "    <tr>\n",
       "      <th>std</th>\n",
       "      <td>1.846</td>\n",
       "    </tr>\n",
       "    <tr>\n",
       "      <th>min</th>\n",
       "      <td>1.000</td>\n",
       "    </tr>\n",
       "    <tr>\n",
       "      <th>25%</th>\n",
       "      <td>1.000</td>\n",
       "    </tr>\n",
       "    <tr>\n",
       "      <th>50%</th>\n",
       "      <td>3.000</td>\n",
       "    </tr>\n",
       "    <tr>\n",
       "      <th>75%</th>\n",
       "      <td>5.000</td>\n",
       "    </tr>\n",
       "    <tr>\n",
       "      <th>max</th>\n",
       "      <td>5.000</td>\n",
       "    </tr>\n",
       "  </tbody>\n",
       "</table>\n",
       "</div>"
      ],
      "text/plain": [
       "       norm_significantPerson\n",
       "count                  72.000\n",
       "mean                    3.125\n",
       "std                     1.846\n",
       "min                     1.000\n",
       "25%                     1.000\n",
       "50%                     3.000\n",
       "75%                     5.000\n",
       "max                     5.000"
      ]
     },
     "execution_count": 84,
     "metadata": {},
     "output_type": "execute_result"
    }
   ],
   "source": [
    "# Explore the norm_significantPerson column\n",
    "# Make the descriptive statistics for norm_significantPerson column that given a name as Cervical_Cancer_Person\n",
    "Cervical_Cancer_Person=Cervical_Cancer['norm_significantPerson'].describe().round(3)\n",
    "# Create a data frame to show the specific statistics for Cervical_Cancer_eating\n",
    "pd.DataFrame(Cervical_Cancer_Person)"
   ]
  },
  {
   "cell_type": "code",
   "execution_count": 85,
   "metadata": {},
   "outputs": [
    {
     "data": {
      "image/png": "[encoded data removed]",
      "text/plain": [
       "<Figure size 432x288 with 1 Axes>"
      ]
     },
     "metadata": {
      "needs_background": "light"
     },
     "output_type": "display_data"
    }
   ],
   "source": [
    "# Draw a histogram to check the frequency of the norm_significantPerson column \n",
    "Cervical_Cancer['norm_significantPerson'].plot(kind='hist',bins=4,facecolor='#ff9966',alpha=0.8)\n",
    "plt.title('The norm_significantPerson information in the Cervical_Cancer data set',fontsize=14)\n",
    "plt.xlabel('norm_significantPerson',fontsize=12)\n",
    "plt.ylabel('Frequency',fontsize=12)\n",
    "plt.xticks(np.arange(min(Cervical_Cancer['norm_significantPerson']-1),max(Cervical_Cancer['norm_significantPerson']+2)))\n",
    "plt.grid(axis=\"y\",ls=\"--\")\n",
    "plt.show()"
   ]
  },
  {
   "cell_type": "code",
   "execution_count": 86,
   "metadata": {},
   "outputs": [
    {
     "data": {
      "text/html": [
       "<div>\n",
       "<style scoped>\n",
       "    .dataframe tbody tr th:only-of-type {\n",
       "        vertical-align: middle;\n",
       "    }\n",
       "\n",
       "    .dataframe tbody tr th {\n",
       "        vertical-align: top;\n",
       "    }\n",
       "\n",
       "    .dataframe thead th {\n",
       "        text-align: right;\n",
       "    }\n",
       "</style>\n",
       "<table border=\"1\" class=\"dataframe\">\n",
       "  <thead>\n",
       "    <tr style=\"text-align: right;\">\n",
       "      <th></th>\n",
       "      <th>norm_fulfillment</th>\n",
       "    </tr>\n",
       "  </thead>\n",
       "  <tbody>\n",
       "    <tr>\n",
       "      <th>count</th>\n",
       "      <td>72.000</td>\n",
       "    </tr>\n",
       "    <tr>\n",
       "      <th>mean</th>\n",
       "      <td>8.486</td>\n",
       "    </tr>\n",
       "    <tr>\n",
       "      <th>std</th>\n",
       "      <td>4.908</td>\n",
       "    </tr>\n",
       "    <tr>\n",
       "      <th>min</th>\n",
       "      <td>3.000</td>\n",
       "    </tr>\n",
       "    <tr>\n",
       "      <th>25%</th>\n",
       "      <td>3.000</td>\n",
       "    </tr>\n",
       "    <tr>\n",
       "      <th>50%</th>\n",
       "      <td>7.000</td>\n",
       "    </tr>\n",
       "    <tr>\n",
       "      <th>75%</th>\n",
       "      <td>14.000</td>\n",
       "    </tr>\n",
       "    <tr>\n",
       "      <th>max</th>\n",
       "      <td>15.000</td>\n",
       "    </tr>\n",
       "  </tbody>\n",
       "</table>\n",
       "</div>"
      ],
      "text/plain": [
       "       norm_fulfillment\n",
       "count            72.000\n",
       "mean              8.486\n",
       "std               4.908\n",
       "min               3.000\n",
       "25%               3.000\n",
       "50%               7.000\n",
       "75%              14.000\n",
       "max              15.000"
      ]
     },
     "execution_count": 86,
     "metadata": {},
     "output_type": "execute_result"
    }
   ],
   "source": [
    "# Explore the norm_fulfillment column\n",
    "# Make the descriptive statistics for norm_fulfillment column that given a name as Cervical_Cancer_fulfillment\n",
    "Cervical_Cancer_fulfillment=Cervical_Cancer['norm_fulfillment'].describe().round(3)\n",
    "# Create a data frame to show the specific statistics for Cervical_Cancer_eating\n",
    "pd.DataFrame(Cervical_Cancer_fulfillment)"
   ]
  },
  {
   "cell_type": "code",
   "execution_count": 87,
   "metadata": {},
   "outputs": [
    {
     "data": {
      "image/png": "[encoded data removed]",
      "text/plain": [
       "<Figure size 432x288 with 1 Axes>"
      ]
     },
     "metadata": {
      "needs_background": "light"
     },
     "output_type": "display_data"
    }
   ],
   "source": [
    "# Draw a histogram to check the frequency of the norm_fulfillment column \n",
    "Cervical_Cancer['norm_fulfillment'].plot(kind='hist',bins=8,facecolor='#666699',alpha=0.8)\n",
    "plt.title('The norm_fulfillment information in the Cervical_Cancer data set',fontsize=14)\n",
    "plt.xlabel('norm_fulfillment',fontsize=12)\n",
    "plt.ylabel('Frequency',fontsize=12)\n",
    "plt.xticks(np.arange(min(Cervical_Cancer['norm_fulfillment']-1),max(Cervical_Cancer['norm_fulfillment']+1)))\n",
    "plt.grid(axis=\"y\",ls=\"--\")\n",
    "plt.show()"
   ]
  },
  {
   "cell_type": "code",
   "execution_count": 88,
   "metadata": {},
   "outputs": [
    {
     "data": {
      "text/html": [
       "<div>\n",
       "<style scoped>\n",
       "    .dataframe tbody tr th:only-of-type {\n",
       "        vertical-align: middle;\n",
       "    }\n",
       "\n",
       "    .dataframe tbody tr th {\n",
       "        vertical-align: top;\n",
       "    }\n",
       "\n",
       "    .dataframe thead th {\n",
       "        text-align: right;\n",
       "    }\n",
       "</style>\n",
       "<table border=\"1\" class=\"dataframe\">\n",
       "  <thead>\n",
       "    <tr style=\"text-align: right;\">\n",
       "      <th></th>\n",
       "      <th>perception_vulnerability</th>\n",
       "    </tr>\n",
       "  </thead>\n",
       "  <tbody>\n",
       "    <tr>\n",
       "      <th>count</th>\n",
       "      <td>72.000</td>\n",
       "    </tr>\n",
       "    <tr>\n",
       "      <th>mean</th>\n",
       "      <td>8.514</td>\n",
       "    </tr>\n",
       "    <tr>\n",
       "      <th>std</th>\n",
       "      <td>4.276</td>\n",
       "    </tr>\n",
       "    <tr>\n",
       "      <th>min</th>\n",
       "      <td>3.000</td>\n",
       "    </tr>\n",
       "    <tr>\n",
       "      <th>25%</th>\n",
       "      <td>5.000</td>\n",
       "    </tr>\n",
       "    <tr>\n",
       "      <th>50%</th>\n",
       "      <td>8.000</td>\n",
       "    </tr>\n",
       "    <tr>\n",
       "      <th>75%</th>\n",
       "      <td>13.000</td>\n",
       "    </tr>\n",
       "    <tr>\n",
       "      <th>max</th>\n",
       "      <td>15.000</td>\n",
       "    </tr>\n",
       "  </tbody>\n",
       "</table>\n",
       "</div>"
      ],
      "text/plain": [
       "       perception_vulnerability\n",
       "count                    72.000\n",
       "mean                      8.514\n",
       "std                       4.276\n",
       "min                       3.000\n",
       "25%                       5.000\n",
       "50%                       8.000\n",
       "75%                      13.000\n",
       "max                      15.000"
      ]
     },
     "execution_count": 88,
     "metadata": {},
     "output_type": "execute_result"
    }
   ],
   "source": [
    "# Explore the perception_vulnerability column\n",
    "# Make the descriptive statistics for perception_vulnerability column that given a name as Cervical_Cancer_vulnerability\n",
    "Cervical_Cancer_vulnerability=Cervical_Cancer['perception_vulnerability'].describe().round(3)\n",
    "# Create a data frame to show the specific statistics for Cervical_Cancer_vulnerability\n",
    "pd.DataFrame(Cervical_Cancer_vulnerability)"
   ]
  },
  {
   "cell_type": "code",
   "execution_count": 89,
   "metadata": {},
   "outputs": [
    {
     "data": {
      "image/png": "[encoded data removed]",
      "text/plain": [
       "<Figure size 432x288 with 1 Axes>"
      ]
     },
     "metadata": {
      "needs_background": "light"
     },
     "output_type": "display_data"
    }
   ],
   "source": [
    "# Draw a histogram to check the frequency of the perception_vulnerability column \n",
    "Cervical_Cancer['perception_vulnerability'].plot(kind='hist',bins=10,facecolor='#999966',alpha=0.8)\n",
    "plt.title('The perception_vulnerability information in the Cervical_Cancer data set',fontsize=14)\n",
    "plt.xlabel('perception_vulnerability',fontsize=12)\n",
    "plt.ylabel('Frequency',fontsize=12)\n",
    "plt.xticks(np.arange(min(Cervical_Cancer['perception_vulnerability']-1),max(Cervical_Cancer['perception_vulnerability']+1)))\n",
    "plt.grid(axis=\"y\",ls=\"--\")\n",
    "plt.show()"
   ]
  },
  {
   "cell_type": "code",
   "execution_count": 90,
   "metadata": {},
   "outputs": [
    {
     "data": {
      "text/html": [
       "<div>\n",
       "<style scoped>\n",
       "    .dataframe tbody tr th:only-of-type {\n",
       "        vertical-align: middle;\n",
       "    }\n",
       "\n",
       "    .dataframe tbody tr th {\n",
       "        vertical-align: top;\n",
       "    }\n",
       "\n",
       "    .dataframe thead th {\n",
       "        text-align: right;\n",
       "    }\n",
       "</style>\n",
       "<table border=\"1\" class=\"dataframe\">\n",
       "  <thead>\n",
       "    <tr style=\"text-align: right;\">\n",
       "      <th></th>\n",
       "      <th>perception_severity</th>\n",
       "    </tr>\n",
       "  </thead>\n",
       "  <tbody>\n",
       "    <tr>\n",
       "      <th>count</th>\n",
       "      <td>72.000</td>\n",
       "    </tr>\n",
       "    <tr>\n",
       "      <th>mean</th>\n",
       "      <td>5.389</td>\n",
       "    </tr>\n",
       "    <tr>\n",
       "      <th>std</th>\n",
       "      <td>3.401</td>\n",
       "    </tr>\n",
       "    <tr>\n",
       "      <th>min</th>\n",
       "      <td>2.000</td>\n",
       "    </tr>\n",
       "    <tr>\n",
       "      <th>25%</th>\n",
       "      <td>2.000</td>\n",
       "    </tr>\n",
       "    <tr>\n",
       "      <th>50%</th>\n",
       "      <td>4.000</td>\n",
       "    </tr>\n",
       "    <tr>\n",
       "      <th>75%</th>\n",
       "      <td>9.000</td>\n",
       "    </tr>\n",
       "    <tr>\n",
       "      <th>max</th>\n",
       "      <td>10.000</td>\n",
       "    </tr>\n",
       "  </tbody>\n",
       "</table>\n",
       "</div>"
      ],
      "text/plain": [
       "       perception_severity\n",
       "count               72.000\n",
       "mean                 5.389\n",
       "std                  3.401\n",
       "min                  2.000\n",
       "25%                  2.000\n",
       "50%                  4.000\n",
       "75%                  9.000\n",
       "max                 10.000"
      ]
     },
     "execution_count": 90,
     "metadata": {},
     "output_type": "execute_result"
    }
   ],
   "source": [
    "# Explore the perception_severity column\n",
    "# Make the descriptive statistics for perception_severity column that given a name as Cervical_Cancer_severity\n",
    "Cervical_Cancer_severity=Cervical_Cancer['perception_severity'].describe().round(3)\n",
    "# Create a data frame to show the specific statistics for Cervical_Cancer_severity\n",
    "pd.DataFrame(Cervical_Cancer_severity)"
   ]
  },
  {
   "cell_type": "code",
   "execution_count": 91,
   "metadata": {},
   "outputs": [
    {
     "data": {
      "image/png": "[encoded data removed]",
      "text/plain": [
       "<Figure size 432x288 with 1 Axes>"
      ]
     },
     "metadata": {
      "needs_background": "light"
     },
     "output_type": "display_data"
    }
   ],
   "source": [
    "# Draw a histogram to check the frequency of the perception_severity column \n",
    "Cervical_Cancer['perception_severity'].plot(kind='hist',bins=8,facecolor='#33cccc',alpha=0.8)\n",
    "plt.title('The perception_severity information in the Cervical_Cancer data set',fontsize=14)\n",
    "plt.xlabel('perception_severity',fontsize=12)\n",
    "plt.ylabel('Frequency',fontsize=12)\n",
    "plt.xticks(np.arange(min(Cervical_Cancer['perception_severity']-1),max(Cervical_Cancer['perception_severity']+1)))\n",
    "plt.grid(axis=\"y\",ls=\"--\")\n",
    "plt.show()"
   ]
  },
  {
   "cell_type": "code",
   "execution_count": 92,
   "metadata": {},
   "outputs": [
    {
     "data": {
      "text/html": [
       "<div>\n",
       "<style scoped>\n",
       "    .dataframe tbody tr th:only-of-type {\n",
       "        vertical-align: middle;\n",
       "    }\n",
       "\n",
       "    .dataframe tbody tr th {\n",
       "        vertical-align: top;\n",
       "    }\n",
       "\n",
       "    .dataframe thead th {\n",
       "        text-align: right;\n",
       "    }\n",
       "</style>\n",
       "<table border=\"1\" class=\"dataframe\">\n",
       "  <thead>\n",
       "    <tr style=\"text-align: right;\">\n",
       "      <th></th>\n",
       "      <th>motivation_strength</th>\n",
       "    </tr>\n",
       "  </thead>\n",
       "  <tbody>\n",
       "    <tr>\n",
       "      <th>count</th>\n",
       "      <td>72.000</td>\n",
       "    </tr>\n",
       "    <tr>\n",
       "      <th>mean</th>\n",
       "      <td>12.653</td>\n",
       "    </tr>\n",
       "    <tr>\n",
       "      <th>std</th>\n",
       "      <td>3.207</td>\n",
       "    </tr>\n",
       "    <tr>\n",
       "      <th>min</th>\n",
       "      <td>3.000</td>\n",
       "    </tr>\n",
       "    <tr>\n",
       "      <th>25%</th>\n",
       "      <td>11.000</td>\n",
       "    </tr>\n",
       "    <tr>\n",
       "      <th>50%</th>\n",
       "      <td>14.000</td>\n",
       "    </tr>\n",
       "    <tr>\n",
       "      <th>75%</th>\n",
       "      <td>15.000</td>\n",
       "    </tr>\n",
       "    <tr>\n",
       "      <th>max</th>\n",
       "      <td>15.000</td>\n",
       "    </tr>\n",
       "  </tbody>\n",
       "</table>\n",
       "</div>"
      ],
      "text/plain": [
       "       motivation_strength\n",
       "count               72.000\n",
       "mean                12.653\n",
       "std                  3.207\n",
       "min                  3.000\n",
       "25%                 11.000\n",
       "50%                 14.000\n",
       "75%                 15.000\n",
       "max                 15.000"
      ]
     },
     "execution_count": 92,
     "metadata": {},
     "output_type": "execute_result"
    }
   ],
   "source": [
    "# Explore the motivation_strength column\n",
    "# Make the descriptive statistics for motivation_strength column that given a name as Cervical_Cancer_strength\n",
    "Cervical_Cancer_strength=Cervical_Cancer['motivation_strength'].describe().round(3)\n",
    "# Create a data frame to show the specific statistics for Cervical_Cancer_strength\n",
    "pd.DataFrame(Cervical_Cancer_strength)"
   ]
  },
  {
   "cell_type": "code",
   "execution_count": 93,
   "metadata": {},
   "outputs": [
    {
     "data": {
      "image/png": "[encoded data removed]",
      "text/plain": [
       "<Figure size 432x288 with 1 Axes>"
      ]
     },
     "metadata": {
      "needs_background": "light"
     },
     "output_type": "display_data"
    }
   ],
   "source": [
    "# Draw a histogram to check the frequency of the motivation_strength column \n",
    "Cervical_Cancer['motivation_strength'].plot(kind='hist',bins=12,facecolor='#4d79ff',alpha=0.8)\n",
    "plt.title('The motivation_strength information in the Cervical_Cancer data set',fontsize=14)\n",
    "plt.xlabel('motivation_strength',fontsize=12)\n",
    "plt.ylabel('Frequency',fontsize=12)\n",
    "plt.xticks(np.arange(min(Cervical_Cancer['motivation_strength']-1),max(Cervical_Cancer['motivation_strength']+1)))\n",
    "plt.grid(axis=\"y\",ls=\"--\")\n",
    "plt.show()"
   ]
  },
  {
   "cell_type": "code",
   "execution_count": 94,
   "metadata": {},
   "outputs": [
    {
     "data": {
      "text/html": [
       "<div>\n",
       "<style scoped>\n",
       "    .dataframe tbody tr th:only-of-type {\n",
       "        vertical-align: middle;\n",
       "    }\n",
       "\n",
       "    .dataframe tbody tr th {\n",
       "        vertical-align: top;\n",
       "    }\n",
       "\n",
       "    .dataframe thead th {\n",
       "        text-align: right;\n",
       "    }\n",
       "</style>\n",
       "<table border=\"1\" class=\"dataframe\">\n",
       "  <thead>\n",
       "    <tr style=\"text-align: right;\">\n",
       "      <th></th>\n",
       "      <th>motivation_willingness</th>\n",
       "    </tr>\n",
       "  </thead>\n",
       "  <tbody>\n",
       "    <tr>\n",
       "      <th>count</th>\n",
       "      <td>72.000</td>\n",
       "    </tr>\n",
       "    <tr>\n",
       "      <th>mean</th>\n",
       "      <td>9.694</td>\n",
       "    </tr>\n",
       "    <tr>\n",
       "      <th>std</th>\n",
       "      <td>4.130</td>\n",
       "    </tr>\n",
       "    <tr>\n",
       "      <th>min</th>\n",
       "      <td>3.000</td>\n",
       "    </tr>\n",
       "    <tr>\n",
       "      <th>25%</th>\n",
       "      <td>7.000</td>\n",
       "    </tr>\n",
       "    <tr>\n",
       "      <th>50%</th>\n",
       "      <td>11.000</td>\n",
       "    </tr>\n",
       "    <tr>\n",
       "      <th>75%</th>\n",
       "      <td>13.000</td>\n",
       "    </tr>\n",
       "    <tr>\n",
       "      <th>max</th>\n",
       "      <td>15.000</td>\n",
       "    </tr>\n",
       "  </tbody>\n",
       "</table>\n",
       "</div>"
      ],
      "text/plain": [
       "       motivation_willingness\n",
       "count                  72.000\n",
       "mean                    9.694\n",
       "std                     4.130\n",
       "min                     3.000\n",
       "25%                     7.000\n",
       "50%                    11.000\n",
       "75%                    13.000\n",
       "max                    15.000"
      ]
     },
     "execution_count": 94,
     "metadata": {},
     "output_type": "execute_result"
    }
   ],
   "source": [
    "# Explore the motivation_willingness column\n",
    "# Make the descriptive statistics for motivation_willingness column that given a name as Cervical_Cancer_willingness\n",
    "Cervical_Cancer_willingness=Cervical_Cancer['motivation_willingness'].describe().round(3)\n",
    "# Create a data frame to show the specific statistics for Cervical_Cancer_willingness\n",
    "pd.DataFrame(Cervical_Cancer_willingness)"
   ]
  },
  {
   "cell_type": "code",
   "execution_count": 95,
   "metadata": {},
   "outputs": [
    {
     "data": {
      "image/png": "[encoded data removed]",
      "text/plain": [
       "<Figure size 432x288 with 1 Axes>"
      ]
     },
     "metadata": {
      "needs_background": "light"
     },
     "output_type": "display_data"
    }
   ],
   "source": [
    "# Draw a histogram to check the frequency of the motivation_willingness column \n",
    "plt.hist(Cervical_Cancer['motivation_willingness'],bins=12,color='#339966',alpha=0.8)\n",
    "plt.title('The motivation_willingness information in the Cervical_Cancer data set',fontsize=14)\n",
    "plt.xlabel('motivation_willingness',fontsize=12)\n",
    "plt.ylabel('Frequency',fontsize=12)\n",
    "plt.xticks(np.arange(min(Cervical_Cancer['motivation_willingness'])-1,max(Cervical_Cancer['motivation_willingness'])+1))\n",
    "plt.grid(axis=\"y\",ls=\"--\")\n",
    "plt.show()"
   ]
  },
  {
   "cell_type": "code",
   "execution_count": 96,
   "metadata": {},
   "outputs": [
    {
     "data": {
      "text/html": [
       "<div>\n",
       "<style scoped>\n",
       "    .dataframe tbody tr th:only-of-type {\n",
       "        vertical-align: middle;\n",
       "    }\n",
       "\n",
       "    .dataframe tbody tr th {\n",
       "        vertical-align: top;\n",
       "    }\n",
       "\n",
       "    .dataframe thead th {\n",
       "        text-align: right;\n",
       "    }\n",
       "</style>\n",
       "<table border=\"1\" class=\"dataframe\">\n",
       "  <thead>\n",
       "    <tr style=\"text-align: right;\">\n",
       "      <th></th>\n",
       "      <th>socialSupport_emotionality</th>\n",
       "    </tr>\n",
       "  </thead>\n",
       "  <tbody>\n",
       "    <tr>\n",
       "      <th>count</th>\n",
       "      <td>72.000</td>\n",
       "    </tr>\n",
       "    <tr>\n",
       "      <th>mean</th>\n",
       "      <td>8.097</td>\n",
       "    </tr>\n",
       "    <tr>\n",
       "      <th>std</th>\n",
       "      <td>4.243</td>\n",
       "    </tr>\n",
       "    <tr>\n",
       "      <th>min</th>\n",
       "      <td>3.000</td>\n",
       "    </tr>\n",
       "    <tr>\n",
       "      <th>25%</th>\n",
       "      <td>3.000</td>\n",
       "    </tr>\n",
       "    <tr>\n",
       "      <th>50%</th>\n",
       "      <td>9.000</td>\n",
       "    </tr>\n",
       "    <tr>\n",
       "      <th>75%</th>\n",
       "      <td>11.250</td>\n",
       "    </tr>\n",
       "    <tr>\n",
       "      <th>max</th>\n",
       "      <td>15.000</td>\n",
       "    </tr>\n",
       "  </tbody>\n",
       "</table>\n",
       "</div>"
      ],
      "text/plain": [
       "       socialSupport_emotionality\n",
       "count                      72.000\n",
       "mean                        8.097\n",
       "std                         4.243\n",
       "min                         3.000\n",
       "25%                         3.000\n",
       "50%                         9.000\n",
       "75%                        11.250\n",
       "max                        15.000"
      ]
     },
     "execution_count": 96,
     "metadata": {},
     "output_type": "execute_result"
    }
   ],
   "source": [
    "# Explore the socialSupport_emotionality column\n",
    "# Make the descriptive statistics for socialSupport_emotionality column that given a name as Cervical_Cancer_emotionality\n",
    "Cervical_Cancer_emotionality=Cervical_Cancer['socialSupport_emotionality'].describe().round(3)\n",
    "# Create a data frame to show the specific statistics for Cervical_Cancer_emotionality\n",
    "pd.DataFrame(Cervical_Cancer_emotionality)"
   ]
  },
  {
   "cell_type": "code",
   "execution_count": 97,
   "metadata": {},
   "outputs": [
    {
     "data": {
      "image/png": "[encoded data removed]",
      "text/plain": [
       "<Figure size 432x288 with 1 Axes>"
      ]
     },
     "metadata": {
      "needs_background": "light"
     },
     "output_type": "display_data"
    }
   ],
   "source": [
    "# Draw a histogram to check the frequency of the socialSupport_emotionality column \n",
    "plt.hist(Cervical_Cancer['socialSupport_emotionality'],color='#ff9999',alpha=0.8)\n",
    "plt.title('The socialSupport_emotionality information in the Cervical_Cancer data set',fontsize=14)\n",
    "plt.xlabel('socialSupport_emotionality',fontsize=12)\n",
    "plt.ylabel('Frequency',fontsize=12)\n",
    "plt.xticks(np.arange(min(Cervical_Cancer['socialSupport_emotionality'])-1,max(Cervical_Cancer['socialSupport_emotionality'])+1))\n",
    "plt.grid(axis=\"y\",ls=\"--\")\n",
    "plt.show()"
   ]
  },
  {
   "cell_type": "code",
   "execution_count": 98,
   "metadata": {},
   "outputs": [
    {
     "data": {
      "text/html": [
       "<div>\n",
       "<style scoped>\n",
       "    .dataframe tbody tr th:only-of-type {\n",
       "        vertical-align: middle;\n",
       "    }\n",
       "\n",
       "    .dataframe tbody tr th {\n",
       "        vertical-align: top;\n",
       "    }\n",
       "\n",
       "    .dataframe thead th {\n",
       "        text-align: right;\n",
       "    }\n",
       "</style>\n",
       "<table border=\"1\" class=\"dataframe\">\n",
       "  <thead>\n",
       "    <tr style=\"text-align: right;\">\n",
       "      <th></th>\n",
       "      <th>socialSupport_appreciation</th>\n",
       "    </tr>\n",
       "  </thead>\n",
       "  <tbody>\n",
       "    <tr>\n",
       "      <th>count</th>\n",
       "      <td>72.000</td>\n",
       "    </tr>\n",
       "    <tr>\n",
       "      <th>mean</th>\n",
       "      <td>6.167</td>\n",
       "    </tr>\n",
       "    <tr>\n",
       "      <th>std</th>\n",
       "      <td>2.897</td>\n",
       "    </tr>\n",
       "    <tr>\n",
       "      <th>min</th>\n",
       "      <td>2.000</td>\n",
       "    </tr>\n",
       "    <tr>\n",
       "      <th>25%</th>\n",
       "      <td>3.750</td>\n",
       "    </tr>\n",
       "    <tr>\n",
       "      <th>50%</th>\n",
       "      <td>6.500</td>\n",
       "    </tr>\n",
       "    <tr>\n",
       "      <th>75%</th>\n",
       "      <td>9.000</td>\n",
       "    </tr>\n",
       "    <tr>\n",
       "      <th>max</th>\n",
       "      <td>10.000</td>\n",
       "    </tr>\n",
       "  </tbody>\n",
       "</table>\n",
       "</div>"
      ],
      "text/plain": [
       "       socialSupport_appreciation\n",
       "count                      72.000\n",
       "mean                        6.167\n",
       "std                         2.897\n",
       "min                         2.000\n",
       "25%                         3.750\n",
       "50%                         6.500\n",
       "75%                         9.000\n",
       "max                        10.000"
      ]
     },
     "execution_count": 98,
     "metadata": {},
     "output_type": "execute_result"
    }
   ],
   "source": [
    "# Explore the socialSupport_appreciation column\n",
    "# Make the descriptive statistics for socialSupport_appreciation column that given a name as Cervical_Cancer_appreciation\n",
    "Cervical_Cancer_appreciation=Cervical_Cancer['socialSupport_appreciation'].describe().round(3)\n",
    "# Create a data frame to show the specific statistics for Cervical_Cancer_appreciation\n",
    "pd.DataFrame(Cervical_Cancer_appreciation)"
   ]
  },
  {
   "cell_type": "code",
   "execution_count": 99,
   "metadata": {
    "scrolled": true
   },
   "outputs": [
    {
     "data": {
      "image/png": "[encoded data removed]",
      "text/plain": [
       "<Figure size 432x288 with 1 Axes>"
      ]
     },
     "metadata": {
      "needs_background": "light"
     },
     "output_type": "display_data"
    }
   ],
   "source": [
    "# Draw a histogram to check the frequency of the socialSupport_appreciation column \n",
    "plt.hist(Cervical_Cancer['socialSupport_appreciation'],bins=8,color='#996600',alpha=0.8)\n",
    "plt.title('The socialSupport_appreciation information in the Cervical_Cancer data set',fontsize=14)\n",
    "plt.xlabel('socialSupport_appreciation',fontsize=12)\n",
    "plt.ylabel('Frequency',fontsize=12)\n",
    "plt.xticks(np.arange(min(Cervical_Cancer['socialSupport_appreciation'])-1,max(Cervical_Cancer['socialSupport_appreciation'])+1))\n",
    "plt.grid(axis=\"y\",ls=\"--\")\n",
    "plt.show()"
   ]
  },
  {
   "cell_type": "code",
   "execution_count": 100,
   "metadata": {},
   "outputs": [
    {
     "data": {
      "text/html": [
       "<div>\n",
       "<style scoped>\n",
       "    .dataframe tbody tr th:only-of-type {\n",
       "        vertical-align: middle;\n",
       "    }\n",
       "\n",
       "    .dataframe tbody tr th {\n",
       "        vertical-align: top;\n",
       "    }\n",
       "\n",
       "    .dataframe thead th {\n",
       "        text-align: right;\n",
       "    }\n",
       "</style>\n",
       "<table border=\"1\" class=\"dataframe\">\n",
       "  <thead>\n",
       "    <tr style=\"text-align: right;\">\n",
       "      <th></th>\n",
       "      <th>socialSupport_instrumental</th>\n",
       "    </tr>\n",
       "  </thead>\n",
       "  <tbody>\n",
       "    <tr>\n",
       "      <th>count</th>\n",
       "      <td>72.000</td>\n",
       "    </tr>\n",
       "    <tr>\n",
       "      <th>mean</th>\n",
       "      <td>10.375</td>\n",
       "    </tr>\n",
       "    <tr>\n",
       "      <th>std</th>\n",
       "      <td>4.316</td>\n",
       "    </tr>\n",
       "    <tr>\n",
       "      <th>min</th>\n",
       "      <td>3.000</td>\n",
       "    </tr>\n",
       "    <tr>\n",
       "      <th>25%</th>\n",
       "      <td>6.750</td>\n",
       "    </tr>\n",
       "    <tr>\n",
       "      <th>50%</th>\n",
       "      <td>12.000</td>\n",
       "    </tr>\n",
       "    <tr>\n",
       "      <th>75%</th>\n",
       "      <td>14.250</td>\n",
       "    </tr>\n",
       "    <tr>\n",
       "      <th>max</th>\n",
       "      <td>15.000</td>\n",
       "    </tr>\n",
       "  </tbody>\n",
       "</table>\n",
       "</div>"
      ],
      "text/plain": [
       "       socialSupport_instrumental\n",
       "count                      72.000\n",
       "mean                       10.375\n",
       "std                         4.316\n",
       "min                         3.000\n",
       "25%                         6.750\n",
       "50%                        12.000\n",
       "75%                        14.250\n",
       "max                        15.000"
      ]
     },
     "execution_count": 100,
     "metadata": {},
     "output_type": "execute_result"
    }
   ],
   "source": [
    "# Explore the socialSupport_instrumental column\n",
    "# Make the descriptive statistics for socialSupport_instrumental column that given a name as Cervical_Cancer_instrumental\n",
    "Cervical_Cancer_instrumental=Cervical_Cancer['socialSupport_instrumental'].describe().round(3)\n",
    "# Create a data frame to show the specific statistics for Cervical_Cancer_instrumental\n",
    "pd.DataFrame(Cervical_Cancer_instrumental)"
   ]
  },
  {
   "cell_type": "code",
   "execution_count": 101,
   "metadata": {},
   "outputs": [
    {
     "data": {
      "image/png": "[encoded data removed]",
      "text/plain": [
       "<Figure size 432x288 with 1 Axes>"
      ]
     },
     "metadata": {
      "needs_background": "light"
     },
     "output_type": "display_data"
    }
   ],
   "source": [
    "# Draw a histogram to check the frequency of the socialSupport_instrumental column \n",
    "plt.hist(Cervical_Cancer['socialSupport_instrumental'],bins=12,color='#669999',alpha=0.8)\n",
    "plt.title('The socialSupport_instrumental information in the Cervical_Cancer data set',fontsize=14)\n",
    "plt.xlabel('socialSupport_instrumental',fontsize=12)\n",
    "plt.ylabel('Frequency',fontsize=12)\n",
    "plt.xticks(np.arange(min(Cervical_Cancer['socialSupport_instrumental'])-1,max(Cervical_Cancer['socialSupport_instrumental'])+1))\n",
    "plt.grid(axis=\"y\",ls=\"--\")\n",
    "plt.show()"
   ]
  },
  {
   "cell_type": "code",
   "execution_count": 102,
   "metadata": {},
   "outputs": [
    {
     "data": {
      "text/html": [
       "<div>\n",
       "<style scoped>\n",
       "    .dataframe tbody tr th:only-of-type {\n",
       "        vertical-align: middle;\n",
       "    }\n",
       "\n",
       "    .dataframe tbody tr th {\n",
       "        vertical-align: top;\n",
       "    }\n",
       "\n",
       "    .dataframe thead th {\n",
       "        text-align: right;\n",
       "    }\n",
       "</style>\n",
       "<table border=\"1\" class=\"dataframe\">\n",
       "  <thead>\n",
       "    <tr style=\"text-align: right;\">\n",
       "      <th></th>\n",
       "      <th>empowerment_knowledge</th>\n",
       "    </tr>\n",
       "  </thead>\n",
       "  <tbody>\n",
       "    <tr>\n",
       "      <th>count</th>\n",
       "      <td>72.000</td>\n",
       "    </tr>\n",
       "    <tr>\n",
       "      <th>mean</th>\n",
       "      <td>10.542</td>\n",
       "    </tr>\n",
       "    <tr>\n",
       "      <th>std</th>\n",
       "      <td>4.367</td>\n",
       "    </tr>\n",
       "    <tr>\n",
       "      <th>min</th>\n",
       "      <td>3.000</td>\n",
       "    </tr>\n",
       "    <tr>\n",
       "      <th>25%</th>\n",
       "      <td>7.000</td>\n",
       "    </tr>\n",
       "    <tr>\n",
       "      <th>50%</th>\n",
       "      <td>12.000</td>\n",
       "    </tr>\n",
       "    <tr>\n",
       "      <th>75%</th>\n",
       "      <td>15.000</td>\n",
       "    </tr>\n",
       "    <tr>\n",
       "      <th>max</th>\n",
       "      <td>15.000</td>\n",
       "    </tr>\n",
       "  </tbody>\n",
       "</table>\n",
       "</div>"
      ],
      "text/plain": [
       "       empowerment_knowledge\n",
       "count                 72.000\n",
       "mean                  10.542\n",
       "std                    4.367\n",
       "min                    3.000\n",
       "25%                    7.000\n",
       "50%                   12.000\n",
       "75%                   15.000\n",
       "max                   15.000"
      ]
     },
     "execution_count": 102,
     "metadata": {},
     "output_type": "execute_result"
    }
   ],
   "source": [
    "# Explore the empowerment_knowledge column\n",
    "# Make the descriptive statistics for empowerment_knowledge column that given a name as Cervical_Cancer_knowledge\n",
    "Cervical_Cancer_knowledge=Cervical_Cancer['empowerment_knowledge'].describe().round(3)\n",
    "# Create a data frame to show the specific statistics for Cervical_Cancer_knowledge\n",
    "pd.DataFrame(Cervical_Cancer_knowledge)"
   ]
  },
  {
   "cell_type": "code",
   "execution_count": 103,
   "metadata": {},
   "outputs": [
    {
     "data": {
      "image/png": "[encoded data removed]",
      "text/plain": [
       "<Figure size 432x288 with 1 Axes>"
      ]
     },
     "metadata": {
      "needs_background": "light"
     },
     "output_type": "display_data"
    }
   ],
   "source": [
    "# Draw a histogram to check the frequency of the empowerment_knowledge column \n",
    "plt.hist(Cervical_Cancer['empowerment_knowledge'],bins=12,color='#0099cc',alpha=0.8)\n",
    "plt.title('The empowerment_knowledge information in the Cervical_Cancer data set',fontsize=14)\n",
    "plt.xlabel('empowerment_knowledge',fontsize=12)\n",
    "plt.ylabel('Frequency',fontsize=12)\n",
    "plt.xticks(np.arange(min(Cervical_Cancer['empowerment_knowledge'])-1,max(Cervical_Cancer['empowerment_knowledge'])+1))\n",
    "plt.grid(axis=\"y\",ls=\"--\")\n",
    "plt.show()"
   ]
  },
  {
   "cell_type": "code",
   "execution_count": 104,
   "metadata": {},
   "outputs": [
    {
     "data": {
      "text/html": [
       "<div>\n",
       "<style scoped>\n",
       "    .dataframe tbody tr th:only-of-type {\n",
       "        vertical-align: middle;\n",
       "    }\n",
       "\n",
       "    .dataframe tbody tr th {\n",
       "        vertical-align: top;\n",
       "    }\n",
       "\n",
       "    .dataframe thead th {\n",
       "        text-align: right;\n",
       "    }\n",
       "</style>\n",
       "<table border=\"1\" class=\"dataframe\">\n",
       "  <thead>\n",
       "    <tr style=\"text-align: right;\">\n",
       "      <th></th>\n",
       "      <th>empowerment_abilities</th>\n",
       "    </tr>\n",
       "  </thead>\n",
       "  <tbody>\n",
       "    <tr>\n",
       "      <th>count</th>\n",
       "      <td>72.000</td>\n",
       "    </tr>\n",
       "    <tr>\n",
       "      <th>mean</th>\n",
       "      <td>9.319</td>\n",
       "    </tr>\n",
       "    <tr>\n",
       "      <th>std</th>\n",
       "      <td>4.182</td>\n",
       "    </tr>\n",
       "    <tr>\n",
       "      <th>min</th>\n",
       "      <td>3.000</td>\n",
       "    </tr>\n",
       "    <tr>\n",
       "      <th>25%</th>\n",
       "      <td>5.000</td>\n",
       "    </tr>\n",
       "    <tr>\n",
       "      <th>50%</th>\n",
       "      <td>10.000</td>\n",
       "    </tr>\n",
       "    <tr>\n",
       "      <th>75%</th>\n",
       "      <td>13.000</td>\n",
       "    </tr>\n",
       "    <tr>\n",
       "      <th>max</th>\n",
       "      <td>15.000</td>\n",
       "    </tr>\n",
       "  </tbody>\n",
       "</table>\n",
       "</div>"
      ],
      "text/plain": [
       "       empowerment_abilities\n",
       "count                 72.000\n",
       "mean                   9.319\n",
       "std                    4.182\n",
       "min                    3.000\n",
       "25%                    5.000\n",
       "50%                   10.000\n",
       "75%                   13.000\n",
       "max                   15.000"
      ]
     },
     "execution_count": 104,
     "metadata": {},
     "output_type": "execute_result"
    }
   ],
   "source": [
    "# Explore the empowerment_abilities column\n",
    "# Make the descriptive statistics for empowerment_abilities column that given a name as Cervical_Cancer_abilities\n",
    "Cervical_Cancer_abilities=Cervical_Cancer['empowerment_abilities'].describe().round(3)\n",
    "# Create a data frame to show the specific statistics for Cervical_Cancer_abilities\n",
    "pd.DataFrame(Cervical_Cancer_abilities)"
   ]
  },
  {
   "cell_type": "code",
   "execution_count": 105,
   "metadata": {},
   "outputs": [
    {
     "data": {
      "image/png": "[encoded data removed]",
      "text/plain": [
       "<Figure size 432x288 with 1 Axes>"
      ]
     },
     "metadata": {
      "needs_background": "light"
     },
     "output_type": "display_data"
    }
   ],
   "source": [
    "# Draw a histogram to check the frequency of the empowerment_abilities column \n",
    "plt.hist(Cervical_Cancer['empowerment_abilities'],bins=12,color='#336699',alpha=0.8)\n",
    "plt.title('The empowerment_abilities information in the Cervical_Cancer data set',fontsize=14)\n",
    "plt.xlabel('empowerment_abilities',fontsize=12)\n",
    "plt.ylabel('Frequency',fontsize=12)\n",
    "plt.xticks(np.arange(min(Cervical_Cancer['empowerment_abilities'])-1,max(Cervical_Cancer['empowerment_abilities'])+1))\n",
    "plt.grid(axis=\"y\",ls=\"--\")\n",
    "plt.show()"
   ]
  },
  {
   "cell_type": "code",
   "execution_count": 106,
   "metadata": {},
   "outputs": [
    {
     "data": {
      "text/html": [
       "<div>\n",
       "<style scoped>\n",
       "    .dataframe tbody tr th:only-of-type {\n",
       "        vertical-align: middle;\n",
       "    }\n",
       "\n",
       "    .dataframe tbody tr th {\n",
       "        vertical-align: top;\n",
       "    }\n",
       "\n",
       "    .dataframe thead th {\n",
       "        text-align: right;\n",
       "    }\n",
       "</style>\n",
       "<table border=\"1\" class=\"dataframe\">\n",
       "  <thead>\n",
       "    <tr style=\"text-align: right;\">\n",
       "      <th></th>\n",
       "      <th>empowerment_desires</th>\n",
       "    </tr>\n",
       "  </thead>\n",
       "  <tbody>\n",
       "    <tr>\n",
       "      <th>count</th>\n",
       "      <td>72.000</td>\n",
       "    </tr>\n",
       "    <tr>\n",
       "      <th>mean</th>\n",
       "      <td>10.278</td>\n",
       "    </tr>\n",
       "    <tr>\n",
       "      <th>std</th>\n",
       "      <td>4.482</td>\n",
       "    </tr>\n",
       "    <tr>\n",
       "      <th>min</th>\n",
       "      <td>3.000</td>\n",
       "    </tr>\n",
       "    <tr>\n",
       "      <th>25%</th>\n",
       "      <td>6.750</td>\n",
       "    </tr>\n",
       "    <tr>\n",
       "      <th>50%</th>\n",
       "      <td>11.000</td>\n",
       "    </tr>\n",
       "    <tr>\n",
       "      <th>75%</th>\n",
       "      <td>15.000</td>\n",
       "    </tr>\n",
       "    <tr>\n",
       "      <th>max</th>\n",
       "      <td>15.000</td>\n",
       "    </tr>\n",
       "  </tbody>\n",
       "</table>\n",
       "</div>"
      ],
      "text/plain": [
       "       empowerment_desires\n",
       "count               72.000\n",
       "mean                10.278\n",
       "std                  4.482\n",
       "min                  3.000\n",
       "25%                  6.750\n",
       "50%                 11.000\n",
       "75%                 15.000\n",
       "max                 15.000"
      ]
     },
     "execution_count": 106,
     "metadata": {},
     "output_type": "execute_result"
    }
   ],
   "source": [
    "# Explore the empowerment_desires column\n",
    "# Make the descriptive statistics for empowerment_desires column that given a name as Cervical_Cancer_desires\n",
    "Cervical_Cancer_desires=Cervical_Cancer['empowerment_desires'].describe().round(3)\n",
    "# Create a data frame to show the specific statistics for Cervical_Cancer_abilities\n",
    "pd.DataFrame(Cervical_Cancer_desires)"
   ]
  },
  {
   "cell_type": "code",
   "execution_count": 107,
   "metadata": {},
   "outputs": [
    {
     "data": {
      "image/png": "[encoded data removed]",
      "text/plain": [
       "<Figure size 432x288 with 1 Axes>"
      ]
     },
     "metadata": {
      "needs_background": "light"
     },
     "output_type": "display_data"
    }
   ],
   "source": [
    "# Draw a histogram to check the frequency of the empowerment_desires column \n",
    "plt.hist(Cervical_Cancer['empowerment_desires'],bins=12,color='#ff5050',alpha=0.8)\n",
    "plt.title('The empowerment_desires information in the Cervical_Cancer data set',fontsize=14)\n",
    "plt.xlabel('empowerment_desires',fontsize=12)\n",
    "plt.ylabel('Frequency',fontsize=12)\n",
    "plt.xticks(np.arange(min(Cervical_Cancer['empowerment_desires'])-1,max(Cervical_Cancer['empowerment_desires'])+1))\n",
    "plt.grid(axis=\"y\",ls=\"--\")\n",
    "plt.show()"
   ]
  },
  {
   "cell_type": "code",
   "execution_count": 108,
   "metadata": {},
   "outputs": [
    {
     "data": {
      "text/plain": [
       "51"
      ]
     },
     "execution_count": 108,
     "metadata": {},
     "output_type": "execute_result"
    }
   ],
   "source": [
    "# Explore the ca_cervix column\n",
    "# How many no cervical cancer in the Cervical_Cancer data set\n",
    "Cervical_Cancer_ca_cervix_Not=len(Cervical_Cancer[(Cervical_Cancer.ca_cervix==0)])\n",
    "Cervical_Cancer_ca_cervix_Not"
   ]
  },
  {
   "cell_type": "code",
   "execution_count": 109,
   "metadata": {},
   "outputs": [
    {
     "data": {
      "text/plain": [
       "21"
      ]
     },
     "execution_count": 109,
     "metadata": {},
     "output_type": "execute_result"
    }
   ],
   "source": [
    "# How many cervical cancer in the Cervical_Cancer data set\n",
    "Cervical_Cancer_ca_cervix=len(Cervical_Cancer[(Cervical_Cancer.ca_cervix==1)])\n",
    "Cervical_Cancer_ca_cervix"
   ]
  },
  {
   "cell_type": "code",
   "execution_count": 110,
   "metadata": {
    "scrolled": true
   },
   "outputs": [
    {
     "data": {
      "image/png": "[encoded data removed]",
      "text/plain": [
       "<Figure size 432x288 with 1 Axes>"
      ]
     },
     "metadata": {
      "needs_background": "light"
     },
     "output_type": "display_data"
    }
   ],
   "source": [
    "# Draw a bar chart to analyse the ca_cervix column\n",
    "Cervical_Cancer['ca_cervix'].value_counts().plot(kind='bar',width=0.4,align='center',color=['#da70d6','#00bfff'])\n",
    "plt.xticks(fontsize=8,rotation=0)\n",
    "plt.title('The ca_cervix information in the Cervical_Cancer data set',fontsize=14)\n",
    "plt.xlabel('Types of the ca_cervix',fontsize=12)\n",
    "plt.ylabel('No. of persons',fontsize=12)\n",
    "plt.xticks([0,1],['0: Not cervical cancer','1:Cervical cancer'])\n",
    "plt.show()"
   ]
  },
  {
   "cell_type": "markdown",
   "metadata": {},
   "source": [
    "### Task 2-2: Exploring the relationship between the ca_cervix and other variables in the data set"
   ]
  },
  {
   "cell_type": "code",
   "execution_count": 111,
   "metadata": {
    "scrolled": true
   },
   "outputs": [
    {
     "data": {
      "image/png": "[encoded data removed]",
      "text/plain": [
       "<Figure size 432x288 with 1 Axes>"
      ]
     },
     "metadata": {
      "needs_background": "light"
     },
     "output_type": "display_data"
    }
   ],
   "source": [
    "# Draw a boxplot to find out the relationship between the behavior_eating and ca_cervix\n",
    "Cervical_Cancer.boxplot(column='behavior_eating',by='ca_cervix',patch_artist=True,boxprops={'color':'#8000FF','facecolor':'#edddb9'})\n",
    "plt.suptitle('')\n",
    "plt.title('The relationship between the behavior_eating and the different types of ca_cervix', fontsize=16, fontweight='medium',color='#2952a3')\n",
    "plt.xticks([1,2],['0: Not cervical cancer','1:Cervical cancer'])\n",
    "plt.ylabel('No. of behavior_eating')\n",
    "plt.xlabel('Types of the ca_cervix')\n",
    "plt.grid(axis=\"y\",ls=\"\")\n",
    "plt.show()"
   ]
  },
  {
   "cell_type": "code",
   "execution_count": 112,
   "metadata": {
    "scrolled": false
   },
   "outputs": [
    {
     "data": {
      "image/png": "[encoded data removed]",
      "text/plain": [
       "<Figure size 432x288 with 1 Axes>"
      ]
     },
     "metadata": {
      "needs_background": "light"
     },
     "output_type": "display_data"
    }
   ],
   "source": [
    "# Draw a boxplot to find out the relationship between the behavior_personalHygine and ca_cervix\n",
    "Cervical_Cancer.boxplot(column='behavior_personalHygine',by='ca_cervix',patch_artist=True,boxprops={'color':'orangered','facecolor':'pink'})\n",
    "plt.suptitle('')\n",
    "plt.title('The relationship between the behavior_personalHygine and the different types of ca_cervix', fontsize=16, fontweight='medium',color='#2952a3')\n",
    "plt.xticks([1,2],['0: Not cervical cancer','1:Cervical cancer'])\n",
    "plt.ylabel('No. of behavior_personalHygine')\n",
    "plt.xlabel('Types of the ca_cervix')\n",
    "plt.grid(axis=\"y\",ls=\"\")\n",
    "plt.show()"
   ]
  },
  {
   "cell_type": "code",
   "execution_count": 113,
   "metadata": {
    "scrolled": true
   },
   "outputs": [
    {
     "data": {
      "image/png": "[encoded data removed]",
      "text/plain": [
       "<Figure size 432x288 with 1 Axes>"
      ]
     },
     "metadata": {
      "needs_background": "light"
     },
     "output_type": "display_data"
    }
   ],
   "source": [
    "# Draw a boxplot to find out the relationship between the intention_aggregation and ca_cervix\n",
    "Cervical_Cancer.boxplot(column='intention_aggregation',by='ca_cervix',patch_artist=True,boxprops={'color':'black','facecolor':'#F6D3E8'})\n",
    "plt.suptitle('')\n",
    "plt.title('The relationship between the intention_aggregation and the different types of ca_cervix', fontsize=16, fontweight='medium',color='#2952a3')\n",
    "plt.xticks([1,2],['0: Not cervical cancer','1:Cervical cancer'])\n",
    "plt.ylabel('No. of intention_aggregation')\n",
    "plt.xlabel('Types of the ca_cervix')\n",
    "plt.grid(axis=\"y\",ls=\"\")\n",
    "plt.show()"
   ]
  },
  {
   "cell_type": "code",
   "execution_count": 114,
   "metadata": {},
   "outputs": [
    {
     "data": {
      "image/png": "[encoded data removed]",
      "text/plain": [
       "<Figure size 432x288 with 1 Axes>"
      ]
     },
     "metadata": {
      "needs_background": "light"
     },
     "output_type": "display_data"
    }
   ],
   "source": [
    "# Draw a boxplot to find out the relationship between the attitude_consistency and ca_cervix\n",
    "Cervical_Cancer.boxplot(column='attitude_consistency',by='ca_cervix',patch_artist=True,boxprops={'color':'#8000FF','facecolor':'#edddb9'})\n",
    "plt.suptitle('')\n",
    "plt.title('The relationship between the attitude_consistency and the different types of ca_cervix', fontsize=16, fontweight='medium',color='#2952a3')\n",
    "plt.xticks([1,2],['0: Not cervical cancer','1:Cervical cancer'])\n",
    "plt.ylabel('No. of attitude_consistency')\n",
    "plt.xlabel('Types of the ca_cervix')\n",
    "plt.grid(axis=\"y\",ls=\"\")\n",
    "plt.show()"
   ]
  },
  {
   "cell_type": "code",
   "execution_count": 115,
   "metadata": {},
   "outputs": [
    {
     "data": {
      "image/png": "[encoded data removed]",
      "text/plain": [
       "<Figure size 432x288 with 1 Axes>"
      ]
     },
     "metadata": {
      "needs_background": "light"
     },
     "output_type": "display_data"
    }
   ],
   "source": [
    "# Draw a boxplot to find out the relationship between the attitude_spontaneity and ca_cervix\n",
    "Cervical_Cancer.boxplot(column='attitude_spontaneity',by='ca_cervix',patch_artist=True,boxprops={'color':'white','facecolor':'#ffcc00'})\n",
    "plt.suptitle('')\n",
    "plt.title('The relationship between the attitude_spontaneity and the different types of ca_cervix', fontsize=16, fontweight='medium',color='#2952a3')\n",
    "plt.xticks([1,2],['0: Not cervical cancer','1:Cervical cancer'])\n",
    "plt.ylabel('No. of attitude_spontaneity')\n",
    "plt.xlabel('Types of the ca_cervix')\n",
    "plt.grid(axis=\"y\",ls=\"\")\n",
    "plt.show()"
   ]
  },
  {
   "cell_type": "code",
   "execution_count": 116,
   "metadata": {},
   "outputs": [
    {
     "data": {
      "image/png": "[encoded data removed]",
      "text/plain": [
       "<Figure size 432x288 with 1 Axes>"
      ]
     },
     "metadata": {
      "needs_background": "light"
     },
     "output_type": "display_data"
    }
   ],
   "source": [
    "# Draw a boxplot to find out the relationship between the norm_fulfillment and ca_cervix\n",
    "Cervical_Cancer.boxplot(column='norm_fulfillment',by='ca_cervix',patch_artist=True,boxprops={'color':'#8000FF','facecolor':'#edddb9'})\n",
    "plt.suptitle('')\n",
    "plt.title('The relationship between the norm_fulfillment and the different types of ca_cervix', fontsize=16, fontweight='medium',color='#2952a3')\n",
    "plt.xticks([1,2],['0: Not cervical cancer','1:Cervical cancer'])\n",
    "plt.ylabel('No. of norm_fulfillment')\n",
    "plt.xlabel('Types of the ca_cervix')\n",
    "plt.grid(axis=\"y\",ls=\"\")\n",
    "plt.show()"
   ]
  },
  {
   "cell_type": "code",
   "execution_count": 117,
   "metadata": {},
   "outputs": [
    {
     "data": {
      "image/png": "[encoded data removed]",
      "text/plain": [
       "<Figure size 432x288 with 1 Axes>"
      ]
     },
     "metadata": {
      "needs_background": "light"
     },
     "output_type": "display_data"
    }
   ],
   "source": [
    "# Draw a boxplot to find out the relationship between the perception_vulnerability and ca_cervix\n",
    "Cervical_Cancer.boxplot(column='perception_vulnerability',by='ca_cervix',patch_artist=True,boxprops={'color':'orangered','facecolor':'pink'})\n",
    "plt.suptitle('')\n",
    "plt.title('The relationship between the perception_vulnerability and the different types of ca_cervix', fontsize=16, fontweight='medium',color='#2952a3')\n",
    "plt.xticks([1,2],['0: Not cervical cancer','1:Cervical cancer'])\n",
    "plt.ylabel('No. of perception_vulnerability')\n",
    "plt.xlabel('Types of the ca_cervix')\n",
    "plt.grid(axis=\"y\",ls=\"\")\n",
    "plt.show()"
   ]
  },
  {
   "cell_type": "code",
   "execution_count": 118,
   "metadata": {},
   "outputs": [
    {
     "data": {
      "image/png": "[encoded data removed]",
      "text/plain": [
       "<Figure size 432x288 with 1 Axes>"
      ]
     },
     "metadata": {
      "needs_background": "light"
     },
     "output_type": "display_data"
    }
   ],
   "source": [
    "# Draw a boxplot to find out the relationship between the motivation_strength and ca_cervix\n",
    "Cervical_Cancer.boxplot(column='motivation_strength',by='ca_cervix',patch_artist=True,boxprops={'color':'#8000FF','facecolor':'#edddb9'})\n",
    "plt.suptitle('')\n",
    "plt.title('The relationship between the motivation_strength and the different types of ca_cervix', fontsize=16, fontweight='medium',color='#2952a3')\n",
    "plt.xticks([1,2],['0: Not cervical cancer','1:Cervical cancer'])\n",
    "plt.ylabel('No. of motivation_strength')\n",
    "plt.xlabel('Types of the ca_cervix')\n",
    "plt.grid(axis=\"y\",ls=\"\")\n",
    "plt.show()"
   ]
  },
  {
   "cell_type": "code",
   "execution_count": 119,
   "metadata": {},
   "outputs": [
    {
     "data": {
      "image/png": "[encoded data removed]",
      "text/plain": [
       "<Figure size 432x288 with 1 Axes>"
      ]
     },
     "metadata": {
      "needs_background": "light"
     },
     "output_type": "display_data"
    }
   ],
   "source": [
    "# Draw a boxplot to find out the relationship between the motivation_willingness and ca_cervix\n",
    "Cervical_Cancer.boxplot(column='motivation_willingness',by='ca_cervix',patch_artist=True,boxprops={'color':'black','facecolor':'#F6D3E8'})\n",
    "plt.suptitle('')\n",
    "plt.title('The relationship between the motivation_willingness and the different types of ca_cervix', fontsize=16, fontweight='medium',color='#2952a3')\n",
    "plt.xticks([1,2],['0: Not cervical cancer','1:Cervical cancer'])\n",
    "plt.ylabel('No. of motivation_willingness')\n",
    "plt.xlabel('Types of the ca_cervix')\n",
    "plt.grid(axis=\"y\",ls=\"\")\n",
    "plt.show()"
   ]
  },
  {
   "cell_type": "code",
   "execution_count": 120,
   "metadata": {},
   "outputs": [
    {
     "data": {
      "image/png": "[encoded data removed]",
      "text/plain": [
       "<Figure size 432x288 with 1 Axes>"
      ]
     },
     "metadata": {
      "needs_background": "light"
     },
     "output_type": "display_data"
    }
   ],
   "source": [
    "# Draw a boxplot to find out the relationship between the socialSupport_emotionality and ca_cervix\n",
    "Cervical_Cancer.boxplot(column='socialSupport_emotionality',by='ca_cervix',patch_artist=True,boxprops={'color':'orangered','facecolor':'pink'})\n",
    "plt.suptitle('')\n",
    "plt.title('The relationship between the socialSupport_emotionality and the different types of ca_cervix', fontsize=16, fontweight='medium',color='#2952a3')\n",
    "plt.xticks([1,2],['0: Not cervical cancer','1:Cervical cancer'])\n",
    "plt.ylabel('No. of socialSupport_emotionality')\n",
    "plt.xlabel('Types of the ca_cervix')\n",
    "plt.grid(axis=\"y\",ls=\"\")\n",
    "plt.show()"
   ]
  },
  {
   "cell_type": "code",
   "execution_count": 121,
   "metadata": {},
   "outputs": [
    {
     "data": {
      "image/png": "[encoded data removed]",
      "text/plain": [
       "<Figure size 432x288 with 1 Axes>"
      ]
     },
     "metadata": {
      "needs_background": "light"
     },
     "output_type": "display_data"
    }
   ],
   "source": [
    "# Draw a boxplot to find out the relationship between the socialSupport_appreciation and ca_cervix\n",
    "Cervical_Cancer.boxplot(column='socialSupport_appreciation',by='ca_cervix',patch_artist=True,boxprops={'color':'orangered','facecolor':'pink'})\n",
    "plt.suptitle('')\n",
    "plt.title('The relationship between the socialSupport_appreciation and the different types of ca_cervix', fontsize=16, fontweight='medium',color='#2952a3')\n",
    "plt.xticks([1,2],['0: Not cervical cancer','1:Cervical cancer'])\n",
    "plt.ylabel('No. of socialSupport_appreciation')\n",
    "plt.xlabel('Types of the ca_cervix')\n",
    "plt.grid(axis=\"y\",ls=\"\")\n",
    "plt.show()"
   ]
  },
  {
   "cell_type": "code",
   "execution_count": 122,
   "metadata": {},
   "outputs": [
    {
     "data": {
      "image/png": "[encoded data removed]",
      "text/plain": [
       "<Figure size 432x288 with 1 Axes>"
      ]
     },
     "metadata": {
      "needs_background": "light"
     },
     "output_type": "display_data"
    }
   ],
   "source": [
    "# Draw a boxplot to find out the relationship between the socialSupport_instrumental and ca_cervix\n",
    "Cervical_Cancer.boxplot(column='socialSupport_instrumental',by='ca_cervix',patch_artist=True,boxprops={'color':'#8000FF','facecolor':'#edddb9'})\n",
    "plt.suptitle('')\n",
    "plt.title('The relationship between the socialSupport_instrumental and the different types of ca_cervix', fontsize=16, fontweight='medium',color='#2952a3')\n",
    "plt.xticks([1,2],['0: Not cervical cancer','1:Cervical cancer'])\n",
    "plt.ylabel('No. of socialSupport_instrumental')\n",
    "plt.xlabel('Types of the ca_cervix')\n",
    "plt.grid(axis=\"y\",ls=\"\")\n",
    "plt.show()"
   ]
  },
  {
   "cell_type": "code",
   "execution_count": 123,
   "metadata": {},
   "outputs": [
    {
     "data": {
      "image/png": "[encoded data removed]",
      "text/plain": [
       "<Figure size 432x288 with 1 Axes>"
      ]
     },
     "metadata": {
      "needs_background": "light"
     },
     "output_type": "display_data"
    }
   ],
   "source": [
    "# Draw a boxplot to find out the relationship between the empowerment_knowledge and ca_cervix\n",
    "Cervical_Cancer.boxplot(column='empowerment_knowledge',by='ca_cervix',patch_artist=True,boxprops={'color':'black','facecolor':'#F6D3E8'})\n",
    "plt.suptitle('')\n",
    "plt.title('The relationship between the empowerment_knowledge and the different types of ca_cervix', fontsize=16, fontweight='medium',color='#2952a3')\n",
    "plt.xticks([1,2],['0: Not cervical cancer','1:Cervical cancer'])\n",
    "plt.ylabel('No. of empowerment_knowledge')\n",
    "plt.xlabel('Types of the ca_cervix')\n",
    "plt.grid(axis=\"y\",ls=\"\")\n",
    "plt.show()"
   ]
  },
  {
   "cell_type": "code",
   "execution_count": 124,
   "metadata": {},
   "outputs": [
    {
     "data": {
      "image/png": "[encoded data removed]",
      "text/plain": [
       "<Figure size 432x288 with 1 Axes>"
      ]
     },
     "metadata": {
      "needs_background": "light"
     },
     "output_type": "display_data"
    }
   ],
   "source": [
    "# Draw a boxplot to find out the relationship between the empowerment_abilities and ca_cervix\n",
    "Cervical_Cancer.boxplot(column='empowerment_abilities',by='ca_cervix',patch_artist=True,boxprops={'color':'orangered','facecolor':'pink'})\n",
    "plt.suptitle('')\n",
    "plt.title('The relationship between the empowerment_abilities and the different types of ca_cervix', fontsize=16, fontweight='medium',color='#2952a3')\n",
    "plt.xticks([1,2],['0: Not cervical cancer','1:Cervical cancer'])\n",
    "plt.ylabel('No. of empowerment_abilities')\n",
    "plt.xlabel('Types of the ca_cervix')\n",
    "plt.grid(axis=\"y\",ls=\"\")\n",
    "plt.show()"
   ]
  },
  {
   "cell_type": "code",
   "execution_count": 125,
   "metadata": {
    "scrolled": true
   },
   "outputs": [
    {
     "data": {
      "image/png": "[encoded data removed]",
      "text/plain": [
       "<Figure size 432x288 with 1 Axes>"
      ]
     },
     "metadata": {
      "needs_background": "light"
     },
     "output_type": "display_data"
    }
   ],
   "source": [
    "# Draw a boxplot to find out the relationship between the empowerment_desires and ca_cervix\n",
    "Cervical_Cancer.boxplot(column='empowerment_desires',by='ca_cervix',patch_artist=True,boxprops={'color':'#8000FF','facecolor':'#edddb9'})\n",
    "plt.suptitle('')\n",
    "plt.title('The relationship between the empowerment_desires and the different types of ca_cervix', fontsize=16, fontweight='medium',color='#2952a3')\n",
    "plt.xticks([1,2],['0: Not cervical cancer','1:Cervical cancer'])\n",
    "plt.ylabel('No. of empowerment_desires')\n",
    "plt.xlabel('Types of the ca_cervix')\n",
    "plt.grid(axis=\"y\",ls=\"\")\n",
    "plt.show()"
   ]
  },
  {
   "cell_type": "markdown",
   "metadata": {},
   "source": [
    "# Task 3: Data modelling\n",
    "1. Train two classifiers, which are k-Nearest Neighbors and Decision Tree\n",
    "2. Evaluate their performance and compared them"
   ]
  },
  {
   "cell_type": "code",
   "execution_count": 126,
   "metadata": {},
   "outputs": [],
   "source": [
    "# import the library\n",
    "from sklearn.model_selection import train_test_split\n",
    "from sklearn.neighbors import KNeighborsClassifier\n",
    "from sklearn.tree import DecisionTreeClassifier\n",
    "from sklearn.metrics import confusion_matrix\n",
    "from sklearn.metrics import classification_report\n",
    "from sklearn.utils import shuffle"
   ]
  },
  {
   "cell_type": "markdown",
   "metadata": {},
   "source": [
    "### 3.1 train the k-Nearest Neighbors classifier with different k value and weight"
   ]
  },
  {
   "cell_type": "code",
   "execution_count": 127,
   "metadata": {},
   "outputs": [
    {
     "name": "stdout",
     "output_type": "stream",
     "text": [
      "Average accuracy:\n",
      "[0.9444444444444444, 0.9388888888888889, 0.9333333333333333, 0.9222222222222222, 0.9333333333333333]\n"
     ]
    }
   ],
   "source": [
    "# Feature selection and train the model of K Neighbors classifier with different k values(weight = 'uniform')\n",
    "X = Cervical_Cancer.iloc[:,0:19] # features\n",
    "Y = Cervical_Cancer.ca_cervix # labels\n",
    "fea_number = X.shape[1] # features number\n",
    "\n",
    "max_accuracy = 0.0 # accuracy of the classifier trained by the selected features\n",
    "random_fea_Ind = shuffle(range(0, fea_number), random_state = 1) # shuffle the order of the index of features\n",
    "accuracy_k = [] # for storing the average accuracy with different k value\n",
    "\n",
    "for i in range(3, 12, 2): # different k value\n",
    "    accuracy_set = [] # for storing the accuracy of the model performing in different training and testing data set\n",
    "    for j in range(1, 11): # different training and testing data set\n",
    "        max_accuracy = 0.0\n",
    "        select_fea_Ind = [] # for storing indices of features selected\n",
    "        for k in range(0, fea_number): # different features\n",
    "            select_fea_Ind.append(random_fea_Ind[k]) # add new feature to test if it can improve the accuracy of the classifier\n",
    "            newData = X.iloc[:, select_fea_Ind].copy()\n",
    "            X_train, X_test, Y_train, Y_test = train_test_split(newData, Y, random_state = j) # split the data set into train and test data set\n",
    "            clf = KNeighborsClassifier(n_neighbors= i) # define the classifier\n",
    "            fit = clf.fit(X_train, Y_train) # train the classifier\n",
    "            cur_accuracy = clf.score(X_test, Y_test) # current accuracy\n",
    "            if cur_accuracy < max_accuracy:\n",
    "                select_fea_Ind.remove(random_fea_Ind[k]) # remove the feature if it can decrease the accuracy\n",
    "            else:\n",
    "                max_accuracy = cur_accuracy\n",
    "        accuracy_set.append(max_accuracy)\n",
    "    accuracy_k.append(sum(accuracy_set) / 10)\n",
    "\n",
    "print(\"Average accuracy:\")\n",
    "print(list(accuracy_k))"
   ]
  },
  {
   "cell_type": "code",
   "execution_count": 128,
   "metadata": {},
   "outputs": [
    {
     "name": "stdout",
     "output_type": "stream",
     "text": [
      "Average accuracy:\n",
      "[0.9388888888888889, 0.9444444444444444, 0.9444444444444444, 0.9444444444444444, 0.9388888888888889]\n"
     ]
    }
   ],
   "source": [
    "# Feature selection and train the model of K Neighbors classifier with different k values(weight = 'distance')\n",
    "max_accuracy = 0.0 # accuracy of the classifier trained by the selected features\n",
    "random_fea_Ind = shuffle(range(0, fea_number), random_state = 1) # shuffle the order of the index of features\n",
    "accuracy_k = [] # for storing the average accuracy with different k value\n",
    "\n",
    "for i in range(3, 12, 2): # different k value\n",
    "    accuracy_set = [] # for storing the accuracy of the model performing in different training and testing data set\n",
    "    for j in range(1, 11): # different training and testing data set\n",
    "        max_accuracy = 0.0\n",
    "        select_fea_Ind = [] # for storing indices of features selected\n",
    "        for k in range(0, fea_number): # different features\n",
    "            select_fea_Ind.append(random_fea_Ind[k]) # add new feature to test if it can improve the accuracy of the classifier\n",
    "            newData = X.iloc[:, select_fea_Ind].copy()\n",
    "            X_train, X_test, Y_train, Y_test = train_test_split(newData, Y, random_state = j) # split the data set into train and test data set\n",
    "            clf = KNeighborsClassifier(n_neighbors= i, weights = 'distance') # define the classifier\n",
    "            fit = clf.fit(X_train, Y_train) # train the classifier\n",
    "            cur_accuracy = clf.score(X_test, Y_test) # current accuracy\n",
    "            if cur_accuracy < max_accuracy:\n",
    "                select_fea_Ind.remove(random_fea_Ind[k]) # remove the feature if it can decrease the accuracy\n",
    "            else:\n",
    "                max_accuracy = cur_accuracy\n",
    "        accuracy_set.append(max_accuracy)\n",
    "    accuracy_k.append(sum(accuracy_set) / 10)\n",
    "\n",
    "print(\"Average accuracy:\")\n",
    "print(list(accuracy_k))"
   ]
  },
  {
   "cell_type": "markdown",
   "metadata": {},
   "source": [
    "### 3.2 classification report of k-Nearest Neighbors classifier with specific k value and weight"
   ]
  },
  {
   "cell_type": "code",
   "execution_count": 129,
   "metadata": {},
   "outputs": [
    {
     "name": "stdout",
     "output_type": "stream",
     "text": [
      "              precision    recall  f1-score    support\n",
      "0              0.945806  0.977857  0.959909  13.000000\n",
      "1              0.940714  0.882381  0.901354   5.000000\n",
      "accuracy       0.944444  0.944444  0.944444   0.944444\n",
      "macro avg      0.943260  0.930119  0.930632  18.000000\n",
      "weighted avg   0.951675  0.944444  0.943873  18.000000\n"
     ]
    }
   ],
   "source": [
    "# Classification report of K Neighbors classifier with k = 3(weight = 'uniform')\n",
    "max_accuracy = 0.0 # accuracy of the classifier trained by the selected features\n",
    "random_fea_Ind = shuffle(range(0, fea_number), random_state = 1) # shuffle the order of the index of features\n",
    "report = {'precision':[0,0,0,0,0],'recall':[0,0,0,0,0],'f1-score':[0,0,0,0,0],'support':[0,0,0,0,0]} # for storing classification report\n",
    "report = pd.DataFrame(report)\n",
    "report.index = ['0','1','accuracy','macro avg','weighted avg']\n",
    "for i in range(1, 11): # different training and testing data set\n",
    "    max_accuracy = 0.0\n",
    "    select_fea_Ind = [] # for storing indices of features selected\n",
    "    \n",
    "    for j in range(0, fea_number): # different features\n",
    "        select_fea_Ind.append(random_fea_Ind[j]) # add new feature to test if it can improve the accuracy of the classifier\n",
    "        newData = X.iloc[:, select_fea_Ind].copy()\n",
    "        X_train, X_test, Y_train, Y_test = train_test_split(newData, Y, random_state = i) # split the data set into train and test data set\n",
    "        clf = KNeighborsClassifier(n_neighbors= 3) # define the classifier\n",
    "        fit = clf.fit(X_train, Y_train) # train the classifier\n",
    "        cur_accuracy = clf.score(X_test, Y_test) # current accuracy\n",
    "        if cur_accuracy < max_accuracy:\n",
    "            select_fea_Ind.remove(random_fea_Ind[j]) # remove the feature if it can decrease the accuracy\n",
    "        else:\n",
    "            max_accuracy = cur_accuracy\n",
    "        \n",
    "    # train the model with the selected features\n",
    "    newData = X.iloc[:, select_fea_Ind].copy()\n",
    "    X_train, X_test, Y_train, Y_test = train_test_split(newData, Y, random_state = i)\n",
    "    clf = KNeighborsClassifier(n_neighbors= 3)\n",
    "    fit = clf.fit(X_train, Y_train)\n",
    "    predicted = fit.predict(X_test)\n",
    "    temp_report = classification_report(Y_test, predicted, output_dict = True)\n",
    "    temp_report = pd.DataFrame(temp_report).transpose() # transform the type of the classification report into DataFrame\n",
    "    report = report + temp_report\n",
    "\n",
    "report = report / 10\n",
    "print(report)"
   ]
  },
  {
   "cell_type": "code",
   "execution_count": 130,
   "metadata": {},
   "outputs": [
    {
     "name": "stdout",
     "output_type": "stream",
     "text": [
      "              precision    recall  f1-score    support\n",
      "0              0.936598  0.981667  0.957896  13.000000\n",
      "1              0.969048  0.868095  0.912179   5.000000\n",
      "accuracy       0.944444  0.944444  0.944444   0.944444\n",
      "macro avg      0.952823  0.924881  0.935037  18.000000\n",
      "weighted avg   0.947565  0.944444  0.943175  18.000000\n"
     ]
    }
   ],
   "source": [
    "# Classification report of K Neighbors classifier with k = 5(weight = 'distance')\n",
    "max_accuracy = 0.0 # accuracy of the classifier trained by the selected features\n",
    "random_fea_Ind = shuffle(range(0, fea_number), random_state = 1) # shuffle the order of the index of features\n",
    "report = {'precision':[0,0,0,0,0],'recall':[0,0,0,0,0],'f1-score':[0,0,0,0,0],'support':[0,0,0,0,0]} # for storing classification report\n",
    "report = pd.DataFrame(report)\n",
    "report.index = ['0','1','accuracy','macro avg','weighted avg']\n",
    "for i in range(1, 11): # different training and testing data set\n",
    "    max_accuracy = 0.0\n",
    "    select_fea_Ind = [] # for storing indices of features selected\n",
    "    \n",
    "    for j in range(0, fea_number): # different features\n",
    "        select_fea_Ind.append(random_fea_Ind[j]) # add new feature to test if it can improve the accuracy of the classifier\n",
    "        newData = X.iloc[:, select_fea_Ind].copy()\n",
    "        X_train, X_test, Y_train, Y_test = train_test_split(newData, Y, random_state = i) # split the data set into train and test data set\n",
    "        clf = KNeighborsClassifier(n_neighbors= 5, weights = 'distance') # define the classifier\n",
    "        fit = clf.fit(X_train, Y_train) # train the classifier\n",
    "        cur_accuracy = clf.score(X_test, Y_test) # current accuracy\n",
    "        if cur_accuracy < max_accuracy:\n",
    "            select_fea_Ind.remove(random_fea_Ind[j]) # remove the feature if it can decrease the accuracy\n",
    "        else:\n",
    "            max_accuracy = cur_accuracy\n",
    "        \n",
    "    # train the model with the selected features\n",
    "    newData = X.iloc[:, select_fea_Ind].copy()\n",
    "    X_train, X_test, Y_train, Y_test = train_test_split(newData, Y, random_state = i)\n",
    "    clf = KNeighborsClassifier(n_neighbors= 5, weights = 'distance')\n",
    "    fit = clf.fit(X_train, Y_train)\n",
    "    predicted = fit.predict(X_test)\n",
    "    temp_report = classification_report(Y_test, predicted, output_dict = True)\n",
    "    temp_report = pd.DataFrame(temp_report).transpose() # transform the type of the classification report into DataFrame\n",
    "    report = report + temp_report\n",
    "\n",
    "report = report / 10\n",
    "print(report)"
   ]
  },
  {
   "cell_type": "code",
   "execution_count": 131,
   "metadata": {},
   "outputs": [
    {
     "name": "stdout",
     "output_type": "stream",
     "text": [
      "              precision    recall  f1-score    support\n",
      "0              0.932088  0.993333  0.960527  13.000000\n",
      "1              0.975000  0.843095  0.896898   5.000000\n",
      "accuracy       0.944444  0.944444  0.944444   0.944444\n",
      "macro avg      0.953544  0.918214  0.928712  18.000000\n",
      "weighted avg   0.951387  0.944444  0.942903  18.000000\n"
     ]
    }
   ],
   "source": [
    "# Classification report of K Neighbors classifier with k = 7(weight = 'distance')\n",
    "max_accuracy = 0.0 # accuracy of the classifier trained by the selected features\n",
    "random_fea_Ind = shuffle(range(0, fea_number), random_state = 1) # shuffle the order of the index of features\n",
    "report = {'precision':[0,0,0,0,0],'recall':[0,0,0,0,0],'f1-score':[0,0,0,0,0],'support':[0,0,0,0,0]} # for storing classification report\n",
    "report = pd.DataFrame(report)\n",
    "report.index = ['0','1','accuracy','macro avg','weighted avg']\n",
    "for i in range(1, 11): # different training and testing data set\n",
    "    max_accuracy = 0.0\n",
    "    select_fea_Ind = [] # for storing indices of features selected\n",
    "    \n",
    "    for j in range(0, fea_number): # different features\n",
    "        select_fea_Ind.append(random_fea_Ind[j]) # add new feature to test if it can improve the accuracy of the classifier\n",
    "        newData = X.iloc[:, select_fea_Ind].copy()\n",
    "        X_train, X_test, Y_train, Y_test = train_test_split(newData, Y, random_state = i) # split the data set into train and test data set\n",
    "        clf = KNeighborsClassifier(n_neighbors= 7, weights = 'distance') # define the classifier\n",
    "        fit = clf.fit(X_train, Y_train) # train the classifier\n",
    "        cur_accuracy = clf.score(X_test, Y_test) # current accuracy\n",
    "        if cur_accuracy < max_accuracy:\n",
    "            select_fea_Ind.remove(random_fea_Ind[j]) # remove the feature if it can decrease the accuracy\n",
    "        else:\n",
    "            max_accuracy = cur_accuracy\n",
    "        \n",
    "    # train the model with the selected features\n",
    "    newData = X.iloc[:, select_fea_Ind].copy()\n",
    "    X_train, X_test, Y_train, Y_test = train_test_split(newData, Y, random_state = i)\n",
    "    clf = KNeighborsClassifier(n_neighbors= 7, weights = 'distance')\n",
    "    fit = clf.fit(X_train, Y_train)\n",
    "    predicted = fit.predict(X_test)\n",
    "    temp_report = classification_report(Y_test, predicted, output_dict = True)\n",
    "    temp_report = pd.DataFrame(temp_report).transpose() # transform the type of the classification report into DataFrame\n",
    "    report = report + temp_report\n",
    "\n",
    "report = report / 10\n",
    "print(report)"
   ]
  },
  {
   "cell_type": "code",
   "execution_count": 132,
   "metadata": {},
   "outputs": [
    {
     "name": "stdout",
     "output_type": "stream",
     "text": [
      "              precision    recall  f1-score    support\n",
      "0              0.931447  0.991667  0.959642  13.000000\n",
      "1              0.983333  0.843095  0.903608   5.000000\n",
      "accuracy       0.944444  0.944444  0.944444   0.944444\n",
      "macro avg      0.957390  0.917381  0.931625  18.000000\n",
      "weighted avg   0.949571  0.944444  0.942744  18.000000\n"
     ]
    }
   ],
   "source": [
    "# Classification report of K Neighbors classifier with k = 9(weight = 'distance')\n",
    "max_accuracy = 0.0 # accuracy of the classifier trained by the selected features\n",
    "random_fea_Ind = shuffle(range(0, fea_number), random_state = 1) # shuffle the order of the index of features\n",
    "report = {'precision':[0,0,0,0,0],'recall':[0,0,0,0,0],'f1-score':[0,0,0,0,0],'support':[0,0,0,0,0]} # for storing classification report\n",
    "report = pd.DataFrame(report)\n",
    "report.index = ['0','1','accuracy','macro avg','weighted avg']\n",
    "for i in range(1, 11): # different training and testing data set\n",
    "    max_accuracy = 0.0\n",
    "    select_fea_Ind = [] # for storing indices of features selected\n",
    "    \n",
    "    for j in range(0, fea_number): # different features\n",
    "        select_fea_Ind.append(random_fea_Ind[j]) # add new feature to test if it can improve the accuracy of the classifier\n",
    "        newData = X.iloc[:, select_fea_Ind].copy()\n",
    "        X_train, X_test, Y_train, Y_test = train_test_split(newData, Y, random_state = i) # split the data set into train and test data set\n",
    "        clf = KNeighborsClassifier(n_neighbors= 9, weights = 'distance') # define the classifier\n",
    "        fit = clf.fit(X_train, Y_train) # train the classifier\n",
    "        cur_accuracy = clf.score(X_test, Y_test) # current accuracy\n",
    "        if cur_accuracy < max_accuracy:\n",
    "            select_fea_Ind.remove(random_fea_Ind[j]) # remove the feature if it can decrease the accuracy\n",
    "        else:\n",
    "            max_accuracy = cur_accuracy\n",
    "        \n",
    "    # train the model with the selected features\n",
    "    newData = X.iloc[:, select_fea_Ind].copy()\n",
    "    X_train, X_test, Y_train, Y_test = train_test_split(newData, Y, random_state = i)\n",
    "    clf = KNeighborsClassifier(n_neighbors= 9, weights = 'distance')\n",
    "    fit = clf.fit(X_train, Y_train)\n",
    "    predicted = fit.predict(X_test)\n",
    "    temp_report = classification_report(Y_test, predicted, output_dict = True)\n",
    "    temp_report = pd.DataFrame(temp_report).transpose() # transform the type of the classification report into DataFrame\n",
    "    report = report + temp_report\n",
    "\n",
    "report = report / 10\n",
    "print(report)"
   ]
  },
  {
   "cell_type": "markdown",
   "metadata": {},
   "source": [
    "### 3.3 train the Decision Tree classifier with default parameters"
   ]
  },
  {
   "cell_type": "code",
   "execution_count": 133,
   "metadata": {},
   "outputs": [
    {
     "name": "stdout",
     "output_type": "stream",
     "text": [
      "0.9066666666666654\n"
     ]
    }
   ],
   "source": [
    "# Feature selection and train the model of Decision Tree classifier\n",
    "max_accuracy = 0.0 # accuracy of the classifier trained by the selected features\n",
    "random_fea_Ind = shuffle(range(0, fea_number), random_state = 1) # shuffle the order of the index of features\n",
    "accuracy_set = [] # for storing the accuracy of the model performing in different training and testing data set\n",
    "\n",
    "for i in range(1, 11): # different training and testing data set\n",
    "    for j in range(1, 11): # calculate the accuracy of 10 times for each training and testing data set\n",
    "        max_accuracy = 0.0\n",
    "        select_fea_Ind = [] # for storing indices of features selected\n",
    "        for j in range(0, fea_number): # different features\n",
    "            select_fea_Ind.append(random_fea_Ind[j]) # add new feature to test if it can improve the accuracy of the classifier\n",
    "            newData = X.iloc[:, select_fea_Ind].copy()\n",
    "            X_train, X_test, Y_train, Y_test = train_test_split(newData, Y, random_state = i) # split the data set into train and test data set\n",
    "            clf = DecisionTreeClassifier() # define the classifier\n",
    "            fit = clf.fit(X_train, Y_train) # train the classifier\n",
    "            cur_accuracy = clf.score(X_test, Y_test) # current accuracy\n",
    "            if cur_accuracy < max_accuracy:\n",
    "                select_fea_Ind.remove(random_fea_Ind[j]) # remove the feature if it can decrease the accuracy\n",
    "            else:\n",
    "                max_accuracy = cur_accuracy\n",
    "        accuracy_set.append(max_accuracy)\n",
    "print(sum(accuracy_set)/100)"
   ]
  },
  {
   "cell_type": "markdown",
   "metadata": {},
   "source": [
    "### 3.4 show the vistualizaiton of the Decision Tree whose accuracy is equal to 1"
   ]
  },
  {
   "cell_type": "code",
   "execution_count": 134,
   "metadata": {},
   "outputs": [
    {
     "name": "stdout",
     "output_type": "stream",
     "text": [
      "Accuracy with 1 selected features 0.7777777777777778\n",
      "Accuracy with 2 selected features 0.8333333333333334\n",
      "Accuracy with 3 selected features 0.8333333333333334\n",
      "Accuracy with 4 selected features 0.8888888888888888\n",
      "Accuracy with 5 selected features 0.8888888888888888\n",
      "Accuracy with 6 selected features 1.0\n",
      "Accuracy with 7 selected features 1.0\n",
      "Accuracy with 8 selected features 1.0\n"
     ]
    }
   ],
   "source": [
    "# Find the features and training data set that can make accuracy equal to 1\n",
    "select_fea_Ind = []\n",
    "max_accuracy = 0.0\n",
    "random_fea_Ind = shuffle(range(0, fea_number), random_state = 1)\n",
    "\n",
    "for var in range(0, fea_number):\n",
    "    select_fea_Ind.append(random_fea_Ind[var])\n",
    "    newData = X.iloc[:, select_fea_Ind].copy()\n",
    "    X_train, X_test, Y_train, Y_test = train_test_split(newData, Y, random_state = 5)\n",
    "    clf = DecisionTreeClassifier()\n",
    "    fit = clf.fit(X_train, Y_train)\n",
    "    cur_accuracy = clf.score(X_test, Y_test)\n",
    "    if cur_accuracy < max_accuracy:\n",
    "        select_fea_Ind.remove(random_fea_Ind[var])\n",
    "    else:\n",
    "        max_accuracy = cur_accuracy\n",
    "        print(\"Accuracy with \" + str(len(select_fea_Ind)) + \" selected features \" + str(max_accuracy))"
   ]
  },
  {
   "cell_type": "code",
   "execution_count": 135,
   "metadata": {},
   "outputs": [
    {
     "name": "stdout",
     "output_type": "stream",
     "text": [
      "1.0\n"
     ]
    }
   ],
   "source": [
    "# Train the Decision Tree with these features\n",
    "newData = X.iloc[:, select_fea_Ind].copy()\n",
    "X_train, X_test, Y_train, Y_test = train_test_split(newData, Y, random_state = 5)\n",
    "clf = DecisionTreeClassifier(random_state=0)\n",
    "fit = clf.fit(X_train, Y_train)\n",
    "cur_accuracy = clf.score(X_test, Y_test)\n",
    "print(cur_accuracy)"
   ]
  },
  {
   "cell_type": "code",
   "execution_count": 136,
   "metadata": {},
   "outputs": [],
   "source": [
    "# Tree vistualization\n",
    "from sklearn import tree\n",
    "\n",
    "with open(\"cancer_new.dot\", 'w') as f:\n",
    "    f = tree.export_graphviz(clf, out_file=f, feature_names=list(X.iloc[:, select_fea_Ind].columns), \n",
    "                             class_names=['With Cervical Cancer','Without Cervical Cancer'],filled=True, rounded=True, \n",
    "                             special_characters=True)"
   ]
  }
 ],
 "metadata": {
  "kernelspec": {
   "display_name": "Python 3",
   "language": "python",
   "name": "python3"
  },
  "language_info": {
   "codemirror_mode": {
    "name": "ipython",
    "version": 3
   },
   "file_extension": ".py",
   "mimetype": "text/x-python",
   "name": "python",
   "nbconvert_exporter": "python",
   "pygments_lexer": "ipython3",
   "version": "3.8.5"
  }
 },
 "nbformat": 4,
 "nbformat_minor": 4
}
